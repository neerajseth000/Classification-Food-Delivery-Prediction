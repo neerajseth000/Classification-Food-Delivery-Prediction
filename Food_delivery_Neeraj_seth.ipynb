{
 "cells": [
  {
   "cell_type": "code",
   "execution_count": 1,
   "metadata": {},
   "outputs": [],
   "source": [
    "import numpy as np\n",
    "import pandas as pd\n",
    "import matplotlib.pyplot as plt\n",
    "import seaborn as sns \n",
    "import warnings\n",
    "warnings.filterwarnings(\"ignore\")"
   ]
  },
  {
   "cell_type": "code",
   "execution_count": 2,
   "metadata": {},
   "outputs": [],
   "source": [
    "train = pd.read_excel('Data_Train.xlsx')\n"
   ]
  },
  {
   "cell_type": "code",
   "execution_count": 3,
   "metadata": {},
   "outputs": [
    {
     "data": {
      "text/html": [
       "<div>\n",
       "<style scoped>\n",
       "    .dataframe tbody tr th:only-of-type {\n",
       "        vertical-align: middle;\n",
       "    }\n",
       "\n",
       "    .dataframe tbody tr th {\n",
       "        vertical-align: top;\n",
       "    }\n",
       "\n",
       "    .dataframe thead th {\n",
       "        text-align: right;\n",
       "    }\n",
       "</style>\n",
       "<table border=\"1\" class=\"dataframe\">\n",
       "  <thead>\n",
       "    <tr style=\"text-align: right;\">\n",
       "      <th></th>\n",
       "      <th>Restaurant</th>\n",
       "      <th>Location</th>\n",
       "      <th>Cuisines</th>\n",
       "      <th>Average_Cost</th>\n",
       "      <th>Minimum_Order</th>\n",
       "      <th>Rating</th>\n",
       "      <th>Votes</th>\n",
       "      <th>Reviews</th>\n",
       "      <th>Delivery_Time</th>\n",
       "    </tr>\n",
       "  </thead>\n",
       "  <tbody>\n",
       "    <tr>\n",
       "      <th>0</th>\n",
       "      <td>ID_6321</td>\n",
       "      <td>FTI College, Law College Road, Pune</td>\n",
       "      <td>Fast Food, Rolls, Burger, Salad, Wraps</td>\n",
       "      <td>₹200</td>\n",
       "      <td>₹50</td>\n",
       "      <td>3.5</td>\n",
       "      <td>12</td>\n",
       "      <td>4</td>\n",
       "      <td>30 minutes</td>\n",
       "    </tr>\n",
       "    <tr>\n",
       "      <th>1</th>\n",
       "      <td>ID_2882</td>\n",
       "      <td>Sector 3, Marathalli</td>\n",
       "      <td>Ice Cream, Desserts</td>\n",
       "      <td>₹100</td>\n",
       "      <td>₹50</td>\n",
       "      <td>3.5</td>\n",
       "      <td>11</td>\n",
       "      <td>4</td>\n",
       "      <td>30 minutes</td>\n",
       "    </tr>\n",
       "    <tr>\n",
       "      <th>2</th>\n",
       "      <td>ID_1595</td>\n",
       "      <td>Mumbai Central</td>\n",
       "      <td>Italian, Street Food, Fast Food</td>\n",
       "      <td>₹150</td>\n",
       "      <td>₹50</td>\n",
       "      <td>3.6</td>\n",
       "      <td>99</td>\n",
       "      <td>30</td>\n",
       "      <td>65 minutes</td>\n",
       "    </tr>\n",
       "    <tr>\n",
       "      <th>3</th>\n",
       "      <td>ID_5929</td>\n",
       "      <td>Sector 1, Noida</td>\n",
       "      <td>Mughlai, North Indian, Chinese</td>\n",
       "      <td>₹250</td>\n",
       "      <td>₹99</td>\n",
       "      <td>3.7</td>\n",
       "      <td>176</td>\n",
       "      <td>95</td>\n",
       "      <td>30 minutes</td>\n",
       "    </tr>\n",
       "    <tr>\n",
       "      <th>4</th>\n",
       "      <td>ID_6123</td>\n",
       "      <td>Rmz Centennial, I Gate, Whitefield</td>\n",
       "      <td>Cafe, Beverages</td>\n",
       "      <td>₹200</td>\n",
       "      <td>₹99</td>\n",
       "      <td>3.2</td>\n",
       "      <td>521</td>\n",
       "      <td>235</td>\n",
       "      <td>65 minutes</td>\n",
       "    </tr>\n",
       "  </tbody>\n",
       "</table>\n",
       "</div>"
      ],
      "text/plain": [
       "  Restaurant                             Location  \\\n",
       "0    ID_6321  FTI College, Law College Road, Pune   \n",
       "1    ID_2882                 Sector 3, Marathalli   \n",
       "2    ID_1595                       Mumbai Central   \n",
       "3    ID_5929                      Sector 1, Noida   \n",
       "4    ID_6123   Rmz Centennial, I Gate, Whitefield   \n",
       "\n",
       "                                 Cuisines Average_Cost Minimum_Order Rating  \\\n",
       "0  Fast Food, Rolls, Burger, Salad, Wraps         ₹200           ₹50    3.5   \n",
       "1                     Ice Cream, Desserts         ₹100           ₹50    3.5   \n",
       "2         Italian, Street Food, Fast Food         ₹150           ₹50    3.6   \n",
       "3          Mughlai, North Indian, Chinese         ₹250           ₹99    3.7   \n",
       "4                         Cafe, Beverages         ₹200           ₹99    3.2   \n",
       "\n",
       "  Votes Reviews Delivery_Time  \n",
       "0    12       4    30 minutes  \n",
       "1    11       4    30 minutes  \n",
       "2    99      30    65 minutes  \n",
       "3   176      95    30 minutes  \n",
       "4   521     235    65 minutes  "
      ]
     },
     "execution_count": 3,
     "metadata": {},
     "output_type": "execute_result"
    }
   ],
   "source": [
    "train.head()"
   ]
  },
  {
   "cell_type": "code",
   "execution_count": 4,
   "metadata": {},
   "outputs": [
    {
     "data": {
      "text/html": [
       "<div>\n",
       "<style scoped>\n",
       "    .dataframe tbody tr th:only-of-type {\n",
       "        vertical-align: middle;\n",
       "    }\n",
       "\n",
       "    .dataframe tbody tr th {\n",
       "        vertical-align: top;\n",
       "    }\n",
       "\n",
       "    .dataframe thead th {\n",
       "        text-align: right;\n",
       "    }\n",
       "</style>\n",
       "<table border=\"1\" class=\"dataframe\">\n",
       "  <thead>\n",
       "    <tr style=\"text-align: right;\">\n",
       "      <th></th>\n",
       "      <th>Restaurant</th>\n",
       "      <th>Location</th>\n",
       "      <th>Cuisines</th>\n",
       "      <th>Average_Cost</th>\n",
       "      <th>Minimum_Order</th>\n",
       "      <th>Rating</th>\n",
       "      <th>Votes</th>\n",
       "      <th>Reviews</th>\n",
       "    </tr>\n",
       "  </thead>\n",
       "  <tbody>\n",
       "    <tr>\n",
       "      <th>0</th>\n",
       "      <td>ID_2842</td>\n",
       "      <td>Mico Layout, Stage 2, BTM Layout,Bangalore</td>\n",
       "      <td>North Indian, Chinese, Assamese</td>\n",
       "      <td>₹350</td>\n",
       "      <td>₹50</td>\n",
       "      <td>4.2</td>\n",
       "      <td>361</td>\n",
       "      <td>225</td>\n",
       "    </tr>\n",
       "    <tr>\n",
       "      <th>1</th>\n",
       "      <td>ID_730</td>\n",
       "      <td>Mico Layout, Stage 2, BTM Layout,Bangalore</td>\n",
       "      <td>Biryani, Kebab</td>\n",
       "      <td>₹100</td>\n",
       "      <td>₹50</td>\n",
       "      <td>NEW</td>\n",
       "      <td>-</td>\n",
       "      <td>-</td>\n",
       "    </tr>\n",
       "    <tr>\n",
       "      <th>2</th>\n",
       "      <td>ID_4620</td>\n",
       "      <td>Sector 1, Noida</td>\n",
       "      <td>Fast Food</td>\n",
       "      <td>₹100</td>\n",
       "      <td>₹50</td>\n",
       "      <td>3.6</td>\n",
       "      <td>36</td>\n",
       "      <td>16</td>\n",
       "    </tr>\n",
       "    <tr>\n",
       "      <th>3</th>\n",
       "      <td>ID_5470</td>\n",
       "      <td>Babarpur, New Delhi, Delhi</td>\n",
       "      <td>Mithai, North Indian, Chinese, Fast Food, Sout...</td>\n",
       "      <td>₹200</td>\n",
       "      <td>₹50</td>\n",
       "      <td>3.6</td>\n",
       "      <td>66</td>\n",
       "      <td>33</td>\n",
       "    </tr>\n",
       "    <tr>\n",
       "      <th>4</th>\n",
       "      <td>ID_3249</td>\n",
       "      <td>Sector 1, Noida</td>\n",
       "      <td>Chinese, Fast Food</td>\n",
       "      <td>₹150</td>\n",
       "      <td>₹50</td>\n",
       "      <td>2.9</td>\n",
       "      <td>38</td>\n",
       "      <td>14</td>\n",
       "    </tr>\n",
       "  </tbody>\n",
       "</table>\n",
       "</div>"
      ],
      "text/plain": [
       "  Restaurant                                    Location  \\\n",
       "0    ID_2842  Mico Layout, Stage 2, BTM Layout,Bangalore   \n",
       "1     ID_730  Mico Layout, Stage 2, BTM Layout,Bangalore   \n",
       "2    ID_4620                             Sector 1, Noida   \n",
       "3    ID_5470                  Babarpur, New Delhi, Delhi   \n",
       "4    ID_3249                             Sector 1, Noida   \n",
       "\n",
       "                                            Cuisines Average_Cost  \\\n",
       "0                    North Indian, Chinese, Assamese         ₹350   \n",
       "1                                     Biryani, Kebab         ₹100   \n",
       "2                                          Fast Food         ₹100   \n",
       "3  Mithai, North Indian, Chinese, Fast Food, Sout...         ₹200   \n",
       "4                                 Chinese, Fast Food         ₹150   \n",
       "\n",
       "  Minimum_Order Rating Votes Reviews  \n",
       "0           ₹50    4.2   361     225  \n",
       "1           ₹50    NEW     -       -  \n",
       "2           ₹50    3.6    36      16  \n",
       "3           ₹50    3.6    66      33  \n",
       "4           ₹50    2.9    38      14  "
      ]
     },
     "execution_count": 4,
     "metadata": {},
     "output_type": "execute_result"
    }
   ],
   "source": [
    "test = pd.read_excel('Data_Test.xlsx')\n",
    "test.head()"
   ]
  },
  {
   "cell_type": "code",
   "execution_count": 5,
   "metadata": {},
   "outputs": [
    {
     "name": "stdout",
     "output_type": "stream",
     "text": [
      "<class 'pandas.core.frame.DataFrame'>\n",
      "RangeIndex: 11094 entries, 0 to 11093\n",
      "Data columns (total 9 columns):\n",
      "Restaurant       11094 non-null object\n",
      "Location         11094 non-null object\n",
      "Cuisines         11094 non-null object\n",
      "Average_Cost     11094 non-null object\n",
      "Minimum_Order    11094 non-null object\n",
      "Rating           11094 non-null object\n",
      "Votes            11094 non-null object\n",
      "Reviews          11094 non-null object\n",
      "Delivery_Time    11094 non-null object\n",
      "dtypes: object(9)\n",
      "memory usage: 780.1+ KB\n"
     ]
    }
   ],
   "source": [
    "train.info()"
   ]
  },
  {
   "cell_type": "code",
   "execution_count": 6,
   "metadata": {},
   "outputs": [
    {
     "data": {
      "text/plain": [
       "30 minutes     7406\n",
       "45 minutes     2665\n",
       "65 minutes      923\n",
       "120 minutes      62\n",
       "20 minutes       20\n",
       "80 minutes       14\n",
       "10 minutes        4\n",
       "Name: Delivery_Time, dtype: int64"
      ]
     },
     "execution_count": 6,
     "metadata": {},
     "output_type": "execute_result"
    }
   ],
   "source": [
    "train.Delivery_Time.value_counts()"
   ]
  },
  {
   "cell_type": "code",
   "execution_count": 7,
   "metadata": {},
   "outputs": [
    {
     "data": {
      "text/plain": [
       "Mico Layout, Stage 2, BTM Layout,Bangalore          947\n",
       "D-Block, Sector 63, Noida                           806\n",
       "Sector 1, Noida                                     791\n",
       "FTI College, Law College Road, Pune                 584\n",
       "Delhi University-GTB Nagar                          545\n",
       "Laxman Vihar Industrial Area, Sector 3A, Gurgoan    493\n",
       "Sector 14, Noida                                    489\n",
       "Delhi Administration Flats, Timarpur                472\n",
       "Mumbai Central                                      459\n",
       "Rmz Centennial, I Gate, Whitefield                  457\n",
       "Delhi High Court, India Gate                        411\n",
       "MG Road, Pune                                       402\n",
       "Nathan Road, Mangaldas Road, Pune                   372\n",
       "Sandhurst Road, Mumbai CST Area                     370\n",
       "Sector 3, Marathalli                                366\n",
       "Majestic                                            334\n",
       "Delhi Cantt.                                        326\n",
       "Yerawada, Pune, Maharashtra                         307\n",
       "Dockyard Road, Mumbai CST Area                      291\n",
       "Babarpur, New Delhi, Delhi                          282\n",
       "Pune University                                     278\n",
       "Sector 63A,Gurgaon                                  260\n",
       "Moulali, Kolkata                                    137\n",
       "Chandni Chowk, Kolkata                              126\n",
       "Tejas Nagar Colony, Wadala West, Mumbai             109\n",
       "Raja Bazar, Kolkata                                 108\n",
       "Tiretti, Kolkata                                     96\n",
       "Hyderabad Public School, Begumpet                    81\n",
       "Gora Bazar, Rajbari, North Dumdum, Kolkata           79\n",
       "Noorkhan Bazaar, Malakpet, Hyderabad                 68\n",
       "Musi Nagar, Malakpet, Hyderabad                      68\n",
       "Panjetan Colony, Malakpet, Hyderabad                 56\n",
       "Chatta Bazaar, Malakpet, Hyderabad                   54\n",
       "Jaya Nagar, Saidabad, Hyderabad                      48\n",
       "BTM Layout 1, Electronic City                        22\n",
       "Name: Location, dtype: int64"
      ]
     },
     "execution_count": 7,
     "metadata": {},
     "output_type": "execute_result"
    }
   ],
   "source": [
    "train.Location.value_counts()"
   ]
  },
  {
   "cell_type": "code",
   "execution_count": 8,
   "metadata": {},
   "outputs": [
    {
     "data": {
      "text/plain": [
       "<matplotlib.axes._subplots.AxesSubplot at 0x195a0a97b70>"
      ]
     },
     "execution_count": 8,
     "metadata": {},
     "output_type": "execute_result"
    },
    {
     "data": {
      "image/png": "[encoded data removed]",
      "text/plain": [
       "<Figure size 432x288 with 1 Axes>"
      ]
     },
     "metadata": {
      "needs_background": "light"
     },
     "output_type": "display_data"
    }
   ],
   "source": [
    "train.Average_Cost.value_counts().plot(kind='bar')\n"
   ]
  },
  {
   "cell_type": "code",
   "execution_count": 9,
   "metadata": {},
   "outputs": [
    {
     "data": {
      "text/html": [
       "<div>\n",
       "<style scoped>\n",
       "    .dataframe tbody tr th:only-of-type {\n",
       "        vertical-align: middle;\n",
       "    }\n",
       "\n",
       "    .dataframe tbody tr th {\n",
       "        vertical-align: top;\n",
       "    }\n",
       "\n",
       "    .dataframe thead th {\n",
       "        text-align: right;\n",
       "    }\n",
       "</style>\n",
       "<table border=\"1\" class=\"dataframe\">\n",
       "  <thead>\n",
       "    <tr style=\"text-align: right;\">\n",
       "      <th></th>\n",
       "      <th>count</th>\n",
       "      <th>unique</th>\n",
       "      <th>top</th>\n",
       "      <th>freq</th>\n",
       "    </tr>\n",
       "    <tr>\n",
       "      <th>Average_Cost</th>\n",
       "      <th></th>\n",
       "      <th></th>\n",
       "      <th></th>\n",
       "      <th></th>\n",
       "    </tr>\n",
       "  </thead>\n",
       "  <tbody>\n",
       "    <tr>\n",
       "      <th>for</th>\n",
       "      <td>1</td>\n",
       "      <td>1</td>\n",
       "      <td>30 minutes</td>\n",
       "      <td>1</td>\n",
       "    </tr>\n",
       "    <tr>\n",
       "      <th>₹1,000</th>\n",
       "      <td>12</td>\n",
       "      <td>3</td>\n",
       "      <td>30 minutes</td>\n",
       "      <td>7</td>\n",
       "    </tr>\n",
       "    <tr>\n",
       "      <th>₹1,100</th>\n",
       "      <td>1</td>\n",
       "      <td>1</td>\n",
       "      <td>45 minutes</td>\n",
       "      <td>1</td>\n",
       "    </tr>\n",
       "    <tr>\n",
       "      <th>₹1,150</th>\n",
       "      <td>1</td>\n",
       "      <td>1</td>\n",
       "      <td>30 minutes</td>\n",
       "      <td>1</td>\n",
       "    </tr>\n",
       "    <tr>\n",
       "      <th>₹1,200</th>\n",
       "      <td>8</td>\n",
       "      <td>3</td>\n",
       "      <td>65 minutes</td>\n",
       "      <td>4</td>\n",
       "    </tr>\n",
       "    <tr>\n",
       "      <th>₹1,400</th>\n",
       "      <td>1</td>\n",
       "      <td>1</td>\n",
       "      <td>45 minutes</td>\n",
       "      <td>1</td>\n",
       "    </tr>\n",
       "    <tr>\n",
       "      <th>₹100</th>\n",
       "      <td>2557</td>\n",
       "      <td>7</td>\n",
       "      <td>30 minutes</td>\n",
       "      <td>2024</td>\n",
       "    </tr>\n",
       "    <tr>\n",
       "      <th>₹150</th>\n",
       "      <td>2462</td>\n",
       "      <td>7</td>\n",
       "      <td>30 minutes</td>\n",
       "      <td>1793</td>\n",
       "    </tr>\n",
       "    <tr>\n",
       "      <th>₹2,050</th>\n",
       "      <td>1</td>\n",
       "      <td>1</td>\n",
       "      <td>30 minutes</td>\n",
       "      <td>1</td>\n",
       "    </tr>\n",
       "    <tr>\n",
       "      <th>₹200</th>\n",
       "      <td>3241</td>\n",
       "      <td>6</td>\n",
       "      <td>30 minutes</td>\n",
       "      <td>2134</td>\n",
       "    </tr>\n",
       "    <tr>\n",
       "      <th>₹250</th>\n",
       "      <td>881</td>\n",
       "      <td>6</td>\n",
       "      <td>30 minutes</td>\n",
       "      <td>507</td>\n",
       "    </tr>\n",
       "    <tr>\n",
       "      <th>₹300</th>\n",
       "      <td>537</td>\n",
       "      <td>4</td>\n",
       "      <td>30 minutes</td>\n",
       "      <td>232</td>\n",
       "    </tr>\n",
       "    <tr>\n",
       "      <th>₹350</th>\n",
       "      <td>283</td>\n",
       "      <td>4</td>\n",
       "      <td>30 minutes</td>\n",
       "      <td>133</td>\n",
       "    </tr>\n",
       "    <tr>\n",
       "      <th>₹400</th>\n",
       "      <td>282</td>\n",
       "      <td>4</td>\n",
       "      <td>30 minutes</td>\n",
       "      <td>135</td>\n",
       "    </tr>\n",
       "    <tr>\n",
       "      <th>₹450</th>\n",
       "      <td>63</td>\n",
       "      <td>3</td>\n",
       "      <td>45 minutes</td>\n",
       "      <td>32</td>\n",
       "    </tr>\n",
       "    <tr>\n",
       "      <th>₹50</th>\n",
       "      <td>265</td>\n",
       "      <td>4</td>\n",
       "      <td>30 minutes</td>\n",
       "      <td>208</td>\n",
       "    </tr>\n",
       "    <tr>\n",
       "      <th>₹500</th>\n",
       "      <td>101</td>\n",
       "      <td>3</td>\n",
       "      <td>30 minutes</td>\n",
       "      <td>42</td>\n",
       "    </tr>\n",
       "    <tr>\n",
       "      <th>₹550</th>\n",
       "      <td>60</td>\n",
       "      <td>3</td>\n",
       "      <td>45 minutes</td>\n",
       "      <td>27</td>\n",
       "    </tr>\n",
       "    <tr>\n",
       "      <th>₹600</th>\n",
       "      <td>154</td>\n",
       "      <td>3</td>\n",
       "      <td>30 minutes</td>\n",
       "      <td>80</td>\n",
       "    </tr>\n",
       "    <tr>\n",
       "      <th>₹650</th>\n",
       "      <td>55</td>\n",
       "      <td>3</td>\n",
       "      <td>45 minutes</td>\n",
       "      <td>24</td>\n",
       "    </tr>\n",
       "    <tr>\n",
       "      <th>₹700</th>\n",
       "      <td>15</td>\n",
       "      <td>3</td>\n",
       "      <td>45 minutes</td>\n",
       "      <td>10</td>\n",
       "    </tr>\n",
       "    <tr>\n",
       "      <th>₹750</th>\n",
       "      <td>38</td>\n",
       "      <td>3</td>\n",
       "      <td>45 minutes</td>\n",
       "      <td>20</td>\n",
       "    </tr>\n",
       "    <tr>\n",
       "      <th>₹800</th>\n",
       "      <td>44</td>\n",
       "      <td>2</td>\n",
       "      <td>45 minutes</td>\n",
       "      <td>27</td>\n",
       "    </tr>\n",
       "    <tr>\n",
       "      <th>₹850</th>\n",
       "      <td>12</td>\n",
       "      <td>3</td>\n",
       "      <td>45 minutes</td>\n",
       "      <td>7</td>\n",
       "    </tr>\n",
       "    <tr>\n",
       "      <th>₹900</th>\n",
       "      <td>15</td>\n",
       "      <td>3</td>\n",
       "      <td>65 minutes</td>\n",
       "      <td>6</td>\n",
       "    </tr>\n",
       "    <tr>\n",
       "      <th>₹950</th>\n",
       "      <td>4</td>\n",
       "      <td>2</td>\n",
       "      <td>30 minutes</td>\n",
       "      <td>3</td>\n",
       "    </tr>\n",
       "  </tbody>\n",
       "</table>\n",
       "</div>"
      ],
      "text/plain": [
       "             count unique         top  freq\n",
       "Average_Cost                               \n",
       "for              1      1  30 minutes     1\n",
       "₹1,000          12      3  30 minutes     7\n",
       "₹1,100           1      1  45 minutes     1\n",
       "₹1,150           1      1  30 minutes     1\n",
       "₹1,200           8      3  65 minutes     4\n",
       "₹1,400           1      1  45 minutes     1\n",
       "₹100          2557      7  30 minutes  2024\n",
       "₹150          2462      7  30 minutes  1793\n",
       "₹2,050           1      1  30 minutes     1\n",
       "₹200          3241      6  30 minutes  2134\n",
       "₹250           881      6  30 minutes   507\n",
       "₹300           537      4  30 minutes   232\n",
       "₹350           283      4  30 minutes   133\n",
       "₹400           282      4  30 minutes   135\n",
       "₹450            63      3  45 minutes    32\n",
       "₹50            265      4  30 minutes   208\n",
       "₹500           101      3  30 minutes    42\n",
       "₹550            60      3  45 minutes    27\n",
       "₹600           154      3  30 minutes    80\n",
       "₹650            55      3  45 minutes    24\n",
       "₹700            15      3  45 minutes    10\n",
       "₹750            38      3  45 minutes    20\n",
       "₹800            44      2  45 minutes    27\n",
       "₹850            12      3  45 minutes     7\n",
       "₹900            15      3  65 minutes     6\n",
       "₹950             4      2  30 minutes     3"
      ]
     },
     "execution_count": 9,
     "metadata": {},
     "output_type": "execute_result"
    }
   ],
   "source": [
    "train.groupby(\"Average_Cost\")[\"Delivery_Time\"].describe()"
   ]
  },
  {
   "cell_type": "markdown",
   "metadata": {},
   "source": [
    "### Univariate Analysis\n"
   ]
  },
  {
   "cell_type": "code",
   "execution_count": 10,
   "metadata": {},
   "outputs": [],
   "source": [
    "#combine data sets\n",
    "combined=pd.concat([train,test],sort=False,ignore_index=True)"
   ]
  },
  {
   "cell_type": "code",
   "execution_count": 11,
   "metadata": {},
   "outputs": [
    {
     "data": {
      "text/html": [
       "<div>\n",
       "<style scoped>\n",
       "    .dataframe tbody tr th:only-of-type {\n",
       "        vertical-align: middle;\n",
       "    }\n",
       "\n",
       "    .dataframe tbody tr th {\n",
       "        vertical-align: top;\n",
       "    }\n",
       "\n",
       "    .dataframe thead th {\n",
       "        text-align: right;\n",
       "    }\n",
       "</style>\n",
       "<table border=\"1\" class=\"dataframe\">\n",
       "  <thead>\n",
       "    <tr style=\"text-align: right;\">\n",
       "      <th></th>\n",
       "      <th>Restaurant</th>\n",
       "      <th>Location</th>\n",
       "      <th>Cuisines</th>\n",
       "      <th>Average_Cost</th>\n",
       "      <th>Minimum_Order</th>\n",
       "      <th>Rating</th>\n",
       "      <th>Votes</th>\n",
       "      <th>Reviews</th>\n",
       "      <th>Delivery_Time</th>\n",
       "    </tr>\n",
       "  </thead>\n",
       "  <tbody>\n",
       "    <tr>\n",
       "      <th>13863</th>\n",
       "      <td>ID_6342</td>\n",
       "      <td>Delhi University-GTB Nagar</td>\n",
       "      <td>Fast Food, Chinese</td>\n",
       "      <td>₹100</td>\n",
       "      <td>₹50</td>\n",
       "      <td>NEW</td>\n",
       "      <td>-</td>\n",
       "      <td>-</td>\n",
       "      <td>NaN</td>\n",
       "    </tr>\n",
       "    <tr>\n",
       "      <th>13864</th>\n",
       "      <td>ID_8495</td>\n",
       "      <td>Mico Layout, Stage 2, BTM Layout,Bangalore</td>\n",
       "      <td>Continental, North Indian, Desserts, Beverages</td>\n",
       "      <td>₹250</td>\n",
       "      <td>₹50</td>\n",
       "      <td>3.1</td>\n",
       "      <td>5</td>\n",
       "      <td>1</td>\n",
       "      <td>NaN</td>\n",
       "    </tr>\n",
       "    <tr>\n",
       "      <th>13865</th>\n",
       "      <td>ID_7122</td>\n",
       "      <td>Noorkhan Bazaar, Malakpet, Hyderabad</td>\n",
       "      <td>Andhra, South Indian</td>\n",
       "      <td>₹150</td>\n",
       "      <td>₹50</td>\n",
       "      <td>3.0</td>\n",
       "      <td>16</td>\n",
       "      <td>1</td>\n",
       "      <td>NaN</td>\n",
       "    </tr>\n",
       "    <tr>\n",
       "      <th>13866</th>\n",
       "      <td>ID_2475</td>\n",
       "      <td>D-Block, Sector 63, Noida</td>\n",
       "      <td>Bakery</td>\n",
       "      <td>₹100</td>\n",
       "      <td>₹99</td>\n",
       "      <td>3.0</td>\n",
       "      <td>7</td>\n",
       "      <td>2</td>\n",
       "      <td>NaN</td>\n",
       "    </tr>\n",
       "    <tr>\n",
       "      <th>13867</th>\n",
       "      <td>ID_1595</td>\n",
       "      <td>Dockyard Road, Mumbai CST Area</td>\n",
       "      <td>Italian, Street Food, Fast Food</td>\n",
       "      <td>₹150</td>\n",
       "      <td>₹50</td>\n",
       "      <td>3.6</td>\n",
       "      <td>99</td>\n",
       "      <td>30</td>\n",
       "      <td>NaN</td>\n",
       "    </tr>\n",
       "  </tbody>\n",
       "</table>\n",
       "</div>"
      ],
      "text/plain": [
       "      Restaurant                                    Location  \\\n",
       "13863    ID_6342                  Delhi University-GTB Nagar   \n",
       "13864    ID_8495  Mico Layout, Stage 2, BTM Layout,Bangalore   \n",
       "13865    ID_7122        Noorkhan Bazaar, Malakpet, Hyderabad   \n",
       "13866    ID_2475                   D-Block, Sector 63, Noida   \n",
       "13867    ID_1595              Dockyard Road, Mumbai CST Area   \n",
       "\n",
       "                                             Cuisines Average_Cost  \\\n",
       "13863                              Fast Food, Chinese         ₹100   \n",
       "13864  Continental, North Indian, Desserts, Beverages         ₹250   \n",
       "13865                            Andhra, South Indian         ₹150   \n",
       "13866                                          Bakery         ₹100   \n",
       "13867                 Italian, Street Food, Fast Food         ₹150   \n",
       "\n",
       "      Minimum_Order Rating Votes Reviews Delivery_Time  \n",
       "13863           ₹50    NEW     -       -           NaN  \n",
       "13864           ₹50    3.1     5       1           NaN  \n",
       "13865           ₹50    3.0    16       1           NaN  \n",
       "13866           ₹99    3.0     7       2           NaN  \n",
       "13867           ₹50    3.6    99      30           NaN  "
      ]
     },
     "execution_count": 11,
     "metadata": {},
     "output_type": "execute_result"
    }
   ],
   "source": [
    "combined.tail()"
   ]
  },
  {
   "cell_type": "code",
   "execution_count": 12,
   "metadata": {},
   "outputs": [
    {
     "name": "stdout",
     "output_type": "stream",
     "text": [
      "<class 'pandas.core.frame.DataFrame'>\n",
      "RangeIndex: 13868 entries, 0 to 13867\n",
      "Data columns (total 9 columns):\n",
      "Restaurant       13868 non-null object\n",
      "Location         13868 non-null object\n",
      "Cuisines         13868 non-null object\n",
      "Average_Cost     13868 non-null object\n",
      "Minimum_Order    13868 non-null object\n",
      "Rating           13868 non-null object\n",
      "Votes            13868 non-null object\n",
      "Reviews          13868 non-null object\n",
      "Delivery_Time    11094 non-null object\n",
      "dtypes: object(9)\n",
      "memory usage: 975.2+ KB\n"
     ]
    }
   ],
   "source": [
    "combined.info()"
   ]
  },
  {
   "cell_type": "code",
   "execution_count": 13,
   "metadata": {},
   "outputs": [
    {
     "data": {
      "text/plain": [
       "30 minutes     7406\n",
       "45 minutes     2665\n",
       "65 minutes      923\n",
       "120 minutes      62\n",
       "20 minutes       20\n",
       "80 minutes       14\n",
       "10 minutes        4\n",
       "Name: Delivery_Time, dtype: int64"
      ]
     },
     "execution_count": 13,
     "metadata": {},
     "output_type": "execute_result"
    }
   ],
   "source": [
    "#delivary time\n",
    "combined.Delivery_Time.value_counts()"
   ]
  },
  {
   "cell_type": "code",
   "execution_count": 14,
   "metadata": {},
   "outputs": [
    {
     "data": {
      "text/plain": [
       "<matplotlib.axes._subplots.AxesSubplot at 0x195a55a2748>"
      ]
     },
     "execution_count": 14,
     "metadata": {},
     "output_type": "execute_result"
    },
    {
     "data": {
      "image/png": "[encoded data removed]",
      "text/plain": [
       "<Figure size 432x288 with 1 Axes>"
      ]
     },
     "metadata": {
      "needs_background": "light"
     },
     "output_type": "display_data"
    }
   ],
   "source": [
    "combined.Delivery_Time.value_counts().plot(kind='bar')"
   ]
  },
  {
   "cell_type": "code",
   "execution_count": 15,
   "metadata": {},
   "outputs": [
    {
     "data": {
      "text/plain": [
       "Index(['Restaurant', 'Location', 'Cuisines', 'Average_Cost', 'Minimum_Order',\n",
       "       'Rating', 'Votes', 'Reviews', 'Delivery_Time'],\n",
       "      dtype='object')"
      ]
     },
     "execution_count": 15,
     "metadata": {},
     "output_type": "execute_result"
    }
   ],
   "source": [
    "combined.columns"
   ]
  },
  {
   "cell_type": "code",
   "execution_count": 16,
   "metadata": {},
   "outputs": [
    {
     "data": {
      "text/plain": [
       "array(['3.5', '3.6', '3.7', '3.2', '3.8', '4.0', '3.9', '4.2', '-', '2.8',\n",
       "       '3.0', '3.3', '3.1', '4.7', '3.4', '4.1', 'NEW', '2.9', '4.6',\n",
       "       '4.3', '2.6', '4.5', '4.4', '4.8', '2.4', '2.7', '2.5',\n",
       "       'Opening Soon', '2.2', '4.9', '2.3', '2.1', 'Temporarily Closed'],\n",
       "      dtype=object)"
      ]
     },
     "execution_count": 16,
     "metadata": {},
     "output_type": "execute_result"
    }
   ],
   "source": [
    "combined.Rating.unique()"
   ]
  },
  {
   "cell_type": "code",
   "execution_count": 17,
   "metadata": {},
   "outputs": [
    {
     "data": {
      "text/plain": [
       "array(['₹200', '₹100', '₹150', '₹250', '₹650', '₹350', '₹800', '₹50',\n",
       "       '₹400', '₹600', '₹300', '₹750', '₹450', '₹550', '₹1,000', '₹500',\n",
       "       '₹900', '₹1,200', '₹950', '₹850', '₹700', '₹1,150', 'for',\n",
       "       '₹1,100', '₹1,400', '₹2,050'], dtype=object)"
      ]
     },
     "execution_count": 17,
     "metadata": {},
     "output_type": "execute_result"
    }
   ],
   "source": [
    "combined.Average_Cost.unique()"
   ]
  },
  {
   "cell_type": "code",
   "execution_count": 18,
   "metadata": {},
   "outputs": [
    {
     "data": {
      "text/plain": [
       "array(['₹50', '₹99', '₹0', '₹200', '₹450', '₹350', '₹79', '₹400', '₹199',\n",
       "       '₹500', '₹250', '₹150', '₹90', '₹299', '₹300', '₹240', '₹89',\n",
       "       '₹59', '₹149', '₹399'], dtype=object)"
      ]
     },
     "execution_count": 18,
     "metadata": {},
     "output_type": "execute_result"
    }
   ],
   "source": [
    "combined.Minimum_Order.unique()"
   ]
  },
  {
   "cell_type": "code",
   "execution_count": 19,
   "metadata": {},
   "outputs": [
    {
     "data": {
      "text/plain": [
       "50"
      ]
     },
     "execution_count": 19,
     "metadata": {},
     "output_type": "execute_result"
    }
   ],
   "source": [
    "int(combined.Minimum_Order[0].split('₹')[1])"
   ]
  },
  {
   "cell_type": "code",
   "execution_count": 20,
   "metadata": {},
   "outputs": [],
   "source": [
    "mlist=[]\n",
    "for i in combined.Minimum_Order:\n",
    "    mlist.append(int(i.split('₹')[1]))"
   ]
  },
  {
   "cell_type": "code",
   "execution_count": 21,
   "metadata": {},
   "outputs": [],
   "source": [
    "combined['Min_Order_clean']=pd.Series(mlist)"
   ]
  },
  {
   "cell_type": "code",
   "execution_count": 22,
   "metadata": {},
   "outputs": [
    {
     "data": {
      "text/html": [
       "<div>\n",
       "<style scoped>\n",
       "    .dataframe tbody tr th:only-of-type {\n",
       "        vertical-align: middle;\n",
       "    }\n",
       "\n",
       "    .dataframe tbody tr th {\n",
       "        vertical-align: top;\n",
       "    }\n",
       "\n",
       "    .dataframe thead th {\n",
       "        text-align: right;\n",
       "    }\n",
       "</style>\n",
       "<table border=\"1\" class=\"dataframe\">\n",
       "  <thead>\n",
       "    <tr style=\"text-align: right;\">\n",
       "      <th></th>\n",
       "      <th>Restaurant</th>\n",
       "      <th>Location</th>\n",
       "      <th>Cuisines</th>\n",
       "      <th>Average_Cost</th>\n",
       "      <th>Minimum_Order</th>\n",
       "      <th>Rating</th>\n",
       "      <th>Votes</th>\n",
       "      <th>Reviews</th>\n",
       "      <th>Delivery_Time</th>\n",
       "      <th>Min_Order_clean</th>\n",
       "    </tr>\n",
       "  </thead>\n",
       "  <tbody>\n",
       "    <tr>\n",
       "      <th>0</th>\n",
       "      <td>ID_6321</td>\n",
       "      <td>FTI College, Law College Road, Pune</td>\n",
       "      <td>Fast Food, Rolls, Burger, Salad, Wraps</td>\n",
       "      <td>₹200</td>\n",
       "      <td>₹50</td>\n",
       "      <td>3.5</td>\n",
       "      <td>12</td>\n",
       "      <td>4</td>\n",
       "      <td>30 minutes</td>\n",
       "      <td>50</td>\n",
       "    </tr>\n",
       "    <tr>\n",
       "      <th>1</th>\n",
       "      <td>ID_2882</td>\n",
       "      <td>Sector 3, Marathalli</td>\n",
       "      <td>Ice Cream, Desserts</td>\n",
       "      <td>₹100</td>\n",
       "      <td>₹50</td>\n",
       "      <td>3.5</td>\n",
       "      <td>11</td>\n",
       "      <td>4</td>\n",
       "      <td>30 minutes</td>\n",
       "      <td>50</td>\n",
       "    </tr>\n",
       "    <tr>\n",
       "      <th>2</th>\n",
       "      <td>ID_1595</td>\n",
       "      <td>Mumbai Central</td>\n",
       "      <td>Italian, Street Food, Fast Food</td>\n",
       "      <td>₹150</td>\n",
       "      <td>₹50</td>\n",
       "      <td>3.6</td>\n",
       "      <td>99</td>\n",
       "      <td>30</td>\n",
       "      <td>65 minutes</td>\n",
       "      <td>50</td>\n",
       "    </tr>\n",
       "    <tr>\n",
       "      <th>3</th>\n",
       "      <td>ID_5929</td>\n",
       "      <td>Sector 1, Noida</td>\n",
       "      <td>Mughlai, North Indian, Chinese</td>\n",
       "      <td>₹250</td>\n",
       "      <td>₹99</td>\n",
       "      <td>3.7</td>\n",
       "      <td>176</td>\n",
       "      <td>95</td>\n",
       "      <td>30 minutes</td>\n",
       "      <td>99</td>\n",
       "    </tr>\n",
       "    <tr>\n",
       "      <th>4</th>\n",
       "      <td>ID_6123</td>\n",
       "      <td>Rmz Centennial, I Gate, Whitefield</td>\n",
       "      <td>Cafe, Beverages</td>\n",
       "      <td>₹200</td>\n",
       "      <td>₹99</td>\n",
       "      <td>3.2</td>\n",
       "      <td>521</td>\n",
       "      <td>235</td>\n",
       "      <td>65 minutes</td>\n",
       "      <td>99</td>\n",
       "    </tr>\n",
       "  </tbody>\n",
       "</table>\n",
       "</div>"
      ],
      "text/plain": [
       "  Restaurant                             Location  \\\n",
       "0    ID_6321  FTI College, Law College Road, Pune   \n",
       "1    ID_2882                 Sector 3, Marathalli   \n",
       "2    ID_1595                       Mumbai Central   \n",
       "3    ID_5929                      Sector 1, Noida   \n",
       "4    ID_6123   Rmz Centennial, I Gate, Whitefield   \n",
       "\n",
       "                                 Cuisines Average_Cost Minimum_Order Rating  \\\n",
       "0  Fast Food, Rolls, Burger, Salad, Wraps         ₹200           ₹50    3.5   \n",
       "1                     Ice Cream, Desserts         ₹100           ₹50    3.5   \n",
       "2         Italian, Street Food, Fast Food         ₹150           ₹50    3.6   \n",
       "3          Mughlai, North Indian, Chinese         ₹250           ₹99    3.7   \n",
       "4                         Cafe, Beverages         ₹200           ₹99    3.2   \n",
       "\n",
       "  Votes Reviews Delivery_Time  Min_Order_clean  \n",
       "0    12       4    30 minutes               50  \n",
       "1    11       4    30 minutes               50  \n",
       "2    99      30    65 minutes               50  \n",
       "3   176      95    30 minutes               99  \n",
       "4   521     235    65 minutes               99  "
      ]
     },
     "execution_count": 22,
     "metadata": {},
     "output_type": "execute_result"
    }
   ],
   "source": [
    "combined.head()"
   ]
  },
  {
   "cell_type": "code",
   "execution_count": 23,
   "metadata": {},
   "outputs": [],
   "source": [
    "combined.loc[combined.Average_Cost=='for','Average_Cost']='0'"
   ]
  },
  {
   "cell_type": "code",
   "execution_count": 24,
   "metadata": {},
   "outputs": [],
   "source": [
    "mlist1=[]\n",
    "for i in combined.Average_Cost:\n",
    "    mlist1.append(int(i.replace('₹','').replace(',','')))"
   ]
  },
  {
   "cell_type": "code",
   "execution_count": 25,
   "metadata": {},
   "outputs": [],
   "source": [
    "combined['AvgCost_Clean']=pd.Series(mlist1)"
   ]
  },
  {
   "cell_type": "code",
   "execution_count": 26,
   "metadata": {},
   "outputs": [
    {
     "data": {
      "text/html": [
       "<div>\n",
       "<style scoped>\n",
       "    .dataframe tbody tr th:only-of-type {\n",
       "        vertical-align: middle;\n",
       "    }\n",
       "\n",
       "    .dataframe tbody tr th {\n",
       "        vertical-align: top;\n",
       "    }\n",
       "\n",
       "    .dataframe thead th {\n",
       "        text-align: right;\n",
       "    }\n",
       "</style>\n",
       "<table border=\"1\" class=\"dataframe\">\n",
       "  <thead>\n",
       "    <tr style=\"text-align: right;\">\n",
       "      <th></th>\n",
       "      <th>Restaurant</th>\n",
       "      <th>Location</th>\n",
       "      <th>Cuisines</th>\n",
       "      <th>Average_Cost</th>\n",
       "      <th>Minimum_Order</th>\n",
       "      <th>Rating</th>\n",
       "      <th>Votes</th>\n",
       "      <th>Reviews</th>\n",
       "      <th>Delivery_Time</th>\n",
       "      <th>Min_Order_clean</th>\n",
       "      <th>AvgCost_Clean</th>\n",
       "    </tr>\n",
       "  </thead>\n",
       "  <tbody>\n",
       "    <tr>\n",
       "      <th>0</th>\n",
       "      <td>ID_6321</td>\n",
       "      <td>FTI College, Law College Road, Pune</td>\n",
       "      <td>Fast Food, Rolls, Burger, Salad, Wraps</td>\n",
       "      <td>₹200</td>\n",
       "      <td>₹50</td>\n",
       "      <td>3.5</td>\n",
       "      <td>12</td>\n",
       "      <td>4</td>\n",
       "      <td>30 minutes</td>\n",
       "      <td>50</td>\n",
       "      <td>200</td>\n",
       "    </tr>\n",
       "    <tr>\n",
       "      <th>1</th>\n",
       "      <td>ID_2882</td>\n",
       "      <td>Sector 3, Marathalli</td>\n",
       "      <td>Ice Cream, Desserts</td>\n",
       "      <td>₹100</td>\n",
       "      <td>₹50</td>\n",
       "      <td>3.5</td>\n",
       "      <td>11</td>\n",
       "      <td>4</td>\n",
       "      <td>30 minutes</td>\n",
       "      <td>50</td>\n",
       "      <td>100</td>\n",
       "    </tr>\n",
       "    <tr>\n",
       "      <th>2</th>\n",
       "      <td>ID_1595</td>\n",
       "      <td>Mumbai Central</td>\n",
       "      <td>Italian, Street Food, Fast Food</td>\n",
       "      <td>₹150</td>\n",
       "      <td>₹50</td>\n",
       "      <td>3.6</td>\n",
       "      <td>99</td>\n",
       "      <td>30</td>\n",
       "      <td>65 minutes</td>\n",
       "      <td>50</td>\n",
       "      <td>150</td>\n",
       "    </tr>\n",
       "    <tr>\n",
       "      <th>3</th>\n",
       "      <td>ID_5929</td>\n",
       "      <td>Sector 1, Noida</td>\n",
       "      <td>Mughlai, North Indian, Chinese</td>\n",
       "      <td>₹250</td>\n",
       "      <td>₹99</td>\n",
       "      <td>3.7</td>\n",
       "      <td>176</td>\n",
       "      <td>95</td>\n",
       "      <td>30 minutes</td>\n",
       "      <td>99</td>\n",
       "      <td>250</td>\n",
       "    </tr>\n",
       "    <tr>\n",
       "      <th>4</th>\n",
       "      <td>ID_6123</td>\n",
       "      <td>Rmz Centennial, I Gate, Whitefield</td>\n",
       "      <td>Cafe, Beverages</td>\n",
       "      <td>₹200</td>\n",
       "      <td>₹99</td>\n",
       "      <td>3.2</td>\n",
       "      <td>521</td>\n",
       "      <td>235</td>\n",
       "      <td>65 minutes</td>\n",
       "      <td>99</td>\n",
       "      <td>200</td>\n",
       "    </tr>\n",
       "  </tbody>\n",
       "</table>\n",
       "</div>"
      ],
      "text/plain": [
       "  Restaurant                             Location  \\\n",
       "0    ID_6321  FTI College, Law College Road, Pune   \n",
       "1    ID_2882                 Sector 3, Marathalli   \n",
       "2    ID_1595                       Mumbai Central   \n",
       "3    ID_5929                      Sector 1, Noida   \n",
       "4    ID_6123   Rmz Centennial, I Gate, Whitefield   \n",
       "\n",
       "                                 Cuisines Average_Cost Minimum_Order Rating  \\\n",
       "0  Fast Food, Rolls, Burger, Salad, Wraps         ₹200           ₹50    3.5   \n",
       "1                     Ice Cream, Desserts         ₹100           ₹50    3.5   \n",
       "2         Italian, Street Food, Fast Food         ₹150           ₹50    3.6   \n",
       "3          Mughlai, North Indian, Chinese         ₹250           ₹99    3.7   \n",
       "4                         Cafe, Beverages         ₹200           ₹99    3.2   \n",
       "\n",
       "  Votes Reviews Delivery_Time  Min_Order_clean  AvgCost_Clean  \n",
       "0    12       4    30 minutes               50            200  \n",
       "1    11       4    30 minutes               50            100  \n",
       "2    99      30    65 minutes               50            150  \n",
       "3   176      95    30 minutes               99            250  \n",
       "4   521     235    65 minutes               99            200  "
      ]
     },
     "execution_count": 26,
     "metadata": {},
     "output_type": "execute_result"
    }
   ],
   "source": [
    "combined.head()"
   ]
  },
  {
   "cell_type": "code",
   "execution_count": 27,
   "metadata": {},
   "outputs": [
    {
     "data": {
      "text/plain": [
       "array(['FTI College, Law College Road, Pune', 'Sector 3, Marathalli',\n",
       "       'Mumbai Central', 'Sector 1, Noida',\n",
       "       'Rmz Centennial, I Gate, Whitefield', 'Delhi University-GTB Nagar',\n",
       "       'Yerawada, Pune, Maharashtra',\n",
       "       'Delhi Administration Flats, Timarpur', 'Moulali, Kolkata',\n",
       "       'Dockyard Road, Mumbai CST Area', 'Pune University',\n",
       "       'Gora Bazar, Rajbari, North Dumdum, Kolkata',\n",
       "       'D-Block, Sector 63, Noida', 'Sector 14, Noida',\n",
       "       'Mico Layout, Stage 2, BTM Layout,Bangalore',\n",
       "       'Laxman Vihar Industrial Area, Sector 3A, Gurgoan',\n",
       "       'Tiretti, Kolkata', 'Sandhurst Road, Mumbai CST Area',\n",
       "       'MG Road, Pune', 'Hyderabad Public School, Begumpet', 'Majestic',\n",
       "       'Chandni Chowk, Kolkata', 'Delhi High Court, India Gate',\n",
       "       'Chatta Bazaar, Malakpet, Hyderabad', 'Sector 63A,Gurgaon',\n",
       "       'Delhi Cantt.', 'Tejas Nagar Colony, Wadala West, Mumbai',\n",
       "       'Babarpur, New Delhi, Delhi', 'Nathan Road, Mangaldas Road, Pune',\n",
       "       'Panjetan Colony, Malakpet, Hyderabad', 'Raja Bazar, Kolkata',\n",
       "       'Jaya Nagar, Saidabad, Hyderabad',\n",
       "       'Noorkhan Bazaar, Malakpet, Hyderabad',\n",
       "       'Musi Nagar, Malakpet, Hyderabad', 'BTM Layout 1, Electronic City'],\n",
       "      dtype=object)"
      ]
     },
     "execution_count": 27,
     "metadata": {},
     "output_type": "execute_result"
    }
   ],
   "source": [
    "combined.Location.unique()"
   ]
  },
  {
   "cell_type": "code",
   "execution_count": 28,
   "metadata": {},
   "outputs": [
    {
     "data": {
      "text/plain": [
       "Mico Layout, Stage 2, BTM Layout,Bangalore          1158\n",
       "D-Block, Sector 63, Noida                           1027\n",
       "Sector 1, Noida                                      990\n",
       "FTI College, Law College Road, Pune                  734\n",
       "Delhi University-GTB Nagar                           699\n",
       "Sector 14, Noida                                     630\n",
       "Laxman Vihar Industrial Area, Sector 3A, Gurgoan     611\n",
       "Delhi Administration Flats, Timarpur                 602\n",
       "Rmz Centennial, I Gate, Whitefield                   585\n",
       "Mumbai Central                                       578\n",
       "MG Road, Pune                                        509\n",
       "Delhi High Court, India Gate                         504\n",
       "Nathan Road, Mangaldas Road, Pune                    476\n",
       "Sandhurst Road, Mumbai CST Area                      463\n",
       "Sector 3, Marathalli                                 444\n",
       "Majestic                                             411\n",
       "Delhi Cantt.                                         397\n",
       "Yerawada, Pune, Maharashtra                          379\n",
       "Dockyard Road, Mumbai CST Area                       362\n",
       "Pune University                                      344\n",
       "Babarpur, New Delhi, Delhi                           337\n",
       "Sector 63A,Gurgaon                                   323\n",
       "Moulali, Kolkata                                     173\n",
       "Chandni Chowk, Kolkata                               156\n",
       "Raja Bazar, Kolkata                                  138\n",
       "Tejas Nagar Colony, Wadala West, Mumbai              133\n",
       "Tiretti, Kolkata                                     116\n",
       "Gora Bazar, Rajbari, North Dumdum, Kolkata            95\n",
       "Hyderabad Public School, Begumpet                     93\n",
       "Musi Nagar, Malakpet, Hyderabad                       91\n",
       "Noorkhan Bazaar, Malakpet, Hyderabad                  79\n",
       "Panjetan Colony, Malakpet, Hyderabad                  73\n",
       "Chatta Bazaar, Malakpet, Hyderabad                    67\n",
       "Jaya Nagar, Saidabad, Hyderabad                       61\n",
       "BTM Layout 1, Electronic City                         30\n",
       "Name: Location, dtype: int64"
      ]
     },
     "execution_count": 28,
     "metadata": {},
     "output_type": "execute_result"
    }
   ],
   "source": [
    "combined.Location.value_counts()"
   ]
  },
  {
   "cell_type": "code",
   "execution_count": 29,
   "metadata": {},
   "outputs": [],
   "source": [
    "city=[]\n",
    "for i in combined.Location:\n",
    "    city.append(i.split(', ')[-1])"
   ]
  },
  {
   "cell_type": "code",
   "execution_count": 30,
   "metadata": {},
   "outputs": [],
   "source": [
    "combined['Location_Clean']=pd.Series(city)"
   ]
  },
  {
   "cell_type": "code",
   "execution_count": 31,
   "metadata": {},
   "outputs": [
    {
     "data": {
      "text/plain": [
       "array(['Pune', 'Marathalli', 'Mumbai Central', 'Noida', 'Whitefield',\n",
       "       'Delhi University-GTB Nagar', 'Maharashtra', 'Timarpur', 'Kolkata',\n",
       "       'Mumbai CST Area', 'Pune University', 'BTM Layout,Bangalore',\n",
       "       'Gurgoan', 'Begumpet', 'Majestic', 'India Gate', 'Hyderabad',\n",
       "       'Sector 63A,Gurgaon', 'Delhi Cantt.', 'Mumbai', 'Delhi',\n",
       "       'Electronic City'], dtype=object)"
      ]
     },
     "execution_count": 31,
     "metadata": {},
     "output_type": "execute_result"
    }
   ],
   "source": [
    "combined.Location_Clean.unique()"
   ]
  },
  {
   "cell_type": "code",
   "execution_count": 32,
   "metadata": {},
   "outputs": [],
   "source": [
    "combined.Location_Clean.replace(to_replace=['Marathalli','Whitefield','Majestic','BTM Layout,Bangalore','Electronic City'],value=['Bangalore']*5,inplace=True)"
   ]
  },
  {
   "cell_type": "code",
   "execution_count": 33,
   "metadata": {},
   "outputs": [],
   "source": [
    "combined.Location_Clean.replace(to_replace=['Maharashtra','Pune University'],value=['Pune']*2,inplace=True)"
   ]
  },
  {
   "cell_type": "code",
   "execution_count": 34,
   "metadata": {},
   "outputs": [],
   "source": [
    "combined.Location_Clean.replace(to_replace=['Delhi University-GTB Nagar','Timarpur','India Gate','Delhi Cantt.'],value=['Delhi']*4,inplace=True)"
   ]
  },
  {
   "cell_type": "code",
   "execution_count": 35,
   "metadata": {},
   "outputs": [],
   "source": [
    "combined.loc[combined.Location_Clean=='Gurgoan','Location_Clean']='Gurgaon'"
   ]
  },
  {
   "cell_type": "code",
   "execution_count": 36,
   "metadata": {},
   "outputs": [],
   "source": [
    "combined.Location_Clean.replace('Sector 63A,Gurgaon','Gurgaon',inplace=True)"
   ]
  },
  {
   "cell_type": "code",
   "execution_count": 37,
   "metadata": {},
   "outputs": [
    {
     "data": {
      "text/plain": [
       "array(['Pune', 'Bangalore', 'Mumbai Central', 'Noida', 'Delhi', 'Kolkata',\n",
       "       'Mumbai CST Area', 'Gurgaon', 'Begumpet', 'Hyderabad', 'Mumbai'],\n",
       "      dtype=object)"
      ]
     },
     "execution_count": 37,
     "metadata": {},
     "output_type": "execute_result"
    }
   ],
   "source": [
    "combined.Location_Clean.unique()"
   ]
  },
  {
   "cell_type": "code",
   "execution_count": 38,
   "metadata": {},
   "outputs": [],
   "source": [
    "combined.Location_Clean.replace('Begumpet','Hyderabad',inplace=True)"
   ]
  },
  {
   "cell_type": "code",
   "execution_count": 39,
   "metadata": {},
   "outputs": [],
   "source": [
    "combined.Location_Clean.replace(to_replace=['Mumbai Central','Mumbai CST Area'],value=['Mumbai']*2,inplace=True)"
   ]
  },
  {
   "cell_type": "code",
   "execution_count": 40,
   "metadata": {},
   "outputs": [
    {
     "data": {
      "text/plain": [
       "array(['Pune', 'Bangalore', 'Mumbai', 'Noida', 'Delhi', 'Kolkata',\n",
       "       'Gurgaon', 'Hyderabad'], dtype=object)"
      ]
     },
     "execution_count": 40,
     "metadata": {},
     "output_type": "execute_result"
    }
   ],
   "source": [
    "combined.Location_Clean.unique()"
   ]
  },
  {
   "cell_type": "code",
   "execution_count": 41,
   "metadata": {},
   "outputs": [
    {
     "data": {
      "text/plain": [
       "<matplotlib.axes._subplots.AxesSubplot at 0x195a55f0cf8>"
      ]
     },
     "execution_count": 41,
     "metadata": {},
     "output_type": "execute_result"
    },
    {
     "data": {
      "image/png": "[encoded data removed]",
      "text/plain": [
       "<Figure size 432x288 with 1 Axes>"
      ]
     },
     "metadata": {
      "needs_background": "light"
     },
     "output_type": "display_data"
    }
   ],
   "source": [
    "combined.Location_Clean.value_counts().plot(kind='bar')"
   ]
  },
  {
   "cell_type": "code",
   "execution_count": 42,
   "metadata": {},
   "outputs": [
    {
     "data": {
      "text/plain": [
       "2392"
      ]
     },
     "execution_count": 42,
     "metadata": {},
     "output_type": "execute_result"
    }
   ],
   "source": [
    "len(combined.Cuisines.unique())"
   ]
  },
  {
   "cell_type": "code",
   "execution_count": 43,
   "metadata": {},
   "outputs": [
    {
     "data": {
      "text/plain": [
       "North Indian                                                               1076\n",
       "North Indian, Chinese                                                       786\n",
       "Fast Food                                                                   553\n",
       "South Indian                                                                336\n",
       "Chinese                                                                     303\n",
       "Bakery                                                                      219\n",
       "Street Food                                                                 211\n",
       "Bakery, Desserts                                                            200\n",
       "North Indian, Mughlai                                                       192\n",
       "Pizza, Fast Food                                                            171\n",
       "Chinese, North Indian                                                       152\n",
       "Fast Food, Beverages                                                        138\n",
       "North Indian, Fast Food                                                     133\n",
       "Biryani                                                                     132\n",
       "Desserts                                                                    127\n",
       "North Indian, Chinese, Fast Food                                            126\n",
       "Desserts, Beverages                                                         114\n",
       "Biryani, North Indian                                                       110\n",
       "North Indian, Mughlai, Chinese                                               99\n",
       "North Indian, Chinese, Mughlai                                               97\n",
       "Mithai, Street Food                                                          94\n",
       "Chinese, Fast Food                                                           91\n",
       "South Indian, North Indian, Chinese                                          91\n",
       "Bakery, Fast Food                                                            84\n",
       "Burger, Fast Food                                                            83\n",
       "North Indian, South Indian, Chinese                                          82\n",
       "Beverages                                                                    79\n",
       "Rolls                                                                        75\n",
       "North Indian, Chinese, Biryani                                               72\n",
       "Beverages, Fast Food                                                         72\n",
       "                                                                           ... \n",
       "Arabian, Afghan, Chinese, North Indian                                        1\n",
       "North Indian, South Indian, Street Food, Fast Food                            1\n",
       "Biryani, Fast Food, North Indian                                              1\n",
       "European, Italian, Fast Food, Salad, Continental, Beverages, Desserts         1\n",
       "Cafe, Continental, Fast Food, Pizza, Italian, Burger, Chinese, Desserts       1\n",
       "Cafe, American, Fast Food, Beverages, Italian, Mexican, Pizza                 1\n",
       "Awadhi, Kebab                                                                 1\n",
       "Mughlai, Arabian, Seafood, North Indian                                       1\n",
       "North Indian, Chinese, Mughlai, Rolls, Kebab                                  1\n",
       "South Indian, Kerala, Biryani                                                 1\n",
       "North Indian, Mughlai, BBQ                                                    1\n",
       "North Indian, South Indian, Chinese, Desserts                                 1\n",
       "North Indian, Chinese, Mughlai, Mangalorean, Kebab                            1\n",
       "Cafe, Beverages, Italian, Chinese                                             1\n",
       "North Indian, BBQ, Desserts                                                   1\n",
       "Burger, Sandwich, Wraps                                                       1\n",
       "Fast Food, North Indian, Mughlai                                              1\n",
       "Fast Food, Beverages, Burger, Coffee                                          1\n",
       "Desserts, Beverages, Fast Food, Ice Cream                                     1\n",
       "Healthy Food, Fast Food, Sandwich, Beverages                                  1\n",
       "Lebanese, Biryani, Wraps, Rolls, Kebab                                        1\n",
       "Asian, Japanese, Vietnamese, Korean, Chinese, Thai                            1\n",
       "Continental, Mexican, Chinese, North Indian                                   1\n",
       "North Indian, Mughlai, Chinese, Continental, Fast Food, Kebab                 1\n",
       "North Indian, Chinese, Salad, Continental                                     1\n",
       "North Indian, Chinese, Kebab, Biryani                                         1\n",
       "Salad, Burger, Juices                                                         1\n",
       "Kerala, Beverages                                                             1\n",
       "Bakery, Fast Food, Momos                                                      1\n",
       "Continental, South Indian                                                     1\n",
       "Name: Cuisines, Length: 2392, dtype: int64"
      ]
     },
     "execution_count": 43,
     "metadata": {},
     "output_type": "execute_result"
    }
   ],
   "source": [
    "combined.Cuisines.value_counts()\n"
   ]
  },
  {
   "cell_type": "code",
   "execution_count": 44,
   "metadata": {},
   "outputs": [
    {
     "data": {
      "text/plain": [
       "['Fast Food', 'Rolls', 'Burger', 'Salad', 'Wraps']"
      ]
     },
     "execution_count": 44,
     "metadata": {},
     "output_type": "execute_result"
    }
   ],
   "source": [
    "combined.Cuisines[0].split(\", \")"
   ]
  },
  {
   "cell_type": "code",
   "execution_count": 45,
   "metadata": {},
   "outputs": [],
   "source": [
    "food1=[]\n",
    "for i in combined.Cuisines:\n",
    "    food1.append(i.split(\", \"))"
   ]
  },
  {
   "cell_type": "code",
   "execution_count": 46,
   "metadata": {},
   "outputs": [
    {
     "data": {
      "text/html": [
       "<div>\n",
       "<style scoped>\n",
       "    .dataframe tbody tr th:only-of-type {\n",
       "        vertical-align: middle;\n",
       "    }\n",
       "\n",
       "    .dataframe tbody tr th {\n",
       "        vertical-align: top;\n",
       "    }\n",
       "\n",
       "    .dataframe thead th {\n",
       "        text-align: right;\n",
       "    }\n",
       "</style>\n",
       "<table border=\"1\" class=\"dataframe\">\n",
       "  <thead>\n",
       "    <tr style=\"text-align: right;\">\n",
       "      <th></th>\n",
       "      <th>0</th>\n",
       "      <th>1</th>\n",
       "      <th>2</th>\n",
       "      <th>3</th>\n",
       "      <th>4</th>\n",
       "      <th>5</th>\n",
       "      <th>6</th>\n",
       "      <th>7</th>\n",
       "    </tr>\n",
       "  </thead>\n",
       "  <tbody>\n",
       "    <tr>\n",
       "      <th>0</th>\n",
       "      <td>Fast Food</td>\n",
       "      <td>Rolls</td>\n",
       "      <td>Burger</td>\n",
       "      <td>Salad</td>\n",
       "      <td>Wraps</td>\n",
       "      <td>None</td>\n",
       "      <td>None</td>\n",
       "      <td>None</td>\n",
       "    </tr>\n",
       "    <tr>\n",
       "      <th>1</th>\n",
       "      <td>Ice Cream</td>\n",
       "      <td>Desserts</td>\n",
       "      <td>None</td>\n",
       "      <td>None</td>\n",
       "      <td>None</td>\n",
       "      <td>None</td>\n",
       "      <td>None</td>\n",
       "      <td>None</td>\n",
       "    </tr>\n",
       "    <tr>\n",
       "      <th>2</th>\n",
       "      <td>Italian</td>\n",
       "      <td>Street Food</td>\n",
       "      <td>Fast Food</td>\n",
       "      <td>None</td>\n",
       "      <td>None</td>\n",
       "      <td>None</td>\n",
       "      <td>None</td>\n",
       "      <td>None</td>\n",
       "    </tr>\n",
       "    <tr>\n",
       "      <th>3</th>\n",
       "      <td>Mughlai</td>\n",
       "      <td>North Indian</td>\n",
       "      <td>Chinese</td>\n",
       "      <td>None</td>\n",
       "      <td>None</td>\n",
       "      <td>None</td>\n",
       "      <td>None</td>\n",
       "      <td>None</td>\n",
       "    </tr>\n",
       "    <tr>\n",
       "      <th>4</th>\n",
       "      <td>Cafe</td>\n",
       "      <td>Beverages</td>\n",
       "      <td>None</td>\n",
       "      <td>None</td>\n",
       "      <td>None</td>\n",
       "      <td>None</td>\n",
       "      <td>None</td>\n",
       "      <td>None</td>\n",
       "    </tr>\n",
       "  </tbody>\n",
       "</table>\n",
       "</div>"
      ],
      "text/plain": [
       "           0             1          2      3      4     5     6     7\n",
       "0  Fast Food         Rolls     Burger  Salad  Wraps  None  None  None\n",
       "1  Ice Cream      Desserts       None   None   None  None  None  None\n",
       "2    Italian   Street Food  Fast Food   None   None  None  None  None\n",
       "3    Mughlai  North Indian    Chinese   None   None  None  None  None\n",
       "4       Cafe     Beverages       None   None   None  None  None  None"
      ]
     },
     "execution_count": 46,
     "metadata": {},
     "output_type": "execute_result"
    }
   ],
   "source": [
    "df1=pd.DataFrame(food1)\n",
    "df1.head()"
   ]
  },
  {
   "cell_type": "code",
   "execution_count": 47,
   "metadata": {},
   "outputs": [
    {
     "data": {
      "text/plain": [
       "array(['Rolls', 'Desserts', 'Street Food', 'North Indian', 'Beverages',\n",
       "       'Fast Food', 'Thai', 'Chinese', None, 'Mughlai', 'Bihari',\n",
       "       'Ice Cream', 'South Indian', 'Mexican', 'Burmese', 'Italian',\n",
       "       'Mangalorean', 'European', 'Continental', 'Bengali', 'Pizza',\n",
       "       'Hyderabadi', 'Biryani', 'Lucknowi', 'Cafe', 'Burger', 'Bakery',\n",
       "       'Sushi', 'American', 'Juices', 'Cantonese', 'Momos',\n",
       "       'Healthy Food', 'Sandwich', 'Lebanese', 'Spanish', 'Tea',\n",
       "       'Maharashtrian', 'North Eastern', 'Kebab', 'Paan', 'Afghan',\n",
       "       'Asian', 'Mithai', 'Salad', 'Gujarati', 'Seafood', 'Finger Food',\n",
       "       'Brazilian', 'Arabian', 'Chettinad', 'Belgian', 'Naga', 'Awadhi',\n",
       "       'Mediterranean', 'Wraps', 'Tibetan', 'Charcoal Chicken',\n",
       "       'Rajasthani', 'BBQ', 'Coffee', 'Andhra', 'Mishti', 'Bar Food',\n",
       "       'Bubble Tea', 'Nepalese', 'Japanese', 'Vietnamese', 'Indian',\n",
       "       'Malaysian', 'Malwani', 'Steak', 'Korean', 'Roast Chicken',\n",
       "       'Tex-Mex', 'Iranian', 'Odia', 'French', 'Middle Eastern', 'Kerala',\n",
       "       'Modern Indian', 'Raw Meats', 'German'], dtype=object)"
      ]
     },
     "execution_count": 47,
     "metadata": {},
     "output_type": "execute_result"
    }
   ],
   "source": [
    "df1[1].unique()"
   ]
  },
  {
   "cell_type": "code",
   "execution_count": 48,
   "metadata": {},
   "outputs": [],
   "source": [
    "fastfood=['Fast Food','Cafe','Chinese','Burger','Street Food', 'Pizza','Tea', 'Rolls','Momos','Finger Food', 'Sandwich','Bar Food','Wraps','Hot dogs']\n",
    "desserts=['Ice Cream','Mithai','Desserts', 'Bakery','Mishti','Paan','Frozen Yogurt']\n",
    "main=['Italian', 'Mughlai','South Indian','North Indian','Biryani', 'Kerala','Asian','Lucknowi','Bengali','European','Continental', 'Andhra', 'German','Chettinad','Parsi',\n",
    "       'Japanese', 'Salad', 'Tamil', 'North Eastern', 'Maharashtrian','Tibetan', 'Arabian','Konkan', 'Odia','Lebanese', 'American', 'Mediterranean', 'Bohri',\n",
    "       'Mangalorean', 'Thai', 'Healthy Food''Raw Meats', 'Gujarati','Seafood', 'Rajasthani', 'BBQ','Mexican', 'Goan','Afghan', 'Awadhi', 'Malwani', 'Malaysian','Hyderabadi', 'French', 'Modern Indian', 'Sushi','Iranian', 'Brazilian', 'Indian', 'African','Turkish', 'Assamese', 'Naga', 'Middle Eastern', 'Vietnamese',\n",
    "       'Steak','Charcoal Chicken','Nepalese','Cantonese','Belgian','Tex-Mex','Malwani','Burmese','Spanish','Roast Chicken','Indonesian', 'Bangladeshi', 'South American', 'Poké', 'Greek', 'Israeli', 'Sri Lankan']\n",
    "beverage=['Beverages','Juices','Tea','Coffee','Bubble Tea']"
   ]
  },
  {
   "cell_type": "code",
   "execution_count": 49,
   "metadata": {},
   "outputs": [],
   "source": [
    "def food_cat(x):\n",
    "    if(x in fastfood):\n",
    "        return(\"Fast Food\")\n",
    "    elif(x in desserts):\n",
    "        return(\"Deserts\")\n",
    "    elif(x in beverage):\n",
    "        return('Beverages')\n",
    "    else:\n",
    "        return(\"Mains\")\n"
   ]
  },
  {
   "cell_type": "code",
   "execution_count": 50,
   "metadata": {},
   "outputs": [],
   "source": [
    "combined['Cuisines_Clean']=pd.Series(df1[0].apply(food_cat))"
   ]
  },
  {
   "cell_type": "code",
   "execution_count": 51,
   "metadata": {},
   "outputs": [
    {
     "data": {
      "text/html": [
       "<div>\n",
       "<style scoped>\n",
       "    .dataframe tbody tr th:only-of-type {\n",
       "        vertical-align: middle;\n",
       "    }\n",
       "\n",
       "    .dataframe tbody tr th {\n",
       "        vertical-align: top;\n",
       "    }\n",
       "\n",
       "    .dataframe thead th {\n",
       "        text-align: right;\n",
       "    }\n",
       "</style>\n",
       "<table border=\"1\" class=\"dataframe\">\n",
       "  <thead>\n",
       "    <tr style=\"text-align: right;\">\n",
       "      <th></th>\n",
       "      <th>Restaurant</th>\n",
       "      <th>Location</th>\n",
       "      <th>Cuisines</th>\n",
       "      <th>Average_Cost</th>\n",
       "      <th>Minimum_Order</th>\n",
       "      <th>Rating</th>\n",
       "      <th>Votes</th>\n",
       "      <th>Reviews</th>\n",
       "      <th>Delivery_Time</th>\n",
       "      <th>Min_Order_clean</th>\n",
       "      <th>AvgCost_Clean</th>\n",
       "      <th>Location_Clean</th>\n",
       "      <th>Cuisines_Clean</th>\n",
       "    </tr>\n",
       "  </thead>\n",
       "  <tbody>\n",
       "    <tr>\n",
       "      <th>0</th>\n",
       "      <td>ID_6321</td>\n",
       "      <td>FTI College, Law College Road, Pune</td>\n",
       "      <td>Fast Food, Rolls, Burger, Salad, Wraps</td>\n",
       "      <td>₹200</td>\n",
       "      <td>₹50</td>\n",
       "      <td>3.5</td>\n",
       "      <td>12</td>\n",
       "      <td>4</td>\n",
       "      <td>30 minutes</td>\n",
       "      <td>50</td>\n",
       "      <td>200</td>\n",
       "      <td>Pune</td>\n",
       "      <td>Fast Food</td>\n",
       "    </tr>\n",
       "    <tr>\n",
       "      <th>1</th>\n",
       "      <td>ID_2882</td>\n",
       "      <td>Sector 3, Marathalli</td>\n",
       "      <td>Ice Cream, Desserts</td>\n",
       "      <td>₹100</td>\n",
       "      <td>₹50</td>\n",
       "      <td>3.5</td>\n",
       "      <td>11</td>\n",
       "      <td>4</td>\n",
       "      <td>30 minutes</td>\n",
       "      <td>50</td>\n",
       "      <td>100</td>\n",
       "      <td>Bangalore</td>\n",
       "      <td>Deserts</td>\n",
       "    </tr>\n",
       "    <tr>\n",
       "      <th>2</th>\n",
       "      <td>ID_1595</td>\n",
       "      <td>Mumbai Central</td>\n",
       "      <td>Italian, Street Food, Fast Food</td>\n",
       "      <td>₹150</td>\n",
       "      <td>₹50</td>\n",
       "      <td>3.6</td>\n",
       "      <td>99</td>\n",
       "      <td>30</td>\n",
       "      <td>65 minutes</td>\n",
       "      <td>50</td>\n",
       "      <td>150</td>\n",
       "      <td>Mumbai</td>\n",
       "      <td>Mains</td>\n",
       "    </tr>\n",
       "    <tr>\n",
       "      <th>3</th>\n",
       "      <td>ID_5929</td>\n",
       "      <td>Sector 1, Noida</td>\n",
       "      <td>Mughlai, North Indian, Chinese</td>\n",
       "      <td>₹250</td>\n",
       "      <td>₹99</td>\n",
       "      <td>3.7</td>\n",
       "      <td>176</td>\n",
       "      <td>95</td>\n",
       "      <td>30 minutes</td>\n",
       "      <td>99</td>\n",
       "      <td>250</td>\n",
       "      <td>Noida</td>\n",
       "      <td>Mains</td>\n",
       "    </tr>\n",
       "    <tr>\n",
       "      <th>4</th>\n",
       "      <td>ID_6123</td>\n",
       "      <td>Rmz Centennial, I Gate, Whitefield</td>\n",
       "      <td>Cafe, Beverages</td>\n",
       "      <td>₹200</td>\n",
       "      <td>₹99</td>\n",
       "      <td>3.2</td>\n",
       "      <td>521</td>\n",
       "      <td>235</td>\n",
       "      <td>65 minutes</td>\n",
       "      <td>99</td>\n",
       "      <td>200</td>\n",
       "      <td>Bangalore</td>\n",
       "      <td>Fast Food</td>\n",
       "    </tr>\n",
       "  </tbody>\n",
       "</table>\n",
       "</div>"
      ],
      "text/plain": [
       "  Restaurant                             Location  \\\n",
       "0    ID_6321  FTI College, Law College Road, Pune   \n",
       "1    ID_2882                 Sector 3, Marathalli   \n",
       "2    ID_1595                       Mumbai Central   \n",
       "3    ID_5929                      Sector 1, Noida   \n",
       "4    ID_6123   Rmz Centennial, I Gate, Whitefield   \n",
       "\n",
       "                                 Cuisines Average_Cost Minimum_Order Rating  \\\n",
       "0  Fast Food, Rolls, Burger, Salad, Wraps         ₹200           ₹50    3.5   \n",
       "1                     Ice Cream, Desserts         ₹100           ₹50    3.5   \n",
       "2         Italian, Street Food, Fast Food         ₹150           ₹50    3.6   \n",
       "3          Mughlai, North Indian, Chinese         ₹250           ₹99    3.7   \n",
       "4                         Cafe, Beverages         ₹200           ₹99    3.2   \n",
       "\n",
       "  Votes Reviews Delivery_Time  Min_Order_clean  AvgCost_Clean Location_Clean  \\\n",
       "0    12       4    30 minutes               50            200           Pune   \n",
       "1    11       4    30 minutes               50            100      Bangalore   \n",
       "2    99      30    65 minutes               50            150         Mumbai   \n",
       "3   176      95    30 minutes               99            250          Noida   \n",
       "4   521     235    65 minutes               99            200      Bangalore   \n",
       "\n",
       "  Cuisines_Clean  \n",
       "0      Fast Food  \n",
       "1        Deserts  \n",
       "2          Mains  \n",
       "3          Mains  \n",
       "4      Fast Food  "
      ]
     },
     "execution_count": 51,
     "metadata": {},
     "output_type": "execute_result"
    }
   ],
   "source": [
    "combined.head()"
   ]
  },
  {
   "cell_type": "code",
   "execution_count": 52,
   "metadata": {},
   "outputs": [
    {
     "data": {
      "text/html": [
       "<div>\n",
       "<style scoped>\n",
       "    .dataframe tbody tr th:only-of-type {\n",
       "        vertical-align: middle;\n",
       "    }\n",
       "\n",
       "    .dataframe tbody tr th {\n",
       "        vertical-align: top;\n",
       "    }\n",
       "\n",
       "    .dataframe thead th {\n",
       "        text-align: right;\n",
       "    }\n",
       "</style>\n",
       "<table border=\"1\" class=\"dataframe\">\n",
       "  <thead>\n",
       "    <tr style=\"text-align: right;\">\n",
       "      <th></th>\n",
       "      <th>Restaurant</th>\n",
       "      <th>Location</th>\n",
       "      <th>Cuisines</th>\n",
       "      <th>Average_Cost</th>\n",
       "      <th>Minimum_Order</th>\n",
       "      <th>Rating</th>\n",
       "      <th>Votes</th>\n",
       "      <th>Reviews</th>\n",
       "      <th>Delivery_Time</th>\n",
       "      <th>Min_Order_clean</th>\n",
       "      <th>AvgCost_Clean</th>\n",
       "      <th>Location_Clean</th>\n",
       "      <th>Cuisines_Clean</th>\n",
       "    </tr>\n",
       "  </thead>\n",
       "  <tbody>\n",
       "    <tr>\n",
       "      <th>6297</th>\n",
       "      <td>ID_6472</td>\n",
       "      <td>Pune University</td>\n",
       "      <td>Fast Food</td>\n",
       "      <td>0</td>\n",
       "      <td>₹50</td>\n",
       "      <td>NEW</td>\n",
       "      <td>-</td>\n",
       "      <td>-</td>\n",
       "      <td>30 minutes</td>\n",
       "      <td>50</td>\n",
       "      <td>0</td>\n",
       "      <td>Pune</td>\n",
       "      <td>Fast Food</td>\n",
       "    </tr>\n",
       "  </tbody>\n",
       "</table>\n",
       "</div>"
      ],
      "text/plain": [
       "     Restaurant         Location   Cuisines Average_Cost Minimum_Order Rating  \\\n",
       "6297    ID_6472  Pune University  Fast Food            0           ₹50    NEW   \n",
       "\n",
       "     Votes Reviews Delivery_Time  Min_Order_clean  AvgCost_Clean  \\\n",
       "6297     -       -    30 minutes               50              0   \n",
       "\n",
       "     Location_Clean Cuisines_Clean  \n",
       "6297           Pune      Fast Food  "
      ]
     },
     "execution_count": 52,
     "metadata": {},
     "output_type": "execute_result"
    }
   ],
   "source": [
    "combined.loc[combined.Average_Cost=='0']"
   ]
  },
  {
   "cell_type": "code",
   "execution_count": 53,
   "metadata": {},
   "outputs": [
    {
     "data": {
      "text/plain": [
       "count    1016.000000\n",
       "mean      198.375984\n",
       "std       127.440976\n",
       "min         0.000000\n",
       "25%       100.000000\n",
       "50%       150.000000\n",
       "75%       200.000000\n",
       "max      1000.000000\n",
       "Name: AvgCost_Clean, dtype: float64"
      ]
     },
     "execution_count": 53,
     "metadata": {},
     "output_type": "execute_result"
    }
   ],
   "source": [
    "combined[(combined.Location_Clean=='Pune') & (combined.Cuisines_Clean=='Fast Food')]['AvgCost_Clean'].describe()"
   ]
  },
  {
   "cell_type": "code",
   "execution_count": 54,
   "metadata": {},
   "outputs": [],
   "source": [
    "combined.loc[combined.AvgCost_Clean=='0','AvgCost_Clean']=150"
   ]
  },
  {
   "cell_type": "code",
   "execution_count": 55,
   "metadata": {},
   "outputs": [
    {
     "name": "stdout",
     "output_type": "stream",
     "text": [
      "<class 'pandas.core.frame.DataFrame'>\n",
      "RangeIndex: 13868 entries, 0 to 13867\n",
      "Data columns (total 13 columns):\n",
      "Restaurant         13868 non-null object\n",
      "Location           13868 non-null object\n",
      "Cuisines           13868 non-null object\n",
      "Average_Cost       13868 non-null object\n",
      "Minimum_Order      13868 non-null object\n",
      "Rating             13868 non-null object\n",
      "Votes              13868 non-null object\n",
      "Reviews            13868 non-null object\n",
      "Delivery_Time      11094 non-null object\n",
      "Min_Order_clean    13868 non-null int64\n",
      "AvgCost_Clean      13868 non-null int64\n",
      "Location_Clean     13868 non-null object\n",
      "Cuisines_Clean     13868 non-null object\n",
      "dtypes: int64(2), object(11)\n",
      "memory usage: 1.4+ MB\n"
     ]
    }
   ],
   "source": [
    "combined.info()"
   ]
  },
  {
   "cell_type": "code",
   "execution_count": 56,
   "metadata": {},
   "outputs": [
    {
     "data": {
      "text/plain": [
       "array(['3.5', '3.6', '3.7', '3.2', '3.8', '4.0', '3.9', '4.2', '-', '2.8',\n",
       "       '3.0', '3.3', '3.1', '4.7', '3.4', '4.1', 'NEW', '2.9', '4.6',\n",
       "       '4.3', '2.6', '4.5', '4.4', '4.8', '2.4', '2.7', '2.5',\n",
       "       'Opening Soon', '2.2', '4.9', '2.3', '2.1', 'Temporarily Closed'],\n",
       "      dtype=object)"
      ]
     },
     "execution_count": 56,
     "metadata": {},
     "output_type": "execute_result"
    }
   ],
   "source": [
    "combined.Rating.unique()"
   ]
  },
  {
   "cell_type": "code",
   "execution_count": 57,
   "metadata": {},
   "outputs": [],
   "source": [
    "combined.Rating=pd.to_numeric(combined.Rating,errors='coerce')"
   ]
  },
  {
   "cell_type": "code",
   "execution_count": 58,
   "metadata": {},
   "outputs": [
    {
     "data": {
      "text/plain": [
       "count    11398.000000\n",
       "mean         3.610791\n",
       "std          0.413490\n",
       "min          2.100000\n",
       "25%          3.300000\n",
       "50%          3.600000\n",
       "75%          3.900000\n",
       "max          4.900000\n",
       "Name: Rating, dtype: float64"
      ]
     },
     "execution_count": 58,
     "metadata": {},
     "output_type": "execute_result"
    }
   ],
   "source": [
    "combined.Rating.describe()"
   ]
  },
  {
   "cell_type": "code",
   "execution_count": 59,
   "metadata": {},
   "outputs": [],
   "source": [
    "combined.Rating.fillna(value=3.6,inplace=True)"
   ]
  },
  {
   "cell_type": "code",
   "execution_count": 60,
   "metadata": {},
   "outputs": [
    {
     "data": {
      "text/plain": [
       "Restaurant            0\n",
       "Location              0\n",
       "Cuisines              0\n",
       "Average_Cost          0\n",
       "Minimum_Order         0\n",
       "Rating                0\n",
       "Votes                 0\n",
       "Reviews               0\n",
       "Delivery_Time      2774\n",
       "Min_Order_clean       0\n",
       "AvgCost_Clean         0\n",
       "Location_Clean        0\n",
       "Cuisines_Clean        0\n",
       "dtype: int64"
      ]
     },
     "execution_count": 60,
     "metadata": {},
     "output_type": "execute_result"
    }
   ],
   "source": [
    "combined.isnull().sum()"
   ]
  },
  {
   "cell_type": "code",
   "execution_count": 61,
   "metadata": {},
   "outputs": [],
   "source": [
    "combined.Reviews=pd.to_numeric(combined.Reviews,errors='coerce')"
   ]
  },
  {
   "cell_type": "code",
   "execution_count": 62,
   "metadata": {},
   "outputs": [
    {
     "data": {
      "text/plain": [
       "count    10963.000000\n",
       "mean       120.893004\n",
       "std        315.592114\n",
       "min          1.000000\n",
       "25%          7.000000\n",
       "50%         26.000000\n",
       "75%         90.000000\n",
       "max       6504.000000\n",
       "Name: Reviews, dtype: float64"
      ]
     },
     "execution_count": 62,
     "metadata": {},
     "output_type": "execute_result"
    }
   ],
   "source": [
    "combined.Reviews.describe()"
   ]
  },
  {
   "cell_type": "code",
   "execution_count": 63,
   "metadata": {},
   "outputs": [],
   "source": [
    "combined.Reviews.fillna(value=26,inplace=True)"
   ]
  },
  {
   "cell_type": "code",
   "execution_count": 64,
   "metadata": {},
   "outputs": [],
   "source": [
    "combined.Votes=pd.to_numeric(combined.Votes,errors='coerce')"
   ]
  },
  {
   "cell_type": "code",
   "execution_count": 65,
   "metadata": {},
   "outputs": [
    {
     "data": {
      "text/plain": [
       "count    11252.000000\n",
       "mean       241.050036\n",
       "std        549.570301\n",
       "min          3.000000\n",
       "25%         19.000000\n",
       "50%         63.000000\n",
       "75%        214.000000\n",
       "max       9054.000000\n",
       "Name: Votes, dtype: float64"
      ]
     },
     "execution_count": 65,
     "metadata": {},
     "output_type": "execute_result"
    }
   ],
   "source": [
    "combined.Votes.describe()"
   ]
  },
  {
   "cell_type": "code",
   "execution_count": 66,
   "metadata": {},
   "outputs": [],
   "source": [
    "combined.Votes.fillna(value=63,inplace=True)"
   ]
  },
  {
   "cell_type": "code",
   "execution_count": 67,
   "metadata": {},
   "outputs": [],
   "source": [
    "def rating_cat(x):\n",
    "    if(x>=4.5):\n",
    "        return(\"Excellent\")\n",
    "    elif(x>=4.0):\n",
    "        return(\"Very Good\")\n",
    "    elif(x>=3.5):\n",
    "        return(\"Good\")\n",
    "    elif(x>=3.0):\n",
    "        return(\"Average\")\n",
    "    else:\n",
    "        return(\"Poor\")"
   ]
  },
  {
   "cell_type": "code",
   "execution_count": 68,
   "metadata": {},
   "outputs": [],
   "source": [
    "combined[\"Rating_Cat\"]=pd.Series(combined.Rating.apply(rating_cat))"
   ]
  },
  {
   "cell_type": "code",
   "execution_count": 69,
   "metadata": {},
   "outputs": [
    {
     "data": {
      "text/html": [
       "<div>\n",
       "<style scoped>\n",
       "    .dataframe tbody tr th:only-of-type {\n",
       "        vertical-align: middle;\n",
       "    }\n",
       "\n",
       "    .dataframe tbody tr th {\n",
       "        vertical-align: top;\n",
       "    }\n",
       "\n",
       "    .dataframe thead th {\n",
       "        text-align: right;\n",
       "    }\n",
       "</style>\n",
       "<table border=\"1\" class=\"dataframe\">\n",
       "  <thead>\n",
       "    <tr style=\"text-align: right;\">\n",
       "      <th></th>\n",
       "      <th>Restaurant</th>\n",
       "      <th>Location</th>\n",
       "      <th>Cuisines</th>\n",
       "      <th>Average_Cost</th>\n",
       "      <th>Minimum_Order</th>\n",
       "      <th>Rating</th>\n",
       "      <th>Votes</th>\n",
       "      <th>Reviews</th>\n",
       "      <th>Delivery_Time</th>\n",
       "      <th>Min_Order_clean</th>\n",
       "      <th>AvgCost_Clean</th>\n",
       "      <th>Location_Clean</th>\n",
       "      <th>Cuisines_Clean</th>\n",
       "      <th>Rating_Cat</th>\n",
       "    </tr>\n",
       "  </thead>\n",
       "  <tbody>\n",
       "    <tr>\n",
       "      <th>0</th>\n",
       "      <td>ID_6321</td>\n",
       "      <td>FTI College, Law College Road, Pune</td>\n",
       "      <td>Fast Food, Rolls, Burger, Salad, Wraps</td>\n",
       "      <td>₹200</td>\n",
       "      <td>₹50</td>\n",
       "      <td>3.5</td>\n",
       "      <td>12.0</td>\n",
       "      <td>4.0</td>\n",
       "      <td>30 minutes</td>\n",
       "      <td>50</td>\n",
       "      <td>200</td>\n",
       "      <td>Pune</td>\n",
       "      <td>Fast Food</td>\n",
       "      <td>Good</td>\n",
       "    </tr>\n",
       "    <tr>\n",
       "      <th>1</th>\n",
       "      <td>ID_2882</td>\n",
       "      <td>Sector 3, Marathalli</td>\n",
       "      <td>Ice Cream, Desserts</td>\n",
       "      <td>₹100</td>\n",
       "      <td>₹50</td>\n",
       "      <td>3.5</td>\n",
       "      <td>11.0</td>\n",
       "      <td>4.0</td>\n",
       "      <td>30 minutes</td>\n",
       "      <td>50</td>\n",
       "      <td>100</td>\n",
       "      <td>Bangalore</td>\n",
       "      <td>Deserts</td>\n",
       "      <td>Good</td>\n",
       "    </tr>\n",
       "  </tbody>\n",
       "</table>\n",
       "</div>"
      ],
      "text/plain": [
       "  Restaurant                             Location  \\\n",
       "0    ID_6321  FTI College, Law College Road, Pune   \n",
       "1    ID_2882                 Sector 3, Marathalli   \n",
       "\n",
       "                                 Cuisines Average_Cost Minimum_Order  Rating  \\\n",
       "0  Fast Food, Rolls, Burger, Salad, Wraps         ₹200           ₹50     3.5   \n",
       "1                     Ice Cream, Desserts         ₹100           ₹50     3.5   \n",
       "\n",
       "   Votes  Reviews Delivery_Time  Min_Order_clean  AvgCost_Clean  \\\n",
       "0   12.0      4.0    30 minutes               50            200   \n",
       "1   11.0      4.0    30 minutes               50            100   \n",
       "\n",
       "  Location_Clean Cuisines_Clean Rating_Cat  \n",
       "0           Pune      Fast Food       Good  \n",
       "1      Bangalore        Deserts       Good  "
      ]
     },
     "execution_count": 69,
     "metadata": {},
     "output_type": "execute_result"
    }
   ],
   "source": [
    "combined.head(2)"
   ]
  },
  {
   "cell_type": "code",
   "execution_count": 70,
   "metadata": {},
   "outputs": [],
   "source": [
    "newtrain=combined.loc[:train.shape[0]-1]"
   ]
  },
  {
   "cell_type": "code",
   "execution_count": 71,
   "metadata": {},
   "outputs": [
    {
     "data": {
      "text/plain": [
       "(11094, 14)"
      ]
     },
     "execution_count": 71,
     "metadata": {},
     "output_type": "execute_result"
    }
   ],
   "source": [
    "newtrain.shape"
   ]
  },
  {
   "cell_type": "code",
   "execution_count": 72,
   "metadata": {},
   "outputs": [],
   "source": [
    "newtest=combined.loc[11094:combined.shape[0]]"
   ]
  },
  {
   "cell_type": "code",
   "execution_count": 73,
   "metadata": {},
   "outputs": [
    {
     "data": {
      "text/plain": [
       "(2774, 14)"
      ]
     },
     "execution_count": 73,
     "metadata": {},
     "output_type": "execute_result"
    }
   ],
   "source": [
    "newtest.shape"
   ]
  },
  {
   "cell_type": "code",
   "execution_count": 74,
   "metadata": {},
   "outputs": [
    {
     "data": {
      "text/plain": [
       "Index(['Restaurant', 'Location', 'Cuisines', 'Average_Cost', 'Minimum_Order',\n",
       "       'Rating', 'Votes', 'Reviews', 'Delivery_Time', 'Min_Order_clean',\n",
       "       'AvgCost_Clean', 'Location_Clean', 'Cuisines_Clean', 'Rating_Cat'],\n",
       "      dtype='object')"
      ]
     },
     "execution_count": 74,
     "metadata": {},
     "output_type": "execute_result"
    }
   ],
   "source": [
    "newtrain.columns"
   ]
  },
  {
   "cell_type": "code",
   "execution_count": 75,
   "metadata": {},
   "outputs": [],
   "source": [
    "train_new=newtrain.drop(['Restaurant', 'Location', 'Cuisines', 'Average_Cost', 'Minimum_Order'],axis=1)"
   ]
  },
  {
   "cell_type": "code",
   "execution_count": 76,
   "metadata": {},
   "outputs": [],
   "source": [
    "test_new=newtest.drop(['Restaurant', 'Location', 'Cuisines', 'Average_Cost', 'Minimum_Order','Delivery_Time'],axis=1)"
   ]
  },
  {
   "cell_type": "code",
   "execution_count": 77,
   "metadata": {},
   "outputs": [
    {
     "data": {
      "text/html": [
       "<div>\n",
       "<style scoped>\n",
       "    .dataframe tbody tr th:only-of-type {\n",
       "        vertical-align: middle;\n",
       "    }\n",
       "\n",
       "    .dataframe tbody tr th {\n",
       "        vertical-align: top;\n",
       "    }\n",
       "\n",
       "    .dataframe thead th {\n",
       "        text-align: right;\n",
       "    }\n",
       "</style>\n",
       "<table border=\"1\" class=\"dataframe\">\n",
       "  <thead>\n",
       "    <tr style=\"text-align: right;\">\n",
       "      <th></th>\n",
       "      <th>Rating</th>\n",
       "      <th>Votes</th>\n",
       "      <th>Reviews</th>\n",
       "      <th>Delivery_Time</th>\n",
       "      <th>Min_Order_clean</th>\n",
       "      <th>AvgCost_Clean</th>\n",
       "      <th>Location_Clean</th>\n",
       "      <th>Cuisines_Clean</th>\n",
       "      <th>Rating_Cat</th>\n",
       "    </tr>\n",
       "  </thead>\n",
       "  <tbody>\n",
       "    <tr>\n",
       "      <th>0</th>\n",
       "      <td>3.5</td>\n",
       "      <td>12.0</td>\n",
       "      <td>4.0</td>\n",
       "      <td>30 minutes</td>\n",
       "      <td>50</td>\n",
       "      <td>200</td>\n",
       "      <td>Pune</td>\n",
       "      <td>Fast Food</td>\n",
       "      <td>Good</td>\n",
       "    </tr>\n",
       "    <tr>\n",
       "      <th>1</th>\n",
       "      <td>3.5</td>\n",
       "      <td>11.0</td>\n",
       "      <td>4.0</td>\n",
       "      <td>30 minutes</td>\n",
       "      <td>50</td>\n",
       "      <td>100</td>\n",
       "      <td>Bangalore</td>\n",
       "      <td>Deserts</td>\n",
       "      <td>Good</td>\n",
       "    </tr>\n",
       "    <tr>\n",
       "      <th>2</th>\n",
       "      <td>3.6</td>\n",
       "      <td>99.0</td>\n",
       "      <td>30.0</td>\n",
       "      <td>65 minutes</td>\n",
       "      <td>50</td>\n",
       "      <td>150</td>\n",
       "      <td>Mumbai</td>\n",
       "      <td>Mains</td>\n",
       "      <td>Good</td>\n",
       "    </tr>\n",
       "    <tr>\n",
       "      <th>3</th>\n",
       "      <td>3.7</td>\n",
       "      <td>176.0</td>\n",
       "      <td>95.0</td>\n",
       "      <td>30 minutes</td>\n",
       "      <td>99</td>\n",
       "      <td>250</td>\n",
       "      <td>Noida</td>\n",
       "      <td>Mains</td>\n",
       "      <td>Good</td>\n",
       "    </tr>\n",
       "    <tr>\n",
       "      <th>4</th>\n",
       "      <td>3.2</td>\n",
       "      <td>521.0</td>\n",
       "      <td>235.0</td>\n",
       "      <td>65 minutes</td>\n",
       "      <td>99</td>\n",
       "      <td>200</td>\n",
       "      <td>Bangalore</td>\n",
       "      <td>Fast Food</td>\n",
       "      <td>Average</td>\n",
       "    </tr>\n",
       "  </tbody>\n",
       "</table>\n",
       "</div>"
      ],
      "text/plain": [
       "   Rating  Votes  Reviews Delivery_Time  Min_Order_clean  AvgCost_Clean  \\\n",
       "0     3.5   12.0      4.0    30 minutes               50            200   \n",
       "1     3.5   11.0      4.0    30 minutes               50            100   \n",
       "2     3.6   99.0     30.0    65 minutes               50            150   \n",
       "3     3.7  176.0     95.0    30 minutes               99            250   \n",
       "4     3.2  521.0    235.0    65 minutes               99            200   \n",
       "\n",
       "  Location_Clean Cuisines_Clean Rating_Cat  \n",
       "0           Pune      Fast Food       Good  \n",
       "1      Bangalore        Deserts       Good  \n",
       "2         Mumbai          Mains       Good  \n",
       "3          Noida          Mains       Good  \n",
       "4      Bangalore      Fast Food    Average  "
      ]
     },
     "execution_count": 77,
     "metadata": {},
     "output_type": "execute_result"
    }
   ],
   "source": [
    "train_new.head()"
   ]
  },
  {
   "cell_type": "code",
   "execution_count": 78,
   "metadata": {},
   "outputs": [
    {
     "data": {
      "text/plain": [
       "<seaborn.axisgrid.PairGrid at 0x195a6a22dd8>"
      ]
     },
     "execution_count": 78,
     "metadata": {},
     "output_type": "execute_result"
    },
    {
     "data": {
      "image/png": "[encoded data removed]",
      "text/plain": [
       "<Figure size 998.625x900 with 30 Axes>"
      ]
     },
     "metadata": {
      "needs_background": "light"
     },
     "output_type": "display_data"
    }
   ],
   "source": [
    "sns.pairplot(train_new,hue='Delivery_Time')"
   ]
  },
  {
   "cell_type": "raw",
   "metadata": {},
   "source": [
    "### Problem statement: wheather rating has impact on delivery time\n",
    "H0: there is no impact on delivery time vs rating\n",
    "H1: There is impact on delivery time vs rating.\n",
    "\n",
    "### choose level of significance,LOS=0.95 and alpha =0.05\n",
    "\n",
    "rating=neumerical\n",
    "delivery time=categorical\n",
    "use 1 way ANOVA"
   ]
  },
  {
   "cell_type": "code",
   "execution_count": 79,
   "metadata": {},
   "outputs": [],
   "source": [
    "import scipy.stats as stats\n",
    "import statsmodels.api as sms # ANova table \n",
    "from statsmodels.formula.api import ols # regression fit\n",
    "# from scipy.stats import f_oneway"
   ]
  },
  {
   "cell_type": "code",
   "execution_count": 80,
   "metadata": {},
   "outputs": [],
   "source": [
    "model=ols(\"Rating~Delivery_Time\",data=train_new).fit()"
   ]
  },
  {
   "cell_type": "code",
   "execution_count": 81,
   "metadata": {},
   "outputs": [
    {
     "data": {
      "text/html": [
       "<div>\n",
       "<style scoped>\n",
       "    .dataframe tbody tr th:only-of-type {\n",
       "        vertical-align: middle;\n",
       "    }\n",
       "\n",
       "    .dataframe tbody tr th {\n",
       "        vertical-align: top;\n",
       "    }\n",
       "\n",
       "    .dataframe thead th {\n",
       "        text-align: right;\n",
       "    }\n",
       "</style>\n",
       "<table border=\"1\" class=\"dataframe\">\n",
       "  <thead>\n",
       "    <tr style=\"text-align: right;\">\n",
       "      <th></th>\n",
       "      <th>df</th>\n",
       "      <th>sum_sq</th>\n",
       "      <th>mean_sq</th>\n",
       "      <th>F</th>\n",
       "      <th>PR(&gt;F)</th>\n",
       "    </tr>\n",
       "  </thead>\n",
       "  <tbody>\n",
       "    <tr>\n",
       "      <th>Delivery_Time</th>\n",
       "      <td>6.0</td>\n",
       "      <td>51.471247</td>\n",
       "      <td>8.578541</td>\n",
       "      <td>62.727838</td>\n",
       "      <td>7.136598e-77</td>\n",
       "    </tr>\n",
       "    <tr>\n",
       "      <th>Residual</th>\n",
       "      <td>11087.0</td>\n",
       "      <td>1516.237260</td>\n",
       "      <td>0.136758</td>\n",
       "      <td>NaN</td>\n",
       "      <td>NaN</td>\n",
       "    </tr>\n",
       "  </tbody>\n",
       "</table>\n",
       "</div>"
      ],
      "text/plain": [
       "                    df       sum_sq   mean_sq          F        PR(>F)\n",
       "Delivery_Time      6.0    51.471247  8.578541  62.727838  7.136598e-77\n",
       "Residual       11087.0  1516.237260  0.136758        NaN           NaN"
      ]
     },
     "execution_count": 81,
     "metadata": {},
     "output_type": "execute_result"
    }
   ],
   "source": [
    "sms.stats.anova_lm(model)"
   ]
  },
  {
   "cell_type": "code",
   "execution_count": 82,
   "metadata": {},
   "outputs": [],
   "source": [
    "# p-value < 0.05 means fail to reject null hypothesis"
   ]
  },
  {
   "cell_type": "code",
   "execution_count": 83,
   "metadata": {},
   "outputs": [
    {
     "data": {
      "text/html": [
       "<div>\n",
       "<style scoped>\n",
       "    .dataframe tbody tr th:only-of-type {\n",
       "        vertical-align: middle;\n",
       "    }\n",
       "\n",
       "    .dataframe tbody tr th {\n",
       "        vertical-align: top;\n",
       "    }\n",
       "\n",
       "    .dataframe thead th {\n",
       "        text-align: right;\n",
       "    }\n",
       "</style>\n",
       "<table border=\"1\" class=\"dataframe\">\n",
       "  <thead>\n",
       "    <tr style=\"text-align: right;\">\n",
       "      <th></th>\n",
       "      <th>Rating</th>\n",
       "      <th>Votes</th>\n",
       "      <th>Reviews</th>\n",
       "      <th>Delivery_Time</th>\n",
       "      <th>Min_Order_clean</th>\n",
       "      <th>AvgCost_Clean</th>\n",
       "      <th>Location_Clean</th>\n",
       "      <th>Cuisines_Clean</th>\n",
       "      <th>Rating_Cat</th>\n",
       "    </tr>\n",
       "  </thead>\n",
       "  <tbody>\n",
       "    <tr>\n",
       "      <th>0</th>\n",
       "      <td>3.5</td>\n",
       "      <td>12.0</td>\n",
       "      <td>4.0</td>\n",
       "      <td>30 minutes</td>\n",
       "      <td>50</td>\n",
       "      <td>200</td>\n",
       "      <td>Pune</td>\n",
       "      <td>Fast Food</td>\n",
       "      <td>Good</td>\n",
       "    </tr>\n",
       "    <tr>\n",
       "      <th>1</th>\n",
       "      <td>3.5</td>\n",
       "      <td>11.0</td>\n",
       "      <td>4.0</td>\n",
       "      <td>30 minutes</td>\n",
       "      <td>50</td>\n",
       "      <td>100</td>\n",
       "      <td>Bangalore</td>\n",
       "      <td>Deserts</td>\n",
       "      <td>Good</td>\n",
       "    </tr>\n",
       "    <tr>\n",
       "      <th>2</th>\n",
       "      <td>3.6</td>\n",
       "      <td>99.0</td>\n",
       "      <td>30.0</td>\n",
       "      <td>65 minutes</td>\n",
       "      <td>50</td>\n",
       "      <td>150</td>\n",
       "      <td>Mumbai</td>\n",
       "      <td>Mains</td>\n",
       "      <td>Good</td>\n",
       "    </tr>\n",
       "    <tr>\n",
       "      <th>3</th>\n",
       "      <td>3.7</td>\n",
       "      <td>176.0</td>\n",
       "      <td>95.0</td>\n",
       "      <td>30 minutes</td>\n",
       "      <td>99</td>\n",
       "      <td>250</td>\n",
       "      <td>Noida</td>\n",
       "      <td>Mains</td>\n",
       "      <td>Good</td>\n",
       "    </tr>\n",
       "    <tr>\n",
       "      <th>4</th>\n",
       "      <td>3.2</td>\n",
       "      <td>521.0</td>\n",
       "      <td>235.0</td>\n",
       "      <td>65 minutes</td>\n",
       "      <td>99</td>\n",
       "      <td>200</td>\n",
       "      <td>Bangalore</td>\n",
       "      <td>Fast Food</td>\n",
       "      <td>Average</td>\n",
       "    </tr>\n",
       "  </tbody>\n",
       "</table>\n",
       "</div>"
      ],
      "text/plain": [
       "   Rating  Votes  Reviews Delivery_Time  Min_Order_clean  AvgCost_Clean  \\\n",
       "0     3.5   12.0      4.0    30 minutes               50            200   \n",
       "1     3.5   11.0      4.0    30 minutes               50            100   \n",
       "2     3.6   99.0     30.0    65 minutes               50            150   \n",
       "3     3.7  176.0     95.0    30 minutes               99            250   \n",
       "4     3.2  521.0    235.0    65 minutes               99            200   \n",
       "\n",
       "  Location_Clean Cuisines_Clean Rating_Cat  \n",
       "0           Pune      Fast Food       Good  \n",
       "1      Bangalore        Deserts       Good  \n",
       "2         Mumbai          Mains       Good  \n",
       "3          Noida          Mains       Good  \n",
       "4      Bangalore      Fast Food    Average  "
      ]
     },
     "execution_count": 83,
     "metadata": {},
     "output_type": "execute_result"
    }
   ],
   "source": [
    "train_new.head()"
   ]
  },
  {
   "cell_type": "markdown",
   "metadata": {},
   "source": [
    "1. If columns are numericals in nature and no population matrix ig given then t-test is ideal test\n",
    "2. If 1 column is numerical and other is categorical then the variance can be explained by ANOVA\n",
    "3. If both columns are categorical in nature then use chi-square test of goodness of fit.# chi-square test isa right tailed test in nature\n",
    "#### goodness of fit: how much observed data matches with expected value"
   ]
  },
  {
   "cell_type": "code",
   "execution_count": 84,
   "metadata": {},
   "outputs": [
    {
     "data": {
      "text/html": [
       "<div>\n",
       "<style scoped>\n",
       "    .dataframe tbody tr th:only-of-type {\n",
       "        vertical-align: middle;\n",
       "    }\n",
       "\n",
       "    .dataframe tbody tr th {\n",
       "        vertical-align: top;\n",
       "    }\n",
       "\n",
       "    .dataframe thead th {\n",
       "        text-align: right;\n",
       "    }\n",
       "</style>\n",
       "<table border=\"1\" class=\"dataframe\">\n",
       "  <thead>\n",
       "    <tr style=\"text-align: right;\">\n",
       "      <th></th>\n",
       "      <th>Rating</th>\n",
       "      <th>Votes</th>\n",
       "      <th>Reviews</th>\n",
       "      <th>Delivery_Time</th>\n",
       "      <th>Min_Order_clean</th>\n",
       "      <th>AvgCost_Clean</th>\n",
       "      <th>Location_Clean</th>\n",
       "      <th>Cuisines_Clean</th>\n",
       "      <th>Rating_Cat</th>\n",
       "    </tr>\n",
       "  </thead>\n",
       "  <tbody>\n",
       "    <tr>\n",
       "      <th>0</th>\n",
       "      <td>3.5</td>\n",
       "      <td>12.0</td>\n",
       "      <td>4.0</td>\n",
       "      <td>30 minutes</td>\n",
       "      <td>50</td>\n",
       "      <td>200</td>\n",
       "      <td>Pune</td>\n",
       "      <td>Fast Food</td>\n",
       "      <td>Good</td>\n",
       "    </tr>\n",
       "    <tr>\n",
       "      <th>1</th>\n",
       "      <td>3.5</td>\n",
       "      <td>11.0</td>\n",
       "      <td>4.0</td>\n",
       "      <td>30 minutes</td>\n",
       "      <td>50</td>\n",
       "      <td>100</td>\n",
       "      <td>Bangalore</td>\n",
       "      <td>Deserts</td>\n",
       "      <td>Good</td>\n",
       "    </tr>\n",
       "    <tr>\n",
       "      <th>2</th>\n",
       "      <td>3.6</td>\n",
       "      <td>99.0</td>\n",
       "      <td>30.0</td>\n",
       "      <td>65 minutes</td>\n",
       "      <td>50</td>\n",
       "      <td>150</td>\n",
       "      <td>Mumbai</td>\n",
       "      <td>Mains</td>\n",
       "      <td>Good</td>\n",
       "    </tr>\n",
       "    <tr>\n",
       "      <th>3</th>\n",
       "      <td>3.7</td>\n",
       "      <td>176.0</td>\n",
       "      <td>95.0</td>\n",
       "      <td>30 minutes</td>\n",
       "      <td>99</td>\n",
       "      <td>250</td>\n",
       "      <td>Noida</td>\n",
       "      <td>Mains</td>\n",
       "      <td>Good</td>\n",
       "    </tr>\n",
       "    <tr>\n",
       "      <th>4</th>\n",
       "      <td>3.2</td>\n",
       "      <td>521.0</td>\n",
       "      <td>235.0</td>\n",
       "      <td>65 minutes</td>\n",
       "      <td>99</td>\n",
       "      <td>200</td>\n",
       "      <td>Bangalore</td>\n",
       "      <td>Fast Food</td>\n",
       "      <td>Average</td>\n",
       "    </tr>\n",
       "  </tbody>\n",
       "</table>\n",
       "</div>"
      ],
      "text/plain": [
       "   Rating  Votes  Reviews Delivery_Time  Min_Order_clean  AvgCost_Clean  \\\n",
       "0     3.5   12.0      4.0    30 minutes               50            200   \n",
       "1     3.5   11.0      4.0    30 minutes               50            100   \n",
       "2     3.6   99.0     30.0    65 minutes               50            150   \n",
       "3     3.7  176.0     95.0    30 minutes               99            250   \n",
       "4     3.2  521.0    235.0    65 minutes               99            200   \n",
       "\n",
       "  Location_Clean Cuisines_Clean Rating_Cat  \n",
       "0           Pune      Fast Food       Good  \n",
       "1      Bangalore        Deserts       Good  \n",
       "2         Mumbai          Mains       Good  \n",
       "3          Noida          Mains       Good  \n",
       "4      Bangalore      Fast Food    Average  "
      ]
     },
     "execution_count": 84,
     "metadata": {},
     "output_type": "execute_result"
    }
   ],
   "source": [
    "train_new.head()"
   ]
  },
  {
   "cell_type": "code",
   "execution_count": 85,
   "metadata": {},
   "outputs": [
    {
     "data": {
      "text/plain": [
       "30 minutes     7406\n",
       "45 minutes     2665\n",
       "65 minutes      923\n",
       "120 minutes      62\n",
       "20 minutes       20\n",
       "80 minutes       14\n",
       "10 minutes        4\n",
       "Name: Delivery_Time, dtype: int64"
      ]
     },
     "execution_count": 85,
     "metadata": {},
     "output_type": "execute_result"
    }
   ],
   "source": [
    "train_new.Delivery_Time.value_counts()"
   ]
  },
  {
   "cell_type": "code",
   "execution_count": 86,
   "metadata": {},
   "outputs": [],
   "source": [
    "from sklearn.preprocessing import StandardScaler,LabelEncoder"
   ]
  },
  {
   "cell_type": "code",
   "execution_count": 87,
   "metadata": {},
   "outputs": [],
   "source": [
    "le=LabelEncoder()"
   ]
  },
  {
   "cell_type": "code",
   "execution_count": 88,
   "metadata": {},
   "outputs": [],
   "source": [
    "train_new[\"Delivery_Time_coded\"]=le.fit_transform(train_new.Delivery_Time)"
   ]
  },
  {
   "cell_type": "code",
   "execution_count": 89,
   "metadata": {},
   "outputs": [],
   "source": [
    "finaltrain=train_new.drop(\"Delivery_Time\",axis=1)"
   ]
  },
  {
   "cell_type": "code",
   "execution_count": 90,
   "metadata": {},
   "outputs": [
    {
     "data": {
      "text/html": [
       "<div>\n",
       "<style scoped>\n",
       "    .dataframe tbody tr th:only-of-type {\n",
       "        vertical-align: middle;\n",
       "    }\n",
       "\n",
       "    .dataframe tbody tr th {\n",
       "        vertical-align: top;\n",
       "    }\n",
       "\n",
       "    .dataframe thead th {\n",
       "        text-align: right;\n",
       "    }\n",
       "</style>\n",
       "<table border=\"1\" class=\"dataframe\">\n",
       "  <thead>\n",
       "    <tr style=\"text-align: right;\">\n",
       "      <th></th>\n",
       "      <th>Rating</th>\n",
       "      <th>Votes</th>\n",
       "      <th>Reviews</th>\n",
       "      <th>Min_Order_clean</th>\n",
       "      <th>AvgCost_Clean</th>\n",
       "      <th>Location_Clean</th>\n",
       "      <th>Cuisines_Clean</th>\n",
       "      <th>Rating_Cat</th>\n",
       "      <th>Delivery_Time_coded</th>\n",
       "    </tr>\n",
       "  </thead>\n",
       "  <tbody>\n",
       "    <tr>\n",
       "      <th>0</th>\n",
       "      <td>3.5</td>\n",
       "      <td>12.0</td>\n",
       "      <td>4.0</td>\n",
       "      <td>50</td>\n",
       "      <td>200</td>\n",
       "      <td>Pune</td>\n",
       "      <td>Fast Food</td>\n",
       "      <td>Good</td>\n",
       "      <td>3</td>\n",
       "    </tr>\n",
       "    <tr>\n",
       "      <th>1</th>\n",
       "      <td>3.5</td>\n",
       "      <td>11.0</td>\n",
       "      <td>4.0</td>\n",
       "      <td>50</td>\n",
       "      <td>100</td>\n",
       "      <td>Bangalore</td>\n",
       "      <td>Deserts</td>\n",
       "      <td>Good</td>\n",
       "      <td>3</td>\n",
       "    </tr>\n",
       "    <tr>\n",
       "      <th>2</th>\n",
       "      <td>3.6</td>\n",
       "      <td>99.0</td>\n",
       "      <td>30.0</td>\n",
       "      <td>50</td>\n",
       "      <td>150</td>\n",
       "      <td>Mumbai</td>\n",
       "      <td>Mains</td>\n",
       "      <td>Good</td>\n",
       "      <td>5</td>\n",
       "    </tr>\n",
       "    <tr>\n",
       "      <th>3</th>\n",
       "      <td>3.7</td>\n",
       "      <td>176.0</td>\n",
       "      <td>95.0</td>\n",
       "      <td>99</td>\n",
       "      <td>250</td>\n",
       "      <td>Noida</td>\n",
       "      <td>Mains</td>\n",
       "      <td>Good</td>\n",
       "      <td>3</td>\n",
       "    </tr>\n",
       "    <tr>\n",
       "      <th>4</th>\n",
       "      <td>3.2</td>\n",
       "      <td>521.0</td>\n",
       "      <td>235.0</td>\n",
       "      <td>99</td>\n",
       "      <td>200</td>\n",
       "      <td>Bangalore</td>\n",
       "      <td>Fast Food</td>\n",
       "      <td>Average</td>\n",
       "      <td>5</td>\n",
       "    </tr>\n",
       "  </tbody>\n",
       "</table>\n",
       "</div>"
      ],
      "text/plain": [
       "   Rating  Votes  Reviews  Min_Order_clean  AvgCost_Clean Location_Clean  \\\n",
       "0     3.5   12.0      4.0               50            200           Pune   \n",
       "1     3.5   11.0      4.0               50            100      Bangalore   \n",
       "2     3.6   99.0     30.0               50            150         Mumbai   \n",
       "3     3.7  176.0     95.0               99            250          Noida   \n",
       "4     3.2  521.0    235.0               99            200      Bangalore   \n",
       "\n",
       "  Cuisines_Clean Rating_Cat  Delivery_Time_coded  \n",
       "0      Fast Food       Good                    3  \n",
       "1        Deserts       Good                    3  \n",
       "2          Mains       Good                    5  \n",
       "3          Mains       Good                    3  \n",
       "4      Fast Food    Average                    5  "
      ]
     },
     "execution_count": 90,
     "metadata": {},
     "output_type": "execute_result"
    }
   ],
   "source": [
    "finaltrain.head()"
   ]
  },
  {
   "cell_type": "code",
   "execution_count": 91,
   "metadata": {},
   "outputs": [],
   "source": [
    "# train_new1=train_new.copy()"
   ]
  },
  {
   "cell_type": "code",
   "execution_count": 92,
   "metadata": {},
   "outputs": [],
   "source": [
    "# train_new1.Delivery_Time=train_new1.Delivery_Time.str.replace(\"10 minutes\",\"0\")\n",
    "# train_new1.Delivery_Time=train_new1.Delivery_Time.str.replace(\"20 minutes\",\"1\")\n",
    "# train_new1.Delivery_Time=train_new1.Delivery_Time.str.replace(\"30 minutes\",\"2\")\n",
    "# train_new1.Delivery_Time=train_new1.Delivery_Time.str.replace(\"45 minutes\",\"3\")\n",
    "# train_new1.Delivery_Time=train_new1.Delivery_Time.str.replace(\"65 minutes\",\"4\")\n",
    "# train_new1.Delivery_Time=train_new1.Delivery_Time.str.replace(\"80 minutes\",\"5\")\n",
    "# train_new1.Delivery_Time=train_new1.Delivery_Time.str.replace(\"120 minutes\",\"6\")"
   ]
  },
  {
   "cell_type": "code",
   "execution_count": 93,
   "metadata": {},
   "outputs": [],
   "source": [
    "# train_new1.Delivery_Time=train_new1.Delivery_Time.astype(int)"
   ]
  },
  {
   "cell_type": "code",
   "execution_count": 94,
   "metadata": {},
   "outputs": [],
   "source": [
    "# train_new1.head()"
   ]
  },
  {
   "cell_type": "code",
   "execution_count": 95,
   "metadata": {},
   "outputs": [],
   "source": [
    "# train_new1.corr()[\"Delivery_Time\"]"
   ]
  },
  {
   "cell_type": "code",
   "execution_count": 96,
   "metadata": {},
   "outputs": [],
   "source": [
    "# train_new1.corr()"
   ]
  },
  {
   "cell_type": "code",
   "execution_count": 97,
   "metadata": {},
   "outputs": [
    {
     "name": "stdout",
     "output_type": "stream",
     "text": [
      "<class 'pandas.core.frame.DataFrame'>\n",
      "RangeIndex: 11094 entries, 0 to 11093\n",
      "Data columns (total 9 columns):\n",
      "Rating                 11094 non-null float64\n",
      "Votes                  11094 non-null float64\n",
      "Reviews                11094 non-null float64\n",
      "Min_Order_clean        11094 non-null int64\n",
      "AvgCost_Clean          11094 non-null int64\n",
      "Location_Clean         11094 non-null object\n",
      "Cuisines_Clean         11094 non-null object\n",
      "Rating_Cat             11094 non-null object\n",
      "Delivery_Time_coded    11094 non-null int32\n",
      "dtypes: float64(3), int32(1), int64(2), object(3)\n",
      "memory usage: 736.8+ KB\n"
     ]
    }
   ],
   "source": [
    "finaltrain.info()"
   ]
  },
  {
   "cell_type": "code",
   "execution_count": 98,
   "metadata": {},
   "outputs": [],
   "source": [
    "dummytrain=pd.get_dummies(finaltrain)"
   ]
  },
  {
   "cell_type": "code",
   "execution_count": 99,
   "metadata": {},
   "outputs": [
    {
     "name": "stdout",
     "output_type": "stream",
     "text": [
      "(11094, 9)\n",
      "(11094, 23)\n"
     ]
    }
   ],
   "source": [
    "print(finaltrain.shape)\n",
    "print(dummytrain.shape)"
   ]
  },
  {
   "cell_type": "code",
   "execution_count": 100,
   "metadata": {},
   "outputs": [
    {
     "data": {
      "text/html": [
       "<div>\n",
       "<style scoped>\n",
       "    .dataframe tbody tr th:only-of-type {\n",
       "        vertical-align: middle;\n",
       "    }\n",
       "\n",
       "    .dataframe tbody tr th {\n",
       "        vertical-align: top;\n",
       "    }\n",
       "\n",
       "    .dataframe thead th {\n",
       "        text-align: right;\n",
       "    }\n",
       "</style>\n",
       "<table border=\"1\" class=\"dataframe\">\n",
       "  <thead>\n",
       "    <tr style=\"text-align: right;\">\n",
       "      <th></th>\n",
       "      <th>Rating</th>\n",
       "      <th>Votes</th>\n",
       "      <th>Reviews</th>\n",
       "      <th>Min_Order_clean</th>\n",
       "      <th>AvgCost_Clean</th>\n",
       "      <th>Delivery_Time_coded</th>\n",
       "      <th>Location_Clean_Bangalore</th>\n",
       "      <th>Location_Clean_Delhi</th>\n",
       "      <th>Location_Clean_Gurgaon</th>\n",
       "      <th>Location_Clean_Hyderabad</th>\n",
       "      <th>...</th>\n",
       "      <th>Location_Clean_Pune</th>\n",
       "      <th>Cuisines_Clean_Beverages</th>\n",
       "      <th>Cuisines_Clean_Deserts</th>\n",
       "      <th>Cuisines_Clean_Fast Food</th>\n",
       "      <th>Cuisines_Clean_Mains</th>\n",
       "      <th>Rating_Cat_Average</th>\n",
       "      <th>Rating_Cat_Excellent</th>\n",
       "      <th>Rating_Cat_Good</th>\n",
       "      <th>Rating_Cat_Poor</th>\n",
       "      <th>Rating_Cat_Very Good</th>\n",
       "    </tr>\n",
       "  </thead>\n",
       "  <tbody>\n",
       "    <tr>\n",
       "      <th>0</th>\n",
       "      <td>3.5</td>\n",
       "      <td>12.0</td>\n",
       "      <td>4.0</td>\n",
       "      <td>50</td>\n",
       "      <td>200</td>\n",
       "      <td>3</td>\n",
       "      <td>0</td>\n",
       "      <td>0</td>\n",
       "      <td>0</td>\n",
       "      <td>0</td>\n",
       "      <td>...</td>\n",
       "      <td>1</td>\n",
       "      <td>0</td>\n",
       "      <td>0</td>\n",
       "      <td>1</td>\n",
       "      <td>0</td>\n",
       "      <td>0</td>\n",
       "      <td>0</td>\n",
       "      <td>1</td>\n",
       "      <td>0</td>\n",
       "      <td>0</td>\n",
       "    </tr>\n",
       "    <tr>\n",
       "      <th>1</th>\n",
       "      <td>3.5</td>\n",
       "      <td>11.0</td>\n",
       "      <td>4.0</td>\n",
       "      <td>50</td>\n",
       "      <td>100</td>\n",
       "      <td>3</td>\n",
       "      <td>1</td>\n",
       "      <td>0</td>\n",
       "      <td>0</td>\n",
       "      <td>0</td>\n",
       "      <td>...</td>\n",
       "      <td>0</td>\n",
       "      <td>0</td>\n",
       "      <td>1</td>\n",
       "      <td>0</td>\n",
       "      <td>0</td>\n",
       "      <td>0</td>\n",
       "      <td>0</td>\n",
       "      <td>1</td>\n",
       "      <td>0</td>\n",
       "      <td>0</td>\n",
       "    </tr>\n",
       "    <tr>\n",
       "      <th>2</th>\n",
       "      <td>3.6</td>\n",
       "      <td>99.0</td>\n",
       "      <td>30.0</td>\n",
       "      <td>50</td>\n",
       "      <td>150</td>\n",
       "      <td>5</td>\n",
       "      <td>0</td>\n",
       "      <td>0</td>\n",
       "      <td>0</td>\n",
       "      <td>0</td>\n",
       "      <td>...</td>\n",
       "      <td>0</td>\n",
       "      <td>0</td>\n",
       "      <td>0</td>\n",
       "      <td>0</td>\n",
       "      <td>1</td>\n",
       "      <td>0</td>\n",
       "      <td>0</td>\n",
       "      <td>1</td>\n",
       "      <td>0</td>\n",
       "      <td>0</td>\n",
       "    </tr>\n",
       "    <tr>\n",
       "      <th>3</th>\n",
       "      <td>3.7</td>\n",
       "      <td>176.0</td>\n",
       "      <td>95.0</td>\n",
       "      <td>99</td>\n",
       "      <td>250</td>\n",
       "      <td>3</td>\n",
       "      <td>0</td>\n",
       "      <td>0</td>\n",
       "      <td>0</td>\n",
       "      <td>0</td>\n",
       "      <td>...</td>\n",
       "      <td>0</td>\n",
       "      <td>0</td>\n",
       "      <td>0</td>\n",
       "      <td>0</td>\n",
       "      <td>1</td>\n",
       "      <td>0</td>\n",
       "      <td>0</td>\n",
       "      <td>1</td>\n",
       "      <td>0</td>\n",
       "      <td>0</td>\n",
       "    </tr>\n",
       "    <tr>\n",
       "      <th>4</th>\n",
       "      <td>3.2</td>\n",
       "      <td>521.0</td>\n",
       "      <td>235.0</td>\n",
       "      <td>99</td>\n",
       "      <td>200</td>\n",
       "      <td>5</td>\n",
       "      <td>1</td>\n",
       "      <td>0</td>\n",
       "      <td>0</td>\n",
       "      <td>0</td>\n",
       "      <td>...</td>\n",
       "      <td>0</td>\n",
       "      <td>0</td>\n",
       "      <td>0</td>\n",
       "      <td>1</td>\n",
       "      <td>0</td>\n",
       "      <td>1</td>\n",
       "      <td>0</td>\n",
       "      <td>0</td>\n",
       "      <td>0</td>\n",
       "      <td>0</td>\n",
       "    </tr>\n",
       "  </tbody>\n",
       "</table>\n",
       "<p>5 rows × 23 columns</p>\n",
       "</div>"
      ],
      "text/plain": [
       "   Rating  Votes  Reviews  Min_Order_clean  AvgCost_Clean  \\\n",
       "0     3.5   12.0      4.0               50            200   \n",
       "1     3.5   11.0      4.0               50            100   \n",
       "2     3.6   99.0     30.0               50            150   \n",
       "3     3.7  176.0     95.0               99            250   \n",
       "4     3.2  521.0    235.0               99            200   \n",
       "\n",
       "   Delivery_Time_coded  Location_Clean_Bangalore  Location_Clean_Delhi  \\\n",
       "0                    3                         0                     0   \n",
       "1                    3                         1                     0   \n",
       "2                    5                         0                     0   \n",
       "3                    3                         0                     0   \n",
       "4                    5                         1                     0   \n",
       "\n",
       "   Location_Clean_Gurgaon  Location_Clean_Hyderabad  ...  Location_Clean_Pune  \\\n",
       "0                       0                         0  ...                    1   \n",
       "1                       0                         0  ...                    0   \n",
       "2                       0                         0  ...                    0   \n",
       "3                       0                         0  ...                    0   \n",
       "4                       0                         0  ...                    0   \n",
       "\n",
       "   Cuisines_Clean_Beverages  Cuisines_Clean_Deserts  Cuisines_Clean_Fast Food  \\\n",
       "0                         0                       0                         1   \n",
       "1                         0                       1                         0   \n",
       "2                         0                       0                         0   \n",
       "3                         0                       0                         0   \n",
       "4                         0                       0                         1   \n",
       "\n",
       "   Cuisines_Clean_Mains  Rating_Cat_Average  Rating_Cat_Excellent  \\\n",
       "0                     0                   0                     0   \n",
       "1                     0                   0                     0   \n",
       "2                     1                   0                     0   \n",
       "3                     1                   0                     0   \n",
       "4                     0                   1                     0   \n",
       "\n",
       "   Rating_Cat_Good  Rating_Cat_Poor  Rating_Cat_Very Good  \n",
       "0                1                0                     0  \n",
       "1                1                0                     0  \n",
       "2                1                0                     0  \n",
       "3                1                0                     0  \n",
       "4                0                0                     0  \n",
       "\n",
       "[5 rows x 23 columns]"
      ]
     },
     "execution_count": 100,
     "metadata": {},
     "output_type": "execute_result"
    }
   ],
   "source": [
    "dummytrain.head()"
   ]
  },
  {
   "cell_type": "code",
   "execution_count": 101,
   "metadata": {},
   "outputs": [],
   "source": [
    "from sklearn.model_selection import train_test_split"
   ]
  },
  {
   "cell_type": "code",
   "execution_count": 102,
   "metadata": {},
   "outputs": [],
   "source": [
    "x=dummytrain.drop(\"Delivery_Time_coded\",axis=1)\n",
    "y=dummytrain.Delivery_Time_coded"
   ]
  },
  {
   "cell_type": "code",
   "execution_count": 103,
   "metadata": {},
   "outputs": [],
   "source": [
    "# x=dummytrain.drop(\"Rating\",axis=1)"
   ]
  },
  {
   "cell_type": "code",
   "execution_count": 104,
   "metadata": {},
   "outputs": [],
   "source": [
    "xtrain,xtest,ytrain,ytest=train_test_split(x,y,test_size=0.20,random_state=123)"
   ]
  },
  {
   "cell_type": "code",
   "execution_count": 105,
   "metadata": {},
   "outputs": [],
   "source": [
    "from sklearn.preprocessing import StandardScaler\n",
    "sc=StandardScaler()"
   ]
  },
  {
   "cell_type": "code",
   "execution_count": 106,
   "metadata": {},
   "outputs": [
    {
     "data": {
      "text/html": [
       "<div>\n",
       "<style scoped>\n",
       "    .dataframe tbody tr th:only-of-type {\n",
       "        vertical-align: middle;\n",
       "    }\n",
       "\n",
       "    .dataframe tbody tr th {\n",
       "        vertical-align: top;\n",
       "    }\n",
       "\n",
       "    .dataframe thead th {\n",
       "        text-align: right;\n",
       "    }\n",
       "</style>\n",
       "<table border=\"1\" class=\"dataframe\">\n",
       "  <thead>\n",
       "    <tr style=\"text-align: right;\">\n",
       "      <th></th>\n",
       "      <th>Rating</th>\n",
       "      <th>Votes</th>\n",
       "      <th>Reviews</th>\n",
       "      <th>Min_Order_clean</th>\n",
       "      <th>AvgCost_Clean</th>\n",
       "      <th>Location_Clean_Bangalore</th>\n",
       "      <th>Location_Clean_Delhi</th>\n",
       "      <th>Location_Clean_Gurgaon</th>\n",
       "      <th>Location_Clean_Hyderabad</th>\n",
       "      <th>Location_Clean_Kolkata</th>\n",
       "      <th>...</th>\n",
       "      <th>Location_Clean_Pune</th>\n",
       "      <th>Cuisines_Clean_Beverages</th>\n",
       "      <th>Cuisines_Clean_Deserts</th>\n",
       "      <th>Cuisines_Clean_Fast Food</th>\n",
       "      <th>Cuisines_Clean_Mains</th>\n",
       "      <th>Rating_Cat_Average</th>\n",
       "      <th>Rating_Cat_Excellent</th>\n",
       "      <th>Rating_Cat_Good</th>\n",
       "      <th>Rating_Cat_Poor</th>\n",
       "      <th>Rating_Cat_Very Good</th>\n",
       "    </tr>\n",
       "  </thead>\n",
       "  <tbody>\n",
       "    <tr>\n",
       "      <th>0</th>\n",
       "      <td>-0.036508</td>\n",
       "      <td>0.014104</td>\n",
       "      <td>-0.004227</td>\n",
       "      <td>-0.178950</td>\n",
       "      <td>-0.027449</td>\n",
       "      <td>-0.484987</td>\n",
       "      <td>-0.471826</td>\n",
       "      <td>-0.268791</td>\n",
       "      <td>-0.189291</td>\n",
       "      <td>-0.228394</td>\n",
       "      <td>...</td>\n",
       "      <td>2.175593</td>\n",
       "      <td>-0.185749</td>\n",
       "      <td>-0.375161</td>\n",
       "      <td>1.429529</td>\n",
       "      <td>-1.029854</td>\n",
       "      <td>-0.551185</td>\n",
       "      <td>-0.129328</td>\n",
       "      <td>0.917842</td>\n",
       "      <td>-0.22399</td>\n",
       "      <td>-0.436436</td>\n",
       "    </tr>\n",
       "    <tr>\n",
       "      <th>1</th>\n",
       "      <td>-0.300793</td>\n",
       "      <td>-0.210916</td>\n",
       "      <td>-0.210371</td>\n",
       "      <td>2.533425</td>\n",
       "      <td>0.735013</td>\n",
       "      <td>-0.484987</td>\n",
       "      <td>-0.471826</td>\n",
       "      <td>3.720368</td>\n",
       "      <td>-0.189291</td>\n",
       "      <td>-0.228394</td>\n",
       "      <td>...</td>\n",
       "      <td>-0.459645</td>\n",
       "      <td>-0.185749</td>\n",
       "      <td>-0.375161</td>\n",
       "      <td>1.429529</td>\n",
       "      <td>-1.029854</td>\n",
       "      <td>-0.551185</td>\n",
       "      <td>-0.129328</td>\n",
       "      <td>0.917842</td>\n",
       "      <td>-0.22399</td>\n",
       "      <td>-0.436436</td>\n",
       "    </tr>\n",
       "    <tr>\n",
       "      <th>2</th>\n",
       "      <td>-1.622216</td>\n",
       "      <td>-0.298878</td>\n",
       "      <td>-0.270793</td>\n",
       "      <td>-0.178950</td>\n",
       "      <td>-0.027449</td>\n",
       "      <td>-0.484987</td>\n",
       "      <td>-0.471826</td>\n",
       "      <td>-0.268791</td>\n",
       "      <td>-0.189291</td>\n",
       "      <td>4.378408</td>\n",
       "      <td>...</td>\n",
       "      <td>-0.459645</td>\n",
       "      <td>-0.185749</td>\n",
       "      <td>-0.375161</td>\n",
       "      <td>-0.699531</td>\n",
       "      <td>0.971012</td>\n",
       "      <td>1.814273</td>\n",
       "      <td>-0.129328</td>\n",
       "      <td>-1.089513</td>\n",
       "      <td>-0.22399</td>\n",
       "      <td>-0.436436</td>\n",
       "    </tr>\n",
       "    <tr>\n",
       "      <th>3</th>\n",
       "      <td>1.813484</td>\n",
       "      <td>0.083656</td>\n",
       "      <td>0.066857</td>\n",
       "      <td>-0.178950</td>\n",
       "      <td>-0.027449</td>\n",
       "      <td>-0.484987</td>\n",
       "      <td>2.119423</td>\n",
       "      <td>-0.268791</td>\n",
       "      <td>-0.189291</td>\n",
       "      <td>-0.228394</td>\n",
       "      <td>...</td>\n",
       "      <td>-0.459645</td>\n",
       "      <td>-0.185749</td>\n",
       "      <td>-0.375161</td>\n",
       "      <td>-0.699531</td>\n",
       "      <td>0.971012</td>\n",
       "      <td>-0.551185</td>\n",
       "      <td>-0.129328</td>\n",
       "      <td>-1.089513</td>\n",
       "      <td>-0.22399</td>\n",
       "      <td>2.291288</td>\n",
       "    </tr>\n",
       "    <tr>\n",
       "      <th>4</th>\n",
       "      <td>0.756345</td>\n",
       "      <td>0.230942</td>\n",
       "      <td>0.226797</td>\n",
       "      <td>-0.178950</td>\n",
       "      <td>-0.027449</td>\n",
       "      <td>2.061912</td>\n",
       "      <td>-0.471826</td>\n",
       "      <td>-0.268791</td>\n",
       "      <td>-0.189291</td>\n",
       "      <td>-0.228394</td>\n",
       "      <td>...</td>\n",
       "      <td>-0.459645</td>\n",
       "      <td>-0.185749</td>\n",
       "      <td>-0.375161</td>\n",
       "      <td>-0.699531</td>\n",
       "      <td>0.971012</td>\n",
       "      <td>-0.551185</td>\n",
       "      <td>-0.129328</td>\n",
       "      <td>0.917842</td>\n",
       "      <td>-0.22399</td>\n",
       "      <td>-0.436436</td>\n",
       "    </tr>\n",
       "  </tbody>\n",
       "</table>\n",
       "<p>5 rows × 22 columns</p>\n",
       "</div>"
      ],
      "text/plain": [
       "     Rating     Votes   Reviews  Min_Order_clean  AvgCost_Clean  \\\n",
       "0 -0.036508  0.014104 -0.004227        -0.178950      -0.027449   \n",
       "1 -0.300793 -0.210916 -0.210371         2.533425       0.735013   \n",
       "2 -1.622216 -0.298878 -0.270793        -0.178950      -0.027449   \n",
       "3  1.813484  0.083656  0.066857        -0.178950      -0.027449   \n",
       "4  0.756345  0.230942  0.226797        -0.178950      -0.027449   \n",
       "\n",
       "   Location_Clean_Bangalore  Location_Clean_Delhi  Location_Clean_Gurgaon  \\\n",
       "0                 -0.484987             -0.471826               -0.268791   \n",
       "1                 -0.484987             -0.471826                3.720368   \n",
       "2                 -0.484987             -0.471826               -0.268791   \n",
       "3                 -0.484987              2.119423               -0.268791   \n",
       "4                  2.061912             -0.471826               -0.268791   \n",
       "\n",
       "   Location_Clean_Hyderabad  Location_Clean_Kolkata  ...  Location_Clean_Pune  \\\n",
       "0                 -0.189291               -0.228394  ...             2.175593   \n",
       "1                 -0.189291               -0.228394  ...            -0.459645   \n",
       "2                 -0.189291                4.378408  ...            -0.459645   \n",
       "3                 -0.189291               -0.228394  ...            -0.459645   \n",
       "4                 -0.189291               -0.228394  ...            -0.459645   \n",
       "\n",
       "   Cuisines_Clean_Beverages  Cuisines_Clean_Deserts  Cuisines_Clean_Fast Food  \\\n",
       "0                 -0.185749               -0.375161                  1.429529   \n",
       "1                 -0.185749               -0.375161                  1.429529   \n",
       "2                 -0.185749               -0.375161                 -0.699531   \n",
       "3                 -0.185749               -0.375161                 -0.699531   \n",
       "4                 -0.185749               -0.375161                 -0.699531   \n",
       "\n",
       "   Cuisines_Clean_Mains  Rating_Cat_Average  Rating_Cat_Excellent  \\\n",
       "0             -1.029854           -0.551185             -0.129328   \n",
       "1             -1.029854           -0.551185             -0.129328   \n",
       "2              0.971012            1.814273             -0.129328   \n",
       "3              0.971012           -0.551185             -0.129328   \n",
       "4              0.971012           -0.551185             -0.129328   \n",
       "\n",
       "   Rating_Cat_Good  Rating_Cat_Poor  Rating_Cat_Very Good  \n",
       "0         0.917842         -0.22399             -0.436436  \n",
       "1         0.917842         -0.22399             -0.436436  \n",
       "2        -1.089513         -0.22399             -0.436436  \n",
       "3        -1.089513         -0.22399              2.291288  \n",
       "4         0.917842         -0.22399             -0.436436  \n",
       "\n",
       "[5 rows x 22 columns]"
      ]
     },
     "execution_count": 106,
     "metadata": {},
     "output_type": "execute_result"
    }
   ],
   "source": [
    "scaled_train = pd.DataFrame(sc.fit_transform(xtrain),columns=xtrain.columns)\n",
    "scaled_train.head()"
   ]
  },
  {
   "cell_type": "code",
   "execution_count": 107,
   "metadata": {},
   "outputs": [
    {
     "data": {
      "text/html": [
       "<div>\n",
       "<style scoped>\n",
       "    .dataframe tbody tr th:only-of-type {\n",
       "        vertical-align: middle;\n",
       "    }\n",
       "\n",
       "    .dataframe tbody tr th {\n",
       "        vertical-align: top;\n",
       "    }\n",
       "\n",
       "    .dataframe thead th {\n",
       "        text-align: right;\n",
       "    }\n",
       "</style>\n",
       "<table border=\"1\" class=\"dataframe\">\n",
       "  <thead>\n",
       "    <tr style=\"text-align: right;\">\n",
       "      <th></th>\n",
       "      <th>Rating</th>\n",
       "      <th>Votes</th>\n",
       "      <th>Reviews</th>\n",
       "      <th>Min_Order_clean</th>\n",
       "      <th>AvgCost_Clean</th>\n",
       "      <th>Location_Clean_Bangalore</th>\n",
       "      <th>Location_Clean_Delhi</th>\n",
       "      <th>Location_Clean_Gurgaon</th>\n",
       "      <th>Location_Clean_Hyderabad</th>\n",
       "      <th>Location_Clean_Kolkata</th>\n",
       "      <th>...</th>\n",
       "      <th>Location_Clean_Pune</th>\n",
       "      <th>Cuisines_Clean_Beverages</th>\n",
       "      <th>Cuisines_Clean_Deserts</th>\n",
       "      <th>Cuisines_Clean_Fast Food</th>\n",
       "      <th>Cuisines_Clean_Mains</th>\n",
       "      <th>Rating_Cat_Average</th>\n",
       "      <th>Rating_Cat_Excellent</th>\n",
       "      <th>Rating_Cat_Good</th>\n",
       "      <th>Rating_Cat_Poor</th>\n",
       "      <th>Rating_Cat_Very Good</th>\n",
       "    </tr>\n",
       "  </thead>\n",
       "  <tbody>\n",
       "    <tr>\n",
       "      <th>0</th>\n",
       "      <td>0.492061</td>\n",
       "      <td>-0.319334</td>\n",
       "      <td>-0.288564</td>\n",
       "      <td>-0.178950</td>\n",
       "      <td>-0.027449</td>\n",
       "      <td>-0.484987</td>\n",
       "      <td>-0.471826</td>\n",
       "      <td>-0.268791</td>\n",
       "      <td>-0.189291</td>\n",
       "      <td>-0.228394</td>\n",
       "      <td>...</td>\n",
       "      <td>2.175593</td>\n",
       "      <td>-0.185749</td>\n",
       "      <td>-0.375161</td>\n",
       "      <td>-0.699531</td>\n",
       "      <td>0.971012</td>\n",
       "      <td>-0.551185</td>\n",
       "      <td>-0.129328</td>\n",
       "      <td>0.917842</td>\n",
       "      <td>-0.22399</td>\n",
       "      <td>-0.436436</td>\n",
       "    </tr>\n",
       "    <tr>\n",
       "      <th>1</th>\n",
       "      <td>0.492061</td>\n",
       "      <td>-0.047265</td>\n",
       "      <td>-0.146395</td>\n",
       "      <td>-0.178950</td>\n",
       "      <td>1.116244</td>\n",
       "      <td>-0.484987</td>\n",
       "      <td>-0.471826</td>\n",
       "      <td>-0.268791</td>\n",
       "      <td>-0.189291</td>\n",
       "      <td>-0.228394</td>\n",
       "      <td>...</td>\n",
       "      <td>-0.459645</td>\n",
       "      <td>-0.185749</td>\n",
       "      <td>-0.375161</td>\n",
       "      <td>-0.699531</td>\n",
       "      <td>0.971012</td>\n",
       "      <td>-0.551185</td>\n",
       "      <td>-0.129328</td>\n",
       "      <td>0.917842</td>\n",
       "      <td>-0.22399</td>\n",
       "      <td>-0.436436</td>\n",
       "    </tr>\n",
       "    <tr>\n",
       "      <th>2</th>\n",
       "      <td>1.284914</td>\n",
       "      <td>-0.155683</td>\n",
       "      <td>-0.075311</td>\n",
       "      <td>2.533425</td>\n",
       "      <td>-0.027449</td>\n",
       "      <td>-0.484987</td>\n",
       "      <td>-0.471826</td>\n",
       "      <td>3.720368</td>\n",
       "      <td>-0.189291</td>\n",
       "      <td>-0.228394</td>\n",
       "      <td>...</td>\n",
       "      <td>-0.459645</td>\n",
       "      <td>-0.185749</td>\n",
       "      <td>-0.375161</td>\n",
       "      <td>-0.699531</td>\n",
       "      <td>0.971012</td>\n",
       "      <td>-0.551185</td>\n",
       "      <td>-0.129328</td>\n",
       "      <td>-1.089513</td>\n",
       "      <td>-0.22399</td>\n",
       "      <td>2.291288</td>\n",
       "    </tr>\n",
       "    <tr>\n",
       "      <th>3</th>\n",
       "      <td>-0.036508</td>\n",
       "      <td>-0.298878</td>\n",
       "      <td>-0.270793</td>\n",
       "      <td>-0.178950</td>\n",
       "      <td>-0.789910</td>\n",
       "      <td>-0.484987</td>\n",
       "      <td>-0.471826</td>\n",
       "      <td>-0.268791</td>\n",
       "      <td>-0.189291</td>\n",
       "      <td>-0.228394</td>\n",
       "      <td>...</td>\n",
       "      <td>2.175593</td>\n",
       "      <td>-0.185749</td>\n",
       "      <td>-0.375161</td>\n",
       "      <td>-0.699531</td>\n",
       "      <td>0.971012</td>\n",
       "      <td>-0.551185</td>\n",
       "      <td>-0.129328</td>\n",
       "      <td>0.917842</td>\n",
       "      <td>-0.22399</td>\n",
       "      <td>-0.436436</td>\n",
       "    </tr>\n",
       "    <tr>\n",
       "      <th>4</th>\n",
       "      <td>-0.036508</td>\n",
       "      <td>-0.298878</td>\n",
       "      <td>-0.270793</td>\n",
       "      <td>-0.178950</td>\n",
       "      <td>0.353782</td>\n",
       "      <td>2.061912</td>\n",
       "      <td>-0.471826</td>\n",
       "      <td>-0.268791</td>\n",
       "      <td>-0.189291</td>\n",
       "      <td>-0.228394</td>\n",
       "      <td>...</td>\n",
       "      <td>-0.459645</td>\n",
       "      <td>-0.185749</td>\n",
       "      <td>-0.375161</td>\n",
       "      <td>-0.699531</td>\n",
       "      <td>0.971012</td>\n",
       "      <td>-0.551185</td>\n",
       "      <td>-0.129328</td>\n",
       "      <td>0.917842</td>\n",
       "      <td>-0.22399</td>\n",
       "      <td>-0.436436</td>\n",
       "    </tr>\n",
       "  </tbody>\n",
       "</table>\n",
       "<p>5 rows × 22 columns</p>\n",
       "</div>"
      ],
      "text/plain": [
       "     Rating     Votes   Reviews  Min_Order_clean  AvgCost_Clean  \\\n",
       "0  0.492061 -0.319334 -0.288564        -0.178950      -0.027449   \n",
       "1  0.492061 -0.047265 -0.146395        -0.178950       1.116244   \n",
       "2  1.284914 -0.155683 -0.075311         2.533425      -0.027449   \n",
       "3 -0.036508 -0.298878 -0.270793        -0.178950      -0.789910   \n",
       "4 -0.036508 -0.298878 -0.270793        -0.178950       0.353782   \n",
       "\n",
       "   Location_Clean_Bangalore  Location_Clean_Delhi  Location_Clean_Gurgaon  \\\n",
       "0                 -0.484987             -0.471826               -0.268791   \n",
       "1                 -0.484987             -0.471826               -0.268791   \n",
       "2                 -0.484987             -0.471826                3.720368   \n",
       "3                 -0.484987             -0.471826               -0.268791   \n",
       "4                  2.061912             -0.471826               -0.268791   \n",
       "\n",
       "   Location_Clean_Hyderabad  Location_Clean_Kolkata  ...  Location_Clean_Pune  \\\n",
       "0                 -0.189291               -0.228394  ...             2.175593   \n",
       "1                 -0.189291               -0.228394  ...            -0.459645   \n",
       "2                 -0.189291               -0.228394  ...            -0.459645   \n",
       "3                 -0.189291               -0.228394  ...             2.175593   \n",
       "4                 -0.189291               -0.228394  ...            -0.459645   \n",
       "\n",
       "   Cuisines_Clean_Beverages  Cuisines_Clean_Deserts  Cuisines_Clean_Fast Food  \\\n",
       "0                 -0.185749               -0.375161                 -0.699531   \n",
       "1                 -0.185749               -0.375161                 -0.699531   \n",
       "2                 -0.185749               -0.375161                 -0.699531   \n",
       "3                 -0.185749               -0.375161                 -0.699531   \n",
       "4                 -0.185749               -0.375161                 -0.699531   \n",
       "\n",
       "   Cuisines_Clean_Mains  Rating_Cat_Average  Rating_Cat_Excellent  \\\n",
       "0              0.971012           -0.551185             -0.129328   \n",
       "1              0.971012           -0.551185             -0.129328   \n",
       "2              0.971012           -0.551185             -0.129328   \n",
       "3              0.971012           -0.551185             -0.129328   \n",
       "4              0.971012           -0.551185             -0.129328   \n",
       "\n",
       "   Rating_Cat_Good  Rating_Cat_Poor  Rating_Cat_Very Good  \n",
       "0         0.917842         -0.22399             -0.436436  \n",
       "1         0.917842         -0.22399             -0.436436  \n",
       "2        -1.089513         -0.22399              2.291288  \n",
       "3         0.917842         -0.22399             -0.436436  \n",
       "4         0.917842         -0.22399             -0.436436  \n",
       "\n",
       "[5 rows x 22 columns]"
      ]
     },
     "execution_count": 107,
     "metadata": {},
     "output_type": "execute_result"
    }
   ],
   "source": [
    "scaled_test = pd.DataFrame(sc.transform(xtest),columns=xtest.columns)\n",
    "scaled_test.head()"
   ]
  },
  {
   "cell_type": "code",
   "execution_count": 108,
   "metadata": {},
   "outputs": [
    {
     "data": {
      "text/plain": [
       "count    8.875000e+03\n",
       "mean     5.504204e-17\n",
       "std      1.000056e+00\n",
       "min     -4.000777e+00\n",
       "25%     -5.650777e-01\n",
       "50%     -3.650850e-02\n",
       "75%      4.920607e-01\n",
       "max      3.399191e+00\n",
       "Name: Rating, dtype: float64"
      ]
     },
     "execution_count": 108,
     "metadata": {},
     "output_type": "execute_result"
    }
   ],
   "source": [
    "scaled_train.Rating.describe()"
   ]
  },
  {
   "cell_type": "code",
   "execution_count": 109,
   "metadata": {},
   "outputs": [],
   "source": [
    "from sklearn.metrics import accuracy_score,cohen_kappa_score,matthews_corrcoef"
   ]
  },
  {
   "cell_type": "code",
   "execution_count": 110,
   "metadata": {},
   "outputs": [
    {
     "data": {
      "text/plain": [
       "(8875, 22)"
      ]
     },
     "execution_count": 110,
     "metadata": {},
     "output_type": "execute_result"
    }
   ],
   "source": [
    "scaled_train.shape"
   ]
  },
  {
   "cell_type": "code",
   "execution_count": 111,
   "metadata": {},
   "outputs": [
    {
     "data": {
      "text/plain": [
       "(8875,)"
      ]
     },
     "execution_count": 111,
     "metadata": {},
     "output_type": "execute_result"
    }
   ],
   "source": [
    "ytrain.shape"
   ]
  },
  {
   "cell_type": "code",
   "execution_count": 112,
   "metadata": {},
   "outputs": [
    {
     "data": {
      "text/plain": [
       "(2219, 22)"
      ]
     },
     "execution_count": 112,
     "metadata": {},
     "output_type": "execute_result"
    }
   ],
   "source": [
    "scaled_test.shape"
   ]
  },
  {
   "cell_type": "code",
   "execution_count": 113,
   "metadata": {},
   "outputs": [
    {
     "name": "stdout",
     "output_type": "stream",
     "text": [
      "The Accuracy 0.6953582694907616\n",
      "TheKappa Score is 0.2771004675577027\n",
      "The MCC is 0.28791495687194313\n"
     ]
    }
   ],
   "source": [
    "# KNN Model\n",
    "from sklearn.neighbors import KNeighborsClassifier\n",
    "knn=KNeighborsClassifier()\n",
    "pred_knn=knn.fit(scaled_train,ytrain).predict(scaled_test)\n",
    "print(\"The Accuracy\",accuracy_score(ytest,pred_knn))\n",
    "print(\"TheKappa Score is\",cohen_kappa_score(ytest,pred_knn))\n",
    "print(\"The MCC is\",matthews_corrcoef(ytest,pred_knn))"
   ]
  },
  {
   "cell_type": "code",
   "execution_count": 115,
   "metadata": {},
   "outputs": [
    {
     "name": "stdout",
     "output_type": "stream",
     "text": [
      "The Accuracy 0.7940513744930149\n",
      "TheKappa Score is 0.5374004397529355\n",
      "The MCC is 0.5434760574551009\n"
     ]
    }
   ],
   "source": [
    "from sklearn.ensemble import RandomForestClassifier\n",
    "rf = RandomForestClassifier(criterion=\"entropy\")\n",
    "pred_rf = rf.fit(scaled_train,ytrain).predict(scaled_test)\n",
    "print(\"The Accuracy\",accuracy_score(ytest,pred_rf))\n",
    "print(\"TheKappa Score is\",cohen_kappa_score(ytest,pred_rf))\n",
    "print(\"The MCC is\",matthews_corrcoef(ytest,pred_rf))"
   ]
  },
  {
   "cell_type": "code",
   "execution_count": 116,
   "metadata": {},
   "outputs": [],
   "source": [
    "x_train=scaled_train\n",
    "y_train=ytrain\n",
    "x_test=scaled_test\n",
    "y_test=ytest"
   ]
  },
  {
   "cell_type": "code",
   "execution_count": 117,
   "metadata": {},
   "outputs": [
    {
     "name": "stdout",
     "output_type": "stream",
     "text": [
      "accuracy_score with k=1 0.765209553853087\n",
      "accuracy_score with k=2 0.7327625056331681\n",
      "accuracy_score with k=3 0.7088778729157278\n",
      "accuracy_score with k=5 0.6953582694907616\n",
      "accuracy_score with k=7 0.6994141505182515\n"
     ]
    }
   ],
   "source": [
    "\n",
    "# loading library\n",
    "from sklearn.neighbors import KNeighborsClassifier\n",
    "from sklearn.metrics import accuracy_score\n",
    "\n",
    "# instantiate learning model (k = 1)\n",
    "knn = KNeighborsClassifier(n_neighbors=1)\n",
    "\n",
    "# fitting the model\n",
    "knn.fit(x_train, y_train)\n",
    "\n",
    "# predict the response\n",
    "y_pred1 = knn.predict(x_test)\n",
    "\n",
    "# evaluate accuracy\n",
    "print(\"accuracy_score with k=1\",accuracy_score(y_test, y_pred1))\n",
    "\n",
    "# instantiate learning model (k = 2)\n",
    "knn = KNeighborsClassifier(n_neighbors=2)\n",
    "\n",
    "# fitting the model\n",
    "knn.fit(x_train, y_train)\n",
    "\n",
    "# predict the response\n",
    "y_pred2 = knn.predict(x_test)\n",
    "\n",
    "# evaluate accuracy\n",
    "print(\"accuracy_score with k=2\",accuracy_score(y_test, y_pred2))\n",
    "\n",
    "# instantiate learning model (k = 3)\n",
    "knn = KNeighborsClassifier(n_neighbors = 3)\n",
    "\n",
    "# fitting the model\n",
    "knn.fit(x_train, y_train)\n",
    "\n",
    "# predict the response\n",
    "y_pred3 = knn.predict(x_test)\n",
    "\n",
    "# evaluate accuracy\n",
    "print(\"accuracy_score with k=3\",accuracy_score(y_test, y_pred3))\n",
    "\n",
    "# instantiate learning model (k = 5)\n",
    "knn = KNeighborsClassifier(n_neighbors=5)\n",
    "\n",
    "# fitting the model\n",
    "knn.fit(x_train, y_train)\n",
    "\n",
    "# predict the response\n",
    "y_pred5 = knn.predict(x_test)\n",
    "\n",
    "# evaluate accuracy\n",
    "print(\"accuracy_score with k=5\",accuracy_score(y_test, y_pred5))\n",
    "\n",
    "# instantiate learning model (k = 7)\n",
    "knn = KNeighborsClassifier(n_neighbors=7)\n",
    "\n",
    "# fitting the model\n",
    "knn.fit(x_train, y_train)\n",
    "\n",
    "# predict the response\n",
    "y_pred7 = knn.predict(x_test)\n",
    "\n",
    "# evaluate accuracy\n",
    "print(\"accuracy_score with k=7\",accuracy_score(y_test, y_pred7))"
   ]
  },
  {
   "cell_type": "code",
   "execution_count": 118,
   "metadata": {},
   "outputs": [
    {
     "data": {
      "text/plain": [
       "(2219,)"
      ]
     },
     "execution_count": 118,
     "metadata": {},
     "output_type": "execute_result"
    }
   ],
   "source": [
    "y_pred1.shape"
   ]
  },
  {
   "cell_type": "code",
   "execution_count": 119,
   "metadata": {},
   "outputs": [
    {
     "name": "stdout",
     "output_type": "stream",
     "text": [
      "TheKappa Score withk=1 is 0.5111995893751671\n",
      "TheKappa Score withk=2 is 0.3530500920620171\n",
      "TheKappa Score withk=3 is 0.33995705844352286\n",
      "TheKappa Score withk=5 is 0.2771004675577027\n",
      "TheKappa Score withk=7 is 0.26863709833232774\n"
     ]
    }
   ],
   "source": [
    "print(\"TheKappa Score withk=1 is\",cohen_kappa_score(y_test,y_pred1))\n",
    "print(\"TheKappa Score withk=2 is\",cohen_kappa_score(y_test,y_pred2))\n",
    "print(\"TheKappa Score withk=3 is\",cohen_kappa_score(y_test,y_pred3))\n",
    "print(\"TheKappa Score withk=5 is\",cohen_kappa_score(y_test,y_pred5))\n",
    "print(\"TheKappa Score withk=7 is\",cohen_kappa_score(y_test,y_pred7))"
   ]
  },
  {
   "cell_type": "code",
   "execution_count": 120,
   "metadata": {},
   "outputs": [
    {
     "name": "stdout",
     "output_type": "stream",
     "text": [
      "The MCC is k=1 0.5112415330138724\n",
      "The MCC is k=2 0.3740455848889049\n",
      "The MCC is k=3 0.34575933862866304\n",
      "The MCC is k=5 0.28791495687194313\n",
      "The MCC is k=7 0.284706781793503\n"
     ]
    }
   ],
   "source": [
    "print(\"The MCC is k=1\",matthews_corrcoef(ytest,y_pred1))\n",
    "print(\"The MCC is k=2\",matthews_corrcoef(ytest,y_pred2))\n",
    "print(\"The MCC is k=3\",matthews_corrcoef(ytest,y_pred3))\n",
    "print(\"The MCC is k=5\",matthews_corrcoef(ytest,y_pred5))\n",
    "print(\"The MCC is k=7\",matthews_corrcoef(ytest,y_pred7))"
   ]
  },
  {
   "cell_type": "code",
   "execution_count": 121,
   "metadata": {},
   "outputs": [
    {
     "name": "stdout",
     "output_type": "stream",
     "text": [
      "accuracy_score with k=1 0.9864788732394366\n",
      "accuracy_score with k=2 0.8651267605633803\n",
      "accuracy_score with k=3 0.8414647887323944\n",
      "accuracy_score with k=5 0.7864788732394367\n",
      "accuracy_score with k=7 0.764281690140845\n"
     ]
    }
   ],
   "source": [
    "# loading library\n",
    "from sklearn.neighbors import KNeighborsClassifier\n",
    "from sklearn.metrics import accuracy_score\n",
    "\n",
    "# instantiate learning model (k = 1)\n",
    "knn = KNeighborsClassifier(n_neighbors=1)\n",
    "\n",
    "# fitting the model\n",
    "knn.fit(x_train, y_train)\n",
    "\n",
    "# predict the response\n",
    "y_pred1 = knn.predict(x_train)\n",
    "\n",
    "# evaluate accuracy\n",
    "print(\"accuracy_score with k=1\",accuracy_score(y_train, y_pred1))\n",
    "\n",
    "# instantiate learning model (k = 2)\n",
    "knn = KNeighborsClassifier(n_neighbors=2)\n",
    "\n",
    "# fitting the model\n",
    "knn.fit(x_train, y_train)\n",
    "\n",
    "# predict the response\n",
    "y_pred2 = knn.predict(x_train)\n",
    "\n",
    "# evaluate accuracy\n",
    "print(\"accuracy_score with k=2\",accuracy_score(y_train, y_pred2))\n",
    "\n",
    "# instantiate learning model (k = 3)\n",
    "knn = KNeighborsClassifier(n_neighbors = 3)\n",
    "\n",
    "# fitting the model\n",
    "knn.fit(x_train, y_train)\n",
    "\n",
    "# predict the response\n",
    "y_pred3 = knn.predict(x_train)\n",
    "\n",
    "# evaluate accuracy\n",
    "print(\"accuracy_score with k=3\",accuracy_score(y_train, y_pred3))\n",
    "\n",
    "# instantiate learning model (k = 5)\n",
    "knn = KNeighborsClassifier(n_neighbors=5)\n",
    "\n",
    "# fitting the model\n",
    "knn.fit(x_train, y_train)\n",
    "\n",
    "# predict the response\n",
    "y_pred5 = knn.predict(x_train)\n",
    "\n",
    "# evaluate accuracy\n",
    "print(\"accuracy_score with k=5\",accuracy_score(y_train, y_pred5))\n",
    "\n",
    "# instantiate learning model (k = 7)\n",
    "knn = KNeighborsClassifier(n_neighbors=7)\n",
    "\n",
    "# fitting the model\n",
    "knn.fit(x_train, y_train)\n",
    "\n",
    "# predict the response\n",
    "y_pred7 = knn.predict(x_train)\n",
    "\n",
    "# evaluate accuracy\n",
    "print(\"accuracy_score with k=7\",accuracy_score(y_train, y_pred7))"
   ]
  },
  {
   "cell_type": "code",
   "execution_count": 128,
   "metadata": {},
   "outputs": [
    {
     "data": {
      "text/plain": [
       "{0, 1, 2, 3, 4, 5, 6}"
      ]
     },
     "execution_count": 128,
     "metadata": {},
     "output_type": "execute_result"
    }
   ],
   "source": [
    "set(y_pred3)"
   ]
  },
  {
   "cell_type": "code",
   "execution_count": 122,
   "metadata": {},
   "outputs": [
    {
     "name": "stdout",
     "output_type": "stream",
     "text": [
      "TheKappa Score withk=1 is 0.9723615534415965\n",
      "TheKappa Score withk=2 is 0.6933510532815994\n",
      "TheKappa Score withk=3 is 0.6561561043920214\n",
      "TheKappa Score withk=5 is 0.5127344053714824\n",
      "TheKappa Score withk=7 is 0.44749288271202214\n"
     ]
    }
   ],
   "source": [
    "print(\"TheKappa Score withk=1 is\",cohen_kappa_score(y_train,y_pred1))\n",
    "print(\"TheKappa Score withk=2 is\",cohen_kappa_score(y_train,y_pred2))\n",
    "print(\"TheKappa Score withk=3 is\",cohen_kappa_score(y_train,y_pred3))\n",
    "print(\"TheKappa Score withk=5 is\",cohen_kappa_score(y_train,y_pred5))\n",
    "print(\"TheKappa Score withk=7 is\",cohen_kappa_score(y_train,y_pred7))"
   ]
  },
  {
   "cell_type": "code",
   "execution_count": null,
   "metadata": {},
   "outputs": [],
   "source": []
  },
  {
   "cell_type": "code",
   "execution_count": 129,
   "metadata": {},
   "outputs": [
    {
     "name": "stdout",
     "output_type": "stream",
     "text": [
      "The Accuracy with GradientBoosting Classifier 0.7372690401081569\n"
     ]
    }
   ],
   "source": [
    "# Boosting\n",
    "from sklearn.ensemble import GradientBoostingClassifier\n",
    "gbm = GradientBoostingClassifier()\n",
    "\n",
    "pred_gbm1 =gbm.fit(scaled_train,ytrain).predict(scaled_test)\n",
    "print(\"The Accuracy with GradientBoosting Classifier\",accuracy_score(ytest,pred_gbm1))"
   ]
  },
  {
   "cell_type": "code",
   "execution_count": 133,
   "metadata": {},
   "outputs": [
    {
     "name": "stdout",
     "output_type": "stream",
     "text": [
      "The Accuracy 0.7386210004506535\n",
      "TheKappa Score is 0.3920249270630205\n",
      "The MCC is 0.4021545110049141\n"
     ]
    }
   ],
   "source": [
    "print(\"The Accuracy\",accuracy_score(ytest,pred_gbm1))\n",
    "print(\"TheKappa Score is\",cohen_kappa_score(ytest,pred_gbm1))\n",
    "print(\"The MCC is\",matthews_corrcoef(ytest,pred_gbm1))"
   ]
  },
  {
   "cell_type": "code",
   "execution_count": 134,
   "metadata": {},
   "outputs": [
    {
     "name": "stdout",
     "output_type": "stream",
     "text": [
      "Accuracy on training set: 0.73\n",
      "Accuracy on test set: 0.73\n",
      "TheKappa Score is 0.30372384117497153\n",
      "The MCC is 0.33560365859691743\n"
     ]
    }
   ],
   "source": [
    "from sklearn.svm import SVC\n",
    "\n",
    "svc = SVC()\n",
    "\n",
    "pred_svc =svc.fit(sc# Gradient boosting cross validation\n",
    "from sklearn.model_selection import cross_val_score\n",
    "cross_val_score(estimator=gbm,X=scaled_train,y=ytrain,cv=5)\n",
    "cross_val_score(estimator=gbm,X=scaled_train,y=ytrain,cv=5).mean()led_train,ytrain).predict(scaled_test)\n",
    "print(\"Accuracy on training set: {:.2f}\".format(svc.score(scaled_train, ytrain)))\n",
    "print(\"Accuracy on test set: {:.2f}\".format(svc.score(scaled_test, ytest)))\n",
    "print(\"TheKappa Score is\",cohen_kappa_score(ytest,pred_svc))\n",
    "print(\"The MCC is\",matthews_corrcoef(ytest,pred_svc))"
   ]
  },
  {
   "cell_type": "code",
   "execution_count": 130,
   "metadata": {},
   "outputs": [
    {
     "name": "stdout",
     "output_type": "stream",
     "text": [
      "Accuracy on training set: 0.10\n",
      "Accuracy on test set: 0.09\n",
      "TheKappa Score is 0.023037602759994003\n",
      "The MCC is 0.0353771568940968\n"
     ]
    }
   ],
   "source": [
    "from sklearn.naive_bayes import GaussianNB\n",
    "naiveClassifier=GaussianNB()\n",
    "naiveClassifier.fit(scaled_train,y_train)\n",
    "pred_naiv = naiveClassifier.predict(scaled_test)\n",
    "\n",
    "print(\"Accuracy on training set: {:.2f}\".format(naiveClassifier.score(scaled_train, ytrain)))\n",
    "print(\"Accuracy on test set: {:.2f}\".format(naiveClassifier.score(scaled_test, ytest)))\n",
    "print(\"TheKappa Score is\",cohen_kappa_score(ytest,pred_naiv))\n",
    "print(\"The MCC is\",matthews_corrcoef(ytest,pred_naiv))"
   ]
  },
  {
   "cell_type": "code",
   "execution_count": 142,
   "metadata": {},
   "outputs": [
    {
     "data": {
      "text/plain": [
       "0.7489860297431276"
      ]
     },
     "execution_count": 142,
     "metadata": {},
     "output_type": "execute_result"
    }
   ],
   "source": [
    "from sklearn.tree import DecisionTreeClassifier\n",
    "from sklearn.metrics import accuracy_score,classification_report,confusion_matrix,cohen_kappa_score\n",
    "dtree=DecisionTreeClassifier()\n",
    "pred_dtree = dtree.fit(scaled_train,ytrain).predict(scaled_test)\n",
    "accuracy_score(ytest,pred_dtree)"
   ]
  },
  {
   "cell_type": "code",
   "execution_count": 147,
   "metadata": {},
   "outputs": [
    {
     "data": {
      "text/plain": [
       "array([0.74663677, 0.72134831, 0.76853933, 0.74069899, 0.73055242,\n",
       "       0.748307  , 0.73363431, 0.75846501, 0.73702032, 0.73559322])"
      ]
     },
     "execution_count": 147,
     "metadata": {},
     "output_type": "execute_result"
    }
   ],
   "source": [
    "# Gradient boosting cross validation\n",
    "from sklearn.model_selection import cross_val_score\n",
    "cross_val_score(estimator=dtree,X=scaled_train,y=ytrain,cv=10)\n"
   ]
  },
  {
   "cell_type": "code",
   "execution_count": 148,
   "metadata": {},
   "outputs": [
    {
     "data": {
      "text/plain": [
       "0.7294631101667494"
      ]
     },
     "execution_count": 148,
     "metadata": {},
     "output_type": "execute_result"
    }
   ],
   "source": [
    "cross_val_score(estimator=dtree,X=scaled_train,y=ytrain,cv=5).mean()"
   ]
  },
  {
   "cell_type": "markdown",
   "metadata": {},
   "source": [
    "# Voting Classifier"
   ]
  },
  {
   "cell_type": "code",
   "execution_count": 134,
   "metadata": {},
   "outputs": [],
   "source": [
    "from sklearn.ensemble import VotingClassifier"
   ]
  },
  {
   "cell_type": "code",
   "execution_count": 149,
   "metadata": {},
   "outputs": [],
   "source": [
    "vc=VotingClassifier(estimators=[(\"GBM\",gbm),(\"DTREE\",dtree),(\"Random Forest\",rf),(\"bagg\",bagg)])"
   ]
  },
  {
   "cell_type": "code",
   "execution_count": 150,
   "metadata": {},
   "outputs": [],
   "source": [
    "pred_vc=vc.fit(scaled_train,ytrain).predict(scaled_test)"
   ]
  },
  {
   "cell_type": "code",
   "execution_count": 151,
   "metadata": {},
   "outputs": [
    {
     "name": "stdout",
     "output_type": "stream",
     "text": [
      "The accuracy score is 0.8021631365479945\n",
      "The Kappa score is 0.5488546549700778\n",
      "The MCC is 0.5579883523900143\n"
     ]
    }
   ],
   "source": [
    "print(\"The accuracy score is\",accuracy_score(ytest,pred_vc))\n",
    "print(\"The Kappa score is\",cohen_kappa_score(ytest,pred_vc))\n",
    "print(\"The MCC is\",matthews_corrcoef(ytest,pred_vc))"
   ]
  },
  {
   "cell_type": "code",
   "execution_count": 189,
   "metadata": {},
   "outputs": [
    {
     "data": {
      "text/plain": [
       "0.7749872223040031"
      ]
     },
     "execution_count": 189,
     "metadata": {},
     "output_type": "execute_result"
    }
   ],
   "source": [
    "from sklearn.model_selection import cross_val_score\n",
    "cross_val_score(estimator=vc,X=scaled_train,y=ytrain,cv=5).mean()"
   ]
  },
  {
   "cell_type": "code",
   "execution_count": 153,
   "metadata": {},
   "outputs": [],
   "source": [
    "from sklearn.ensemble import BaggingClassifier\n",
    "bagg=BaggingClassifier()"
   ]
  },
  {
   "cell_type": "code",
   "execution_count": 154,
   "metadata": {},
   "outputs": [
    {
     "name": "stdout",
     "output_type": "stream",
     "text": [
      "The accuracy score is 0.8017124831004957\n",
      "The Kappa score is 0.5473786149422171\n",
      "The MCC is 0.5566216514236112\n"
     ]
    }
   ],
   "source": [
    "pred_bagg=vc.fit(scaled_train,ytrain).predict(scaled_test)\n",
    "print(\"The accuracy score is\",accuracy_score(ytest,pred_bagg))\n",
    "print(\"The Kappa score is\",cohen_kappa_score(ytest,pred_bagg))\n",
    "print(\"The MCC is\",matthews_corrcoef(ytest,pred_bagg))"
   ]
  },
  {
   "cell_type": "code",
   "execution_count": 186,
   "metadata": {},
   "outputs": [],
   "source": [
    "## Adaboost\n",
    "from sklearn.ensemble import AdaBoostClassifier\n",
    "ada=AdaBoostClassifier()"
   ]
  },
  {
   "cell_type": "code",
   "execution_count": 190,
   "metadata": {},
   "outputs": [],
   "source": [
    "pred_ada=ada.fit(scaled_train,ytrain).predict(scaled_test)"
   ]
  },
  {
   "cell_type": "code",
   "execution_count": 191,
   "metadata": {},
   "outputs": [
    {
     "name": "stdout",
     "output_type": "stream",
     "text": [
      "The accuracy : 0.6435331230283912\n",
      "The kappa score : 0.28871778018127836\n",
      "The mcc is : 0.2942942708295557\n"
     ]
    }
   ],
   "source": [
    "print(\"The accuracy :\",accuracy_score(ytest,pred_ada))\n",
    "print(\"The kappa score :\",cohen_kappa_score(ytest,pred_ada))\n",
    "print(\"The mcc is :\",matthews_corrcoef(ytest,pred_ada))"
   ]
  },
  {
   "cell_type": "code",
   "execution_count": 192,
   "metadata": {},
   "outputs": [],
   "source": [
    "from xgboost.sklearn import XGBRFClassifier\n",
    "xgbc=XGBRFClassifier()"
   ]
  },
  {
   "cell_type": "code",
   "execution_count": 193,
   "metadata": {},
   "outputs": [],
   "source": [
    "pred_xgbc=xgbc.fit(scaled_train,ytrain).predict(scaled_test)"
   ]
  },
  {
   "cell_type": "code",
   "execution_count": 194,
   "metadata": {},
   "outputs": [
    {
     "name": "stdout",
     "output_type": "stream",
     "text": [
      "The accuracy : 0.7138350608382155\n",
      "The kappa score : 0.34285703625872055\n",
      "The mcc is : 0.3503194524490761\n"
     ]
    }
   ],
   "source": [
    "print(\"The accuracy :\",accuracy_score(ytest,pred_xgbc))\n",
    "print(\"The kappa score :\",cohen_kappa_score(ytest,pred_xgbc))\n",
    "print(\"The mcc is :\",matthews_corrcoef(ytest,pred_xgbc))"
   ]
  },
  {
   "cell_type": "code",
   "execution_count": 201,
   "metadata": {},
   "outputs": [],
   "source": [
    "# gridsearch cv\n",
    "from sklearn.model_selection import GridSearchCV\n",
    "params = {'min_samples_split': np.arange(2, 10), 'min_samples_leaf': \n",
    "np.arange(.05, .2), 'max_leaf_nodes': np.arange(2, 30)}\n",
    "grid = GridSearchCV(estimator=dtree, param_grid=params, cv = 3)"
   ]
  },
  {
   "cell_type": "code",
   "execution_count": 202,
   "metadata": {},
   "outputs": [],
   "source": [
    "pred_grid=grid.fit(scaled_train,ytrain).predict(scaled_test)"
   ]
  },
  {
   "cell_type": "code",
   "execution_count": 203,
   "metadata": {},
   "outputs": [
    {
     "name": "stdout",
     "output_type": "stream",
     "text": [
      "The accuracy : 0.7106804867057233\n",
      "The kappa score : 0.3523079574030268\n",
      "The mcc is : 0.358242402754701\n"
     ]
    }
   ],
   "source": [
    "print(\"The accuracy :\",accuracy_score(ytest,pred_grid))\n",
    "print(\"The kappa score :\",cohen_kappa_score(ytest,pred_grid))\n",
    "print(\"The mcc is :\",matthews_corrcoef(ytest,pred_grid))"
   ]
  },
  {
   "cell_type": "code",
   "execution_count": 177,
   "metadata": {},
   "outputs": [
    {
     "name": "stdout",
     "output_type": "stream",
     "text": [
      "(11094, 27)\n"
     ]
    },
    {
     "data": {
      "text/html": [
       "<div>\n",
       "<style scoped>\n",
       "    .dataframe tbody tr th:only-of-type {\n",
       "        vertical-align: middle;\n",
       "    }\n",
       "\n",
       "    .dataframe tbody tr th {\n",
       "        vertical-align: top;\n",
       "    }\n",
       "\n",
       "    .dataframe thead th {\n",
       "        text-align: right;\n",
       "    }\n",
       "</style>\n",
       "<table border=\"1\" class=\"dataframe\">\n",
       "  <thead>\n",
       "    <tr style=\"text-align: right;\">\n",
       "      <th></th>\n",
       "      <th>Rating</th>\n",
       "      <th>Votes</th>\n",
       "      <th>Reviews</th>\n",
       "      <th>Min_Order_clean</th>\n",
       "      <th>AvgCost_Clean</th>\n",
       "      <th>rest_count</th>\n",
       "      <th>Delivery_Time_coded</th>\n",
       "      <th>Location_Clean_Bangalore</th>\n",
       "      <th>Location_Clean_Delhi</th>\n",
       "      <th>Location_Clean_Gurgaon</th>\n",
       "      <th>...</th>\n",
       "      <th>Cuisines_Clean_Fast Food</th>\n",
       "      <th>Cuisines_Clean_Mains</th>\n",
       "      <th>Rating_Cat_Average</th>\n",
       "      <th>Rating_Cat_Excellent</th>\n",
       "      <th>Rating_Cat_Good</th>\n",
       "      <th>Rating_Cat_Poor</th>\n",
       "      <th>Rating_Cat_Very Good</th>\n",
       "      <th>rest_category_Multiple outlets</th>\n",
       "      <th>rest_category_chain</th>\n",
       "      <th>rest_category_single outlet</th>\n",
       "    </tr>\n",
       "  </thead>\n",
       "  <tbody>\n",
       "    <tr>\n",
       "      <th>0</th>\n",
       "      <td>3.5</td>\n",
       "      <td>12.0</td>\n",
       "      <td>4.0</td>\n",
       "      <td>50</td>\n",
       "      <td>200</td>\n",
       "      <td>1</td>\n",
       "      <td>3</td>\n",
       "      <td>0</td>\n",
       "      <td>0</td>\n",
       "      <td>0</td>\n",
       "      <td>...</td>\n",
       "      <td>1</td>\n",
       "      <td>0</td>\n",
       "      <td>0</td>\n",
       "      <td>0</td>\n",
       "      <td>1</td>\n",
       "      <td>0</td>\n",
       "      <td>0</td>\n",
       "      <td>0</td>\n",
       "      <td>0</td>\n",
       "      <td>1</td>\n",
       "    </tr>\n",
       "    <tr>\n",
       "      <th>1</th>\n",
       "      <td>3.5</td>\n",
       "      <td>11.0</td>\n",
       "      <td>4.0</td>\n",
       "      <td>50</td>\n",
       "      <td>100</td>\n",
       "      <td>6</td>\n",
       "      <td>3</td>\n",
       "      <td>1</td>\n",
       "      <td>0</td>\n",
       "      <td>0</td>\n",
       "      <td>...</td>\n",
       "      <td>0</td>\n",
       "      <td>0</td>\n",
       "      <td>0</td>\n",
       "      <td>0</td>\n",
       "      <td>1</td>\n",
       "      <td>0</td>\n",
       "      <td>0</td>\n",
       "      <td>0</td>\n",
       "      <td>1</td>\n",
       "      <td>0</td>\n",
       "    </tr>\n",
       "    <tr>\n",
       "      <th>2</th>\n",
       "      <td>3.6</td>\n",
       "      <td>99.0</td>\n",
       "      <td>30.0</td>\n",
       "      <td>50</td>\n",
       "      <td>150</td>\n",
       "      <td>3</td>\n",
       "      <td>5</td>\n",
       "      <td>0</td>\n",
       "      <td>0</td>\n",
       "      <td>0</td>\n",
       "      <td>...</td>\n",
       "      <td>0</td>\n",
       "      <td>1</td>\n",
       "      <td>0</td>\n",
       "      <td>0</td>\n",
       "      <td>1</td>\n",
       "      <td>0</td>\n",
       "      <td>0</td>\n",
       "      <td>1</td>\n",
       "      <td>0</td>\n",
       "      <td>0</td>\n",
       "    </tr>\n",
       "    <tr>\n",
       "      <th>3</th>\n",
       "      <td>3.7</td>\n",
       "      <td>176.0</td>\n",
       "      <td>95.0</td>\n",
       "      <td>99</td>\n",
       "      <td>250</td>\n",
       "      <td>2</td>\n",
       "      <td>3</td>\n",
       "      <td>0</td>\n",
       "      <td>0</td>\n",
       "      <td>0</td>\n",
       "      <td>...</td>\n",
       "      <td>0</td>\n",
       "      <td>1</td>\n",
       "      <td>0</td>\n",
       "      <td>0</td>\n",
       "      <td>1</td>\n",
       "      <td>0</td>\n",
       "      <td>0</td>\n",
       "      <td>1</td>\n",
       "      <td>0</td>\n",
       "      <td>0</td>\n",
       "    </tr>\n",
       "    <tr>\n",
       "      <th>4</th>\n",
       "      <td>3.2</td>\n",
       "      <td>521.0</td>\n",
       "      <td>235.0</td>\n",
       "      <td>99</td>\n",
       "      <td>200</td>\n",
       "      <td>1</td>\n",
       "      <td>5</td>\n",
       "      <td>1</td>\n",
       "      <td>0</td>\n",
       "      <td>0</td>\n",
       "      <td>...</td>\n",
       "      <td>1</td>\n",
       "      <td>0</td>\n",
       "      <td>1</td>\n",
       "      <td>0</td>\n",
       "      <td>0</td>\n",
       "      <td>0</td>\n",
       "      <td>0</td>\n",
       "      <td>0</td>\n",
       "      <td>0</td>\n",
       "      <td>1</td>\n",
       "    </tr>\n",
       "  </tbody>\n",
       "</table>\n",
       "<p>5 rows × 27 columns</p>\n",
       "</div>"
      ],
      "text/plain": [
       "   Rating  Votes  Reviews  Min_Order_clean  AvgCost_Clean  rest_count  \\\n",
       "0     3.5   12.0      4.0               50            200           1   \n",
       "1     3.5   11.0      4.0               50            100           6   \n",
       "2     3.6   99.0     30.0               50            150           3   \n",
       "3     3.7  176.0     95.0               99            250           2   \n",
       "4     3.2  521.0    235.0               99            200           1   \n",
       "\n",
       "   Delivery_Time_coded  Location_Clean_Bangalore  Location_Clean_Delhi  \\\n",
       "0                    3                         0                     0   \n",
       "1                    3                         1                     0   \n",
       "2                    5                         0                     0   \n",
       "3                    3                         0                     0   \n",
       "4                    5                         1                     0   \n",
       "\n",
       "   Location_Clean_Gurgaon  ...  Cuisines_Clean_Fast Food  \\\n",
       "0                       0  ...                         1   \n",
       "1                       0  ...                         0   \n",
       "2                       0  ...                         0   \n",
       "3                       0  ...                         0   \n",
       "4                       0  ...                         1   \n",
       "\n",
       "   Cuisines_Clean_Mains  Rating_Cat_Average  Rating_Cat_Excellent  \\\n",
       "0                     0                   0                     0   \n",
       "1                     0                   0                     0   \n",
       "2                     1                   0                     0   \n",
       "3                     1                   0                     0   \n",
       "4                     0                   1                     0   \n",
       "\n",
       "   Rating_Cat_Good  Rating_Cat_Poor  Rating_Cat_Very Good  \\\n",
       "0                1                0                     0   \n",
       "1                1                0                     0   \n",
       "2                1                0                     0   \n",
       "3                1                0                     0   \n",
       "4                0                0                     0   \n",
       "\n",
       "   rest_category_Multiple outlets  rest_category_chain  \\\n",
       "0                               0                    0   \n",
       "1                               0                    1   \n",
       "2                               1                    0   \n",
       "3                               1                    0   \n",
       "4                               0                    0   \n",
       "\n",
       "   rest_category_single outlet  \n",
       "0                            1  \n",
       "1                            0  \n",
       "2                            0  \n",
       "3                            0  \n",
       "4                            1  \n",
       "\n",
       "[5 rows x 27 columns]"
      ]
     },
     "execution_count": 177,
     "metadata": {},
     "output_type": "execute_result"
    }
   ],
   "source": [
    "print(dummytrain.shape)\n",
    "dummytrain.head()"
   ]
  },
  {
   "cell_type": "code",
   "execution_count": 167,
   "metadata": {},
   "outputs": [
    {
     "data": {
      "text/plain": [
       "Index(['Rating', 'Votes', 'Reviews', 'Min_Order_clean', 'AvgCost_Clean',\n",
       "       'rest_count', 'Location_Clean_Bangalore', 'Location_Clean_Delhi',\n",
       "       'Location_Clean_Gurgaon', 'Location_Clean_Hyderabad',\n",
       "       'Location_Clean_Kolkata', 'Location_Clean_Mumbai',\n",
       "       'Location_Clean_Noida', 'Location_Clean_Pune',\n",
       "       'Cuisines_Clean_Beverages', 'Cuisines_Clean_Deserts',\n",
       "       'Cuisines_Clean_Fast Food', 'Cuisines_Clean_Mains',\n",
       "       'Rating_Cat_Average', 'Rating_Cat_Excellent', 'Rating_Cat_Good',\n",
       "       'Rating_Cat_Poor', 'Rating_Cat_Very Good',\n",
       "       'rest_category_Multiple outlets', 'rest_category_chain',\n",
       "       'rest_category_single outlet'],\n",
       "      dtype='object')"
      ]
     },
     "execution_count": 167,
     "metadata": {},
     "output_type": "execute_result"
    }
   ],
   "source": [
    "dummytest.columns"
   ]
  },
  {
   "cell_type": "code",
   "execution_count": 173,
   "metadata": {},
   "outputs": [
    {
     "data": {
      "text/plain": [
       "(2774, 26)"
      ]
     },
     "execution_count": 173,
     "metadata": {},
     "output_type": "execute_result"
    }
   ],
   "source": [
    "dummytest.shape"
   ]
  },
  {
   "cell_type": "code",
   "execution_count": 174,
   "metadata": {},
   "outputs": [],
   "source": [
    "dummytest=pd.get_dummies(test_new)"
   ]
  },
  {
   "cell_type": "code",
   "execution_count": 175,
   "metadata": {},
   "outputs": [],
   "source": [
    "cols=dummytrain.columns[dummytrain.columns!=\"Delivery_Time_coded\"]"
   ]
  },
  {
   "cell_type": "code",
   "execution_count": 180,
   "metadata": {},
   "outputs": [],
   "source": [
    "a=sc.fit_transform(dummytrain.drop(\"Delivery_Time_coded\",axis=1))"
   ]
  },
  {
   "cell_type": "code",
   "execution_count": 181,
   "metadata": {},
   "outputs": [],
   "source": [
    "train_scaled = pd.DataFrame(a , columns = cols)\n",
    "test_scaled = pd.DataFrame(sc.transform(dummytest), columns = dummytest.columns)"
   ]
  },
  {
   "cell_type": "code",
   "execution_count": null,
   "metadata": {},
   "outputs": [],
   "source": []
  },
  {
   "cell_type": "code",
   "execution_count": 178,
   "metadata": {},
   "outputs": [],
   "source": [
    "def convertpredictions(x):\n",
    "    if(x==0):\n",
    "        return(\"10 minutes\")\n",
    "    elif(x==1):\n",
    "        return(\"120 minutes\")\n",
    "    elif(x==2):\n",
    "        return(\"20 minutes\")\n",
    "    elif(x==3):\n",
    "        return(\"30 minutes\")\n",
    "    elif(x==4):\n",
    "        return(\"45 minutes\")\n",
    "    elif(x==5):\n",
    "        return(\"65 minutes\")\n",
    "    else:\n",
    "        return(\"80 minutes\")"
   ]
  },
  {
   "cell_type": "code",
   "execution_count": 184,
   "metadata": {},
   "outputs": [],
   "source": [
    "df=pd.DataFrame(pred_vc,columns=[\"Delivery_Time\"])"
   ]
  },
  {
   "cell_type": "code",
   "execution_count": 185,
   "metadata": {},
   "outputs": [],
   "source": [
    "df[\"Delivery_Time\"]=df.Delivery_Time.apply(convertpredictions)"
   ]
  },
  {
   "cell_type": "code",
   "execution_count": null,
   "metadata": {},
   "outputs": [],
   "source": []
  },
  {
   "cell_type": "code",
   "execution_count": 191,
   "metadata": {},
   "outputs": [
    {
     "data": {
      "text/plain": [
       "30 minutes     1685\n",
       "45 minutes      444\n",
       "65 minutes       79\n",
       "120 minutes       9\n",
       "20 minutes        1\n",
       "80 minutes        1\n",
       "Name: Delivery_Time, dtype: int64"
      ]
     },
     "execution_count": 191,
     "metadata": {},
     "output_type": "execute_result"
    }
   ],
   "source": [
    "df[\"Delivery_Time\"].value_counts()"
   ]
  },
  {
   "cell_type": "code",
   "execution_count": 187,
   "metadata": {},
   "outputs": [],
   "source": [
    "df.to_excel(\"Deliveryy_Time.xlsx\",index=False)"
   ]
  },
  {
   "cell_type": "markdown",
   "metadata": {},
   "source": [
    "# Boosting-gradient"
   ]
  },
  {
   "cell_type": "code",
   "execution_count": 160,
   "metadata": {},
   "outputs": [],
   "source": [
    "from sklearn.ensemble import GradientBoostingClassifier\n",
    "gbm=GradientBoostingClassifier()"
   ]
  },
  {
   "cell_type": "code",
   "execution_count": 161,
   "metadata": {},
   "outputs": [],
   "source": [
    "pred_gbm=gbm.fit(scaled_train,ytrain).predict(scaled_test)"
   ]
  },
  {
   "cell_type": "code",
   "execution_count": 162,
   "metadata": {},
   "outputs": [
    {
     "name": "stdout",
     "output_type": "stream",
     "text": [
      "The accuracy score is 0.7372690401081569\n",
      "The Kappa score is 0.39126868881169874\n",
      "The MCC is 0.40068239741761813\n"
     ]
    }
   ],
   "source": [
    "print(\"The accuracy score is\",accuracy_score(ytest,pred_gbm))\n",
    "print(\"The Kappa score is\",cohen_kappa_score(ytest,pred_gbm))\n",
    "print(\"The MCC is\",matthews_corrcoef(ytest,pred_gbm))"
   ]
  },
  {
   "cell_type": "code",
   "execution_count": 164,
   "metadata": {},
   "outputs": [],
   "source": [
    "from sklearn.model_selection import cross_val_score"
   ]
  },
  {
   "cell_type": "code",
   "execution_count": 165,
   "metadata": {},
   "outputs": [
    {
     "data": {
      "text/plain": [
       "array([0.72440945, 0.73648649, 0.73648649, 0.72983644, 0.71726862])"
      ]
     },
     "execution_count": 165,
     "metadata": {},
     "output_type": "execute_result"
    }
   ],
   "source": [
    "cross_val_score(estimator=gbm,X=scaled_train,y=ytrain,cv=5)"
   ]
  },
  {
   "cell_type": "code",
   "execution_count": 166,
   "metadata": {},
   "outputs": [
    {
     "data": {
      "text/plain": [
       "0.7288978771391303"
      ]
     },
     "execution_count": 166,
     "metadata": {},
     "output_type": "execute_result"
    }
   ],
   "source": [
    "cross_val_score(estimator=gbm,X=scaled_train,y=ytrain,cv=5).mean()"
   ]
  },
  {
   "cell_type": "code",
   "execution_count": 166,
   "metadata": {},
   "outputs": [
    {
     "data": {
      "text/plain": [
       "{0, 1, 2, 3, 4, 5, 6}"
      ]
     },
     "execution_count": 166,
     "metadata": {},
     "output_type": "execute_result"
    }
   ],
   "source": [
    "set(ytrain)"
   ]
  },
  {
   "cell_type": "code",
   "execution_count": 155,
   "metadata": {},
   "outputs": [],
   "source": [
    "probs=gbm.predict_proba(scaled_test)# probability of 0 ,1,2,3,4,5,6"
   ]
  },
  {
   "cell_type": "code",
   "execution_count": 157,
   "metadata": {},
   "outputs": [
    {
     "data": {
      "text/plain": [
       "array([[1.18500342e-06, 3.77184298e-04, 9.21754082e-05, 7.62741413e-01,\n",
       "        1.89866731e-01, 4.68957056e-02, 2.56055941e-05]])"
      ]
     },
     "execution_count": 157,
     "metadata": {},
     "output_type": "execute_result"
    }
   ],
   "source": [
    "probs[0:1]"
   ]
  },
  {
   "cell_type": "code",
   "execution_count": 182,
   "metadata": {},
   "outputs": [
    {
     "data": {
      "text/plain": [
       "array([9.21754082e-05, 3.30328349e-05, 6.02592224e-05, 2.44607295e-05,\n",
       "       1.01487278e-04])"
      ]
     },
     "execution_count": 182,
     "metadata": {},
     "output_type": "execute_result"
    }
   ],
   "source": [
    "probability=probs[:,2]# probability of 1\n",
    "probability[0:5]"
   ]
  },
  {
   "cell_type": "code",
   "execution_count": 183,
   "metadata": {},
   "outputs": [
    {
     "data": {
      "text/plain": [
       "2219"
      ]
     },
     "execution_count": 183,
     "metadata": {},
     "output_type": "execute_result"
    }
   ],
   "source": [
    "len(probability)"
   ]
  },
  {
   "cell_type": "code",
   "execution_count": 184,
   "metadata": {},
   "outputs": [
    {
     "data": {
      "text/plain": [
       "2219"
      ]
     },
     "execution_count": 184,
     "metadata": {},
     "output_type": "execute_result"
    }
   ],
   "source": [
    "len(pred_gbm)"
   ]
  },
  {
   "cell_type": "code",
   "execution_count": 185,
   "metadata": {},
   "outputs": [
    {
     "ename": "ValueError",
     "evalue": "multiclass format is not supported",
     "output_type": "error",
     "traceback": [
      "\u001b[1;31m---------------------------------------------------------------------------\u001b[0m",
      "\u001b[1;31mValueError\u001b[0m                                Traceback (most recent call last)",
      "\u001b[1;32m<ipython-input-185-32359979f421>\u001b[0m in \u001b[0;36m<module>\u001b[1;34m\u001b[0m\n\u001b[0;32m      1\u001b[0m \u001b[1;32mfrom\u001b[0m \u001b[0msklearn\u001b[0m\u001b[1;33m.\u001b[0m\u001b[0mmetrics\u001b[0m \u001b[1;32mimport\u001b[0m \u001b[0mroc_auc_score\u001b[0m\u001b[1;33m,\u001b[0m\u001b[0mroc_curve\u001b[0m\u001b[1;33m\u001b[0m\u001b[1;33m\u001b[0m\u001b[0m\n\u001b[1;32m----> 2\u001b[1;33m \u001b[0mauc\u001b[0m\u001b[1;33m=\u001b[0m\u001b[0mroc_auc_score\u001b[0m\u001b[1;33m(\u001b[0m\u001b[0mpred_gbm\u001b[0m\u001b[1;33m,\u001b[0m\u001b[0mprobability\u001b[0m\u001b[1;33m)\u001b[0m\u001b[1;33m\u001b[0m\u001b[1;33m\u001b[0m\u001b[0m\n\u001b[0m\u001b[0;32m      3\u001b[0m \u001b[0mprint\u001b[0m\u001b[1;33m(\u001b[0m\u001b[1;34m\"auc:\"\u001b[0m\u001b[1;33m,\u001b[0m\u001b[0mauc\u001b[0m\u001b[1;33m)\u001b[0m\u001b[1;33m\u001b[0m\u001b[1;33m\u001b[0m\u001b[0m\n",
      "\u001b[1;32m~\\Anaconda3\\lib\\site-packages\\sklearn\\metrics\\ranking.py\u001b[0m in \u001b[0;36mroc_auc_score\u001b[1;34m(y_true, y_score, average, sample_weight, max_fpr)\u001b[0m\n\u001b[0;32m    353\u001b[0m     return _average_binary_score(\n\u001b[0;32m    354\u001b[0m         \u001b[0m_binary_roc_auc_score\u001b[0m\u001b[1;33m,\u001b[0m \u001b[0my_true\u001b[0m\u001b[1;33m,\u001b[0m \u001b[0my_score\u001b[0m\u001b[1;33m,\u001b[0m \u001b[0maverage\u001b[0m\u001b[1;33m,\u001b[0m\u001b[1;33m\u001b[0m\u001b[1;33m\u001b[0m\u001b[0m\n\u001b[1;32m--> 355\u001b[1;33m         sample_weight=sample_weight)\n\u001b[0m\u001b[0;32m    356\u001b[0m \u001b[1;33m\u001b[0m\u001b[0m\n\u001b[0;32m    357\u001b[0m \u001b[1;33m\u001b[0m\u001b[0m\n",
      "\u001b[1;32m~\\Anaconda3\\lib\\site-packages\\sklearn\\metrics\\base.py\u001b[0m in \u001b[0;36m_average_binary_score\u001b[1;34m(binary_metric, y_true, y_score, average, sample_weight)\u001b[0m\n\u001b[0;32m     71\u001b[0m     \u001b[0my_type\u001b[0m \u001b[1;33m=\u001b[0m \u001b[0mtype_of_target\u001b[0m\u001b[1;33m(\u001b[0m\u001b[0my_true\u001b[0m\u001b[1;33m)\u001b[0m\u001b[1;33m\u001b[0m\u001b[1;33m\u001b[0m\u001b[0m\n\u001b[0;32m     72\u001b[0m     \u001b[1;32mif\u001b[0m \u001b[0my_type\u001b[0m \u001b[1;32mnot\u001b[0m \u001b[1;32min\u001b[0m \u001b[1;33m(\u001b[0m\u001b[1;34m\"binary\"\u001b[0m\u001b[1;33m,\u001b[0m \u001b[1;34m\"multilabel-indicator\"\u001b[0m\u001b[1;33m)\u001b[0m\u001b[1;33m:\u001b[0m\u001b[1;33m\u001b[0m\u001b[1;33m\u001b[0m\u001b[0m\n\u001b[1;32m---> 73\u001b[1;33m         \u001b[1;32mraise\u001b[0m \u001b[0mValueError\u001b[0m\u001b[1;33m(\u001b[0m\u001b[1;34m\"{0} format is not supported\"\u001b[0m\u001b[1;33m.\u001b[0m\u001b[0mformat\u001b[0m\u001b[1;33m(\u001b[0m\u001b[0my_type\u001b[0m\u001b[1;33m)\u001b[0m\u001b[1;33m)\u001b[0m\u001b[1;33m\u001b[0m\u001b[1;33m\u001b[0m\u001b[0m\n\u001b[0m\u001b[0;32m     74\u001b[0m \u001b[1;33m\u001b[0m\u001b[0m\n\u001b[0;32m     75\u001b[0m     \u001b[1;32mif\u001b[0m \u001b[0my_type\u001b[0m \u001b[1;33m==\u001b[0m \u001b[1;34m\"binary\"\u001b[0m\u001b[1;33m:\u001b[0m\u001b[1;33m\u001b[0m\u001b[1;33m\u001b[0m\u001b[0m\n",
      "\u001b[1;31mValueError\u001b[0m: multiclass format is not supported"
     ]
    }
   ],
   "source": [
    "from sklearn.metrics import roc_auc_score,roc_curve\n",
    "auc=roc_auc_score(pred_gbm,probability)\n",
    "print(\"auc:\",auc)"
   ]
  },
  {
   "cell_type": "code",
   "execution_count": null,
   "metadata": {},
   "outputs": [],
   "source": [
    "# ROC\n",
    "probs=gbm.predict_proba(xtest)# probability of 0 and 1\n",
    "probs[0:5]\n",
    "probability=probs[:,1]# probability of 1\n",
    "probability[0:5]\n",
    "\n",
    "auc=roc_auc_score(ytest,probability)\n",
    "print(\"auc:\",auc)\n",
    "fpr,tpr,thresold=roc_curve(ytest,probability)#false positive rate, true positive rate\n",
    "def curve(fpr,tpr):\n",
    "    plt.plot(fpr,tpr,color=\"red\",label=\"ROC\")\n",
    "    plt.plot([0,1],[0,1],color=\"crimson\",linestyle=\"--\")\n",
    "    plt.xlabel(\"False Positive Rate\")\n",
    "    plt.ylabel(\"False Negative Rate\")\n",
    "    plt.title(\"ROC Curve\")\n",
    "    plt.legend()\n",
    "    plt.show()\n",
    "\n",
    "curve(fpr,tpr)\n",
    "plt.show()# more area means \n",
    "\n",
    "from sklearn.metrics import classification_report\n",
    "print(classification_report(ytest,pred))"
   ]
  },
  {
   "cell_type": "code",
   "execution_count": null,
   "metadata": {},
   "outputs": [],
   "source": []
  },
  {
   "cell_type": "markdown",
   "metadata": {},
   "source": [
    "### Removing rating column"
   ]
  },
  {
   "cell_type": "code",
   "execution_count": 178,
   "metadata": {},
   "outputs": [
    {
     "data": {
      "text/plain": [
       "Index(['Rating', 'Votes', 'Reviews', 'Min_Order_clean', 'AvgCost_Clean',\n",
       "       'Location_Clean_Bangalore', 'Location_Clean_Delhi',\n",
       "       'Location_Clean_Gurgaon', 'Location_Clean_Hyderabad',\n",
       "       'Location_Clean_Kolkata', 'Location_Clean_Mumbai',\n",
       "       'Location_Clean_Noida', 'Location_Clean_Pune',\n",
       "       'Cuisines_Clean_Beverages', 'Cuisines_Clean_Deserts',\n",
       "       'Cuisines_Clean_Fast Food', 'Cuisines_Clean_Mains',\n",
       "       'Rating_Cat_Average', 'Rating_Cat_Excellent', 'Rating_Cat_Good',\n",
       "       'Rating_Cat_Poor', 'Rating_Cat_Very Good'],\n",
       "      dtype='object')"
      ]
     },
     "execution_count": 178,
     "metadata": {},
     "output_type": "execute_result"
    }
   ],
   "source": [
    "scaled_train.columns"
   ]
  },
  {
   "cell_type": "code",
   "execution_count": 179,
   "metadata": {},
   "outputs": [],
   "source": [
    "# Adaboost\n",
    "from sklearn.ensemble import BaggingClassifier\n",
    "bagg=BaggingClassifier(base_estimator=gbm)"
   ]
  },
  {
   "cell_type": "code",
   "execution_count": 180,
   "metadata": {},
   "outputs": [
    {
     "data": {
      "text/plain": [
       "Index(['Rating', 'Votes', 'Reviews', 'Min_Order_clean', 'AvgCost_Clean',\n",
       "       'Location_Clean_Bangalore', 'Location_Clean_Delhi',\n",
       "       'Location_Clean_Gurgaon', 'Location_Clean_Hyderabad',\n",
       "       'Location_Clean_Kolkata', 'Location_Clean_Mumbai',\n",
       "       'Location_Clean_Noida', 'Location_Clean_Pune',\n",
       "       'Cuisines_Clean_Beverages', 'Cuisines_Clean_Deserts',\n",
       "       'Cuisines_Clean_Fast Food', 'Cuisines_Clean_Mains',\n",
       "       'Rating_Cat_Average', 'Rating_Cat_Excellent', 'Rating_Cat_Good',\n",
       "       'Rating_Cat_Poor', 'Rating_Cat_Very Good'],\n",
       "      dtype='object')"
      ]
     },
     "execution_count": 180,
     "metadata": {},
     "output_type": "execute_result"
    }
   ],
   "source": [
    "x.columns"
   ]
  },
  {
   "cell_type": "code",
   "execution_count": 181,
   "metadata": {},
   "outputs": [
    {
     "data": {
      "text/html": [
       "<div>\n",
       "<style scoped>\n",
       "    .dataframe tbody tr th:only-of-type {\n",
       "        vertical-align: middle;\n",
       "    }\n",
       "\n",
       "    .dataframe tbody tr th {\n",
       "        vertical-align: top;\n",
       "    }\n",
       "\n",
       "    .dataframe thead th {\n",
       "        text-align: right;\n",
       "    }\n",
       "</style>\n",
       "<table border=\"1\" class=\"dataframe\">\n",
       "  <thead>\n",
       "    <tr style=\"text-align: right;\">\n",
       "      <th></th>\n",
       "      <th>Rating</th>\n",
       "      <th>Votes</th>\n",
       "      <th>Reviews</th>\n",
       "      <th>Min_Order_clean</th>\n",
       "      <th>AvgCost_Clean</th>\n",
       "      <th>Location_Clean_Bangalore</th>\n",
       "      <th>Location_Clean_Delhi</th>\n",
       "      <th>Location_Clean_Gurgaon</th>\n",
       "      <th>Location_Clean_Hyderabad</th>\n",
       "      <th>Location_Clean_Kolkata</th>\n",
       "      <th>...</th>\n",
       "      <th>Location_Clean_Pune</th>\n",
       "      <th>Cuisines_Clean_Beverages</th>\n",
       "      <th>Cuisines_Clean_Deserts</th>\n",
       "      <th>Cuisines_Clean_Fast Food</th>\n",
       "      <th>Cuisines_Clean_Mains</th>\n",
       "      <th>Rating_Cat_Average</th>\n",
       "      <th>Rating_Cat_Excellent</th>\n",
       "      <th>Rating_Cat_Good</th>\n",
       "      <th>Rating_Cat_Poor</th>\n",
       "      <th>Rating_Cat_Very Good</th>\n",
       "    </tr>\n",
       "  </thead>\n",
       "  <tbody>\n",
       "    <tr>\n",
       "      <th>0</th>\n",
       "      <td>3.5</td>\n",
       "      <td>12.0</td>\n",
       "      <td>4.0</td>\n",
       "      <td>50</td>\n",
       "      <td>200</td>\n",
       "      <td>0</td>\n",
       "      <td>0</td>\n",
       "      <td>0</td>\n",
       "      <td>0</td>\n",
       "      <td>0</td>\n",
       "      <td>...</td>\n",
       "      <td>1</td>\n",
       "      <td>0</td>\n",
       "      <td>0</td>\n",
       "      <td>1</td>\n",
       "      <td>0</td>\n",
       "      <td>0</td>\n",
       "      <td>0</td>\n",
       "      <td>1</td>\n",
       "      <td>0</td>\n",
       "      <td>0</td>\n",
       "    </tr>\n",
       "    <tr>\n",
       "      <th>1</th>\n",
       "      <td>3.5</td>\n",
       "      <td>11.0</td>\n",
       "      <td>4.0</td>\n",
       "      <td>50</td>\n",
       "      <td>100</td>\n",
       "      <td>1</td>\n",
       "      <td>0</td>\n",
       "      <td>0</td>\n",
       "      <td>0</td>\n",
       "      <td>0</td>\n",
       "      <td>...</td>\n",
       "      <td>0</td>\n",
       "      <td>0</td>\n",
       "      <td>1</td>\n",
       "      <td>0</td>\n",
       "      <td>0</td>\n",
       "      <td>0</td>\n",
       "      <td>0</td>\n",
       "      <td>1</td>\n",
       "      <td>0</td>\n",
       "      <td>0</td>\n",
       "    </tr>\n",
       "    <tr>\n",
       "      <th>2</th>\n",
       "      <td>3.6</td>\n",
       "      <td>99.0</td>\n",
       "      <td>30.0</td>\n",
       "      <td>50</td>\n",
       "      <td>150</td>\n",
       "      <td>0</td>\n",
       "      <td>0</td>\n",
       "      <td>0</td>\n",
       "      <td>0</td>\n",
       "      <td>0</td>\n",
       "      <td>...</td>\n",
       "      <td>0</td>\n",
       "      <td>0</td>\n",
       "      <td>0</td>\n",
       "      <td>0</td>\n",
       "      <td>1</td>\n",
       "      <td>0</td>\n",
       "      <td>0</td>\n",
       "      <td>1</td>\n",
       "      <td>0</td>\n",
       "      <td>0</td>\n",
       "    </tr>\n",
       "    <tr>\n",
       "      <th>3</th>\n",
       "      <td>3.7</td>\n",
       "      <td>176.0</td>\n",
       "      <td>95.0</td>\n",
       "      <td>99</td>\n",
       "      <td>250</td>\n",
       "      <td>0</td>\n",
       "      <td>0</td>\n",
       "      <td>0</td>\n",
       "      <td>0</td>\n",
       "      <td>0</td>\n",
       "      <td>...</td>\n",
       "      <td>0</td>\n",
       "      <td>0</td>\n",
       "      <td>0</td>\n",
       "      <td>0</td>\n",
       "      <td>1</td>\n",
       "      <td>0</td>\n",
       "      <td>0</td>\n",
       "      <td>1</td>\n",
       "      <td>0</td>\n",
       "      <td>0</td>\n",
       "    </tr>\n",
       "    <tr>\n",
       "      <th>4</th>\n",
       "      <td>3.2</td>\n",
       "      <td>521.0</td>\n",
       "      <td>235.0</td>\n",
       "      <td>99</td>\n",
       "      <td>200</td>\n",
       "      <td>1</td>\n",
       "      <td>0</td>\n",
       "      <td>0</td>\n",
       "      <td>0</td>\n",
       "      <td>0</td>\n",
       "      <td>...</td>\n",
       "      <td>0</td>\n",
       "      <td>0</td>\n",
       "      <td>0</td>\n",
       "      <td>1</td>\n",
       "      <td>0</td>\n",
       "      <td>1</td>\n",
       "      <td>0</td>\n",
       "      <td>0</td>\n",
       "      <td>0</td>\n",
       "      <td>0</td>\n",
       "    </tr>\n",
       "  </tbody>\n",
       "</table>\n",
       "<p>5 rows × 22 columns</p>\n",
       "</div>"
      ],
      "text/plain": [
       "   Rating  Votes  Reviews  Min_Order_clean  AvgCost_Clean  \\\n",
       "0     3.5   12.0      4.0               50            200   \n",
       "1     3.5   11.0      4.0               50            100   \n",
       "2     3.6   99.0     30.0               50            150   \n",
       "3     3.7  176.0     95.0               99            250   \n",
       "4     3.2  521.0    235.0               99            200   \n",
       "\n",
       "   Location_Clean_Bangalore  Location_Clean_Delhi  Location_Clean_Gurgaon  \\\n",
       "0                         0                     0                       0   \n",
       "1                         1                     0                       0   \n",
       "2                         0                     0                       0   \n",
       "3                         0                     0                       0   \n",
       "4                         1                     0                       0   \n",
       "\n",
       "   Location_Clean_Hyderabad  Location_Clean_Kolkata  ...  Location_Clean_Pune  \\\n",
       "0                         0                       0  ...                    1   \n",
       "1                         0                       0  ...                    0   \n",
       "2                         0                       0  ...                    0   \n",
       "3                         0                       0  ...                    0   \n",
       "4                         0                       0  ...                    0   \n",
       "\n",
       "   Cuisines_Clean_Beverages  Cuisines_Clean_Deserts  Cuisines_Clean_Fast Food  \\\n",
       "0                         0                       0                         1   \n",
       "1                         0                       1                         0   \n",
       "2                         0                       0                         0   \n",
       "3                         0                       0                         0   \n",
       "4                         0                       0                         1   \n",
       "\n",
       "   Cuisines_Clean_Mains  Rating_Cat_Average  Rating_Cat_Excellent  \\\n",
       "0                     0                   0                     0   \n",
       "1                     0                   0                     0   \n",
       "2                     1                   0                     0   \n",
       "3                     1                   0                     0   \n",
       "4                     0                   1                     0   \n",
       "\n",
       "   Rating_Cat_Good  Rating_Cat_Poor  Rating_Cat_Very Good  \n",
       "0                1                0                     0  \n",
       "1                1                0                     0  \n",
       "2                1                0                     0  \n",
       "3                1                0                     0  \n",
       "4                0                0                     0  \n",
       "\n",
       "[5 rows x 22 columns]"
      ]
     },
     "execution_count": 181,
     "metadata": {},
     "output_type": "execute_result"
    }
   ],
   "source": [
    "x.head()"
   ]
  },
  {
   "cell_type": "code",
   "execution_count": 265,
   "metadata": {},
   "outputs": [
    {
     "data": {
      "text/plain": [
       "(13868, 14)"
      ]
     },
     "execution_count": 265,
     "metadata": {},
     "output_type": "execute_result"
    }
   ],
   "source": [
    "combined.shape"
   ]
  },
  {
   "cell_type": "code",
   "execution_count": null,
   "metadata": {},
   "outputs": [],
   "source": []
  },
  {
   "cell_type": "code",
   "execution_count": 266,
   "metadata": {},
   "outputs": [
    {
     "data": {
      "text/plain": [
       "(11094, 9)"
      ]
     },
     "execution_count": 266,
     "metadata": {},
     "output_type": "execute_result"
    }
   ],
   "source": [
    "finaltrain.shape"
   ]
  },
  {
   "cell_type": "code",
   "execution_count": 184,
   "metadata": {},
   "outputs": [
    {
     "data": {
      "text/html": [
       "<div>\n",
       "<style scoped>\n",
       "    .dataframe tbody tr th:only-of-type {\n",
       "        vertical-align: middle;\n",
       "    }\n",
       "\n",
       "    .dataframe tbody tr th {\n",
       "        vertical-align: top;\n",
       "    }\n",
       "\n",
       "    .dataframe thead th {\n",
       "        text-align: right;\n",
       "    }\n",
       "</style>\n",
       "<table border=\"1\" class=\"dataframe\">\n",
       "  <thead>\n",
       "    <tr style=\"text-align: right;\">\n",
       "      <th></th>\n",
       "      <th>Rating</th>\n",
       "      <th>Votes</th>\n",
       "      <th>Reviews</th>\n",
       "      <th>Min_Order_clean</th>\n",
       "      <th>AvgCost_Clean</th>\n",
       "      <th>Delivery_Time_coded</th>\n",
       "      <th>Location_Clean_Bangalore</th>\n",
       "      <th>Location_Clean_Delhi</th>\n",
       "      <th>Location_Clean_Gurgaon</th>\n",
       "      <th>Location_Clean_Hyderabad</th>\n",
       "      <th>...</th>\n",
       "      <th>Location_Clean_Pune</th>\n",
       "      <th>Cuisines_Clean_Beverages</th>\n",
       "      <th>Cuisines_Clean_Deserts</th>\n",
       "      <th>Cuisines_Clean_Fast Food</th>\n",
       "      <th>Cuisines_Clean_Mains</th>\n",
       "      <th>Rating_Cat_Average</th>\n",
       "      <th>Rating_Cat_Excellent</th>\n",
       "      <th>Rating_Cat_Good</th>\n",
       "      <th>Rating_Cat_Poor</th>\n",
       "      <th>Rating_Cat_Very Good</th>\n",
       "    </tr>\n",
       "  </thead>\n",
       "  <tbody>\n",
       "    <tr>\n",
       "      <th>0</th>\n",
       "      <td>3.5</td>\n",
       "      <td>12.0</td>\n",
       "      <td>4.0</td>\n",
       "      <td>50</td>\n",
       "      <td>200</td>\n",
       "      <td>3</td>\n",
       "      <td>0</td>\n",
       "      <td>0</td>\n",
       "      <td>0</td>\n",
       "      <td>0</td>\n",
       "      <td>...</td>\n",
       "      <td>1</td>\n",
       "      <td>0</td>\n",
       "      <td>0</td>\n",
       "      <td>1</td>\n",
       "      <td>0</td>\n",
       "      <td>0</td>\n",
       "      <td>0</td>\n",
       "      <td>1</td>\n",
       "      <td>0</td>\n",
       "      <td>0</td>\n",
       "    </tr>\n",
       "    <tr>\n",
       "      <th>1</th>\n",
       "      <td>3.5</td>\n",
       "      <td>11.0</td>\n",
       "      <td>4.0</td>\n",
       "      <td>50</td>\n",
       "      <td>100</td>\n",
       "      <td>3</td>\n",
       "      <td>1</td>\n",
       "      <td>0</td>\n",
       "      <td>0</td>\n",
       "      <td>0</td>\n",
       "      <td>...</td>\n",
       "      <td>0</td>\n",
       "      <td>0</td>\n",
       "      <td>1</td>\n",
       "      <td>0</td>\n",
       "      <td>0</td>\n",
       "      <td>0</td>\n",
       "      <td>0</td>\n",
       "      <td>1</td>\n",
       "      <td>0</td>\n",
       "      <td>0</td>\n",
       "    </tr>\n",
       "    <tr>\n",
       "      <th>2</th>\n",
       "      <td>3.6</td>\n",
       "      <td>99.0</td>\n",
       "      <td>30.0</td>\n",
       "      <td>50</td>\n",
       "      <td>150</td>\n",
       "      <td>5</td>\n",
       "      <td>0</td>\n",
       "      <td>0</td>\n",
       "      <td>0</td>\n",
       "      <td>0</td>\n",
       "      <td>...</td>\n",
       "      <td>0</td>\n",
       "      <td>0</td>\n",
       "      <td>0</td>\n",
       "      <td>0</td>\n",
       "      <td>1</td>\n",
       "      <td>0</td>\n",
       "      <td>0</td>\n",
       "      <td>1</td>\n",
       "      <td>0</td>\n",
       "      <td>0</td>\n",
       "    </tr>\n",
       "    <tr>\n",
       "      <th>3</th>\n",
       "      <td>3.7</td>\n",
       "      <td>176.0</td>\n",
       "      <td>95.0</td>\n",
       "      <td>99</td>\n",
       "      <td>250</td>\n",
       "      <td>3</td>\n",
       "      <td>0</td>\n",
       "      <td>0</td>\n",
       "      <td>0</td>\n",
       "      <td>0</td>\n",
       "      <td>...</td>\n",
       "      <td>0</td>\n",
       "      <td>0</td>\n",
       "      <td>0</td>\n",
       "      <td>0</td>\n",
       "      <td>1</td>\n",
       "      <td>0</td>\n",
       "      <td>0</td>\n",
       "      <td>1</td>\n",
       "      <td>0</td>\n",
       "      <td>0</td>\n",
       "    </tr>\n",
       "    <tr>\n",
       "      <th>4</th>\n",
       "      <td>3.2</td>\n",
       "      <td>521.0</td>\n",
       "      <td>235.0</td>\n",
       "      <td>99</td>\n",
       "      <td>200</td>\n",
       "      <td>5</td>\n",
       "      <td>1</td>\n",
       "      <td>0</td>\n",
       "      <td>0</td>\n",
       "      <td>0</td>\n",
       "      <td>...</td>\n",
       "      <td>0</td>\n",
       "      <td>0</td>\n",
       "      <td>0</td>\n",
       "      <td>1</td>\n",
       "      <td>0</td>\n",
       "      <td>1</td>\n",
       "      <td>0</td>\n",
       "      <td>0</td>\n",
       "      <td>0</td>\n",
       "      <td>0</td>\n",
       "    </tr>\n",
       "  </tbody>\n",
       "</table>\n",
       "<p>5 rows × 23 columns</p>\n",
       "</div>"
      ],
      "text/plain": [
       "   Rating  Votes  Reviews  Min_Order_clean  AvgCost_Clean  \\\n",
       "0     3.5   12.0      4.0               50            200   \n",
       "1     3.5   11.0      4.0               50            100   \n",
       "2     3.6   99.0     30.0               50            150   \n",
       "3     3.7  176.0     95.0               99            250   \n",
       "4     3.2  521.0    235.0               99            200   \n",
       "\n",
       "   Delivery_Time_coded  Location_Clean_Bangalore  Location_Clean_Delhi  \\\n",
       "0                    3                         0                     0   \n",
       "1                    3                         1                     0   \n",
       "2                    5                         0                     0   \n",
       "3                    3                         0                     0   \n",
       "4                    5                         1                     0   \n",
       "\n",
       "   Location_Clean_Gurgaon  Location_Clean_Hyderabad  ...  Location_Clean_Pune  \\\n",
       "0                       0                         0  ...                    1   \n",
       "1                       0                         0  ...                    0   \n",
       "2                       0                         0  ...                    0   \n",
       "3                       0                         0  ...                    0   \n",
       "4                       0                         0  ...                    0   \n",
       "\n",
       "   Cuisines_Clean_Beverages  Cuisines_Clean_Deserts  Cuisines_Clean_Fast Food  \\\n",
       "0                         0                       0                         1   \n",
       "1                         0                       1                         0   \n",
       "2                         0                       0                         0   \n",
       "3                         0                       0                         0   \n",
       "4                         0                       0                         1   \n",
       "\n",
       "   Cuisines_Clean_Mains  Rating_Cat_Average  Rating_Cat_Excellent  \\\n",
       "0                     0                   0                     0   \n",
       "1                     0                   0                     0   \n",
       "2                     1                   0                     0   \n",
       "3                     1                   0                     0   \n",
       "4                     0                   1                     0   \n",
       "\n",
       "   Rating_Cat_Good  Rating_Cat_Poor  Rating_Cat_Very Good  \n",
       "0                1                0                     0  \n",
       "1                1                0                     0  \n",
       "2                1                0                     0  \n",
       "3                1                0                     0  \n",
       "4                0                0                     0  \n",
       "\n",
       "[5 rows x 23 columns]"
      ]
     },
     "execution_count": 184,
     "metadata": {},
     "output_type": "execute_result"
    }
   ],
   "source": [
    "dummytrain.head()"
   ]
  },
  {
   "cell_type": "code",
   "execution_count": 186,
   "metadata": {},
   "outputs": [
    {
     "data": {
      "text/plain": [
       "Rating                      0.162899\n",
       "Votes                       0.248380\n",
       "Reviews                     0.218365\n",
       "Min_Order_clean             0.181718\n",
       "AvgCost_Clean               0.209376\n",
       "Delivery_Time_coded         1.000000\n",
       "Location_Clean_Bangalore   -0.002588\n",
       "Location_Clean_Delhi       -0.005853\n",
       "Location_Clean_Gurgaon      0.004016\n",
       "Location_Clean_Hyderabad   -0.022655\n",
       "Location_Clean_Kolkata      0.021998\n",
       "Location_Clean_Mumbai       0.020826\n",
       "Location_Clean_Noida        0.018212\n",
       "Location_Clean_Pune        -0.031684\n",
       "Cuisines_Clean_Beverages   -0.037510\n",
       "Cuisines_Clean_Deserts     -0.043390\n",
       "Cuisines_Clean_Fast Food   -0.018284\n",
       "Cuisines_Clean_Mains        0.059145\n",
       "Rating_Cat_Average         -0.093899\n",
       "Rating_Cat_Excellent        0.038775\n",
       "Rating_Cat_Good            -0.070835\n",
       "Rating_Cat_Poor             0.027215\n",
       "Rating_Cat_Very Good        0.177705\n",
       "Name: Delivery_Time_coded, dtype: float64"
      ]
     },
     "execution_count": 186,
     "metadata": {},
     "output_type": "execute_result"
    }
   ],
   "source": [
    "dummytrain.corr()[\"Delivery_Time_coded\"]"
   ]
  },
  {
   "cell_type": "code",
   "execution_count": 193,
   "metadata": {},
   "outputs": [
    {
     "data": {
      "text/html": [
       "<div>\n",
       "<style scoped>\n",
       "    .dataframe tbody tr th:only-of-type {\n",
       "        vertical-align: middle;\n",
       "    }\n",
       "\n",
       "    .dataframe tbody tr th {\n",
       "        vertical-align: top;\n",
       "    }\n",
       "\n",
       "    .dataframe thead th {\n",
       "        text-align: right;\n",
       "    }\n",
       "</style>\n",
       "<table border=\"1\" class=\"dataframe\">\n",
       "  <thead>\n",
       "    <tr style=\"text-align: right;\">\n",
       "      <th></th>\n",
       "      <th>Rating</th>\n",
       "      <th>Votes</th>\n",
       "      <th>Reviews</th>\n",
       "      <th>Min_Order_clean</th>\n",
       "      <th>AvgCost_Clean</th>\n",
       "      <th>Rating_Cat_Very Good</th>\n",
       "    </tr>\n",
       "  </thead>\n",
       "  <tbody>\n",
       "    <tr>\n",
       "      <th>0</th>\n",
       "      <td>3.5</td>\n",
       "      <td>12.0</td>\n",
       "      <td>4.0</td>\n",
       "      <td>50</td>\n",
       "      <td>200</td>\n",
       "      <td>0</td>\n",
       "    </tr>\n",
       "    <tr>\n",
       "      <th>1</th>\n",
       "      <td>3.5</td>\n",
       "      <td>11.0</td>\n",
       "      <td>4.0</td>\n",
       "      <td>50</td>\n",
       "      <td>100</td>\n",
       "      <td>0</td>\n",
       "    </tr>\n",
       "    <tr>\n",
       "      <th>2</th>\n",
       "      <td>3.6</td>\n",
       "      <td>99.0</td>\n",
       "      <td>30.0</td>\n",
       "      <td>50</td>\n",
       "      <td>150</td>\n",
       "      <td>0</td>\n",
       "    </tr>\n",
       "    <tr>\n",
       "      <th>3</th>\n",
       "      <td>3.7</td>\n",
       "      <td>176.0</td>\n",
       "      <td>95.0</td>\n",
       "      <td>99</td>\n",
       "      <td>250</td>\n",
       "      <td>0</td>\n",
       "    </tr>\n",
       "    <tr>\n",
       "      <th>4</th>\n",
       "      <td>3.2</td>\n",
       "      <td>521.0</td>\n",
       "      <td>235.0</td>\n",
       "      <td>99</td>\n",
       "      <td>200</td>\n",
       "      <td>0</td>\n",
       "    </tr>\n",
       "  </tbody>\n",
       "</table>\n",
       "</div>"
      ],
      "text/plain": [
       "   Rating  Votes  Reviews  Min_Order_clean  AvgCost_Clean  \\\n",
       "0     3.5   12.0      4.0               50            200   \n",
       "1     3.5   11.0      4.0               50            100   \n",
       "2     3.6   99.0     30.0               50            150   \n",
       "3     3.7  176.0     95.0               99            250   \n",
       "4     3.2  521.0    235.0               99            200   \n",
       "\n",
       "   Rating_Cat_Very Good  \n",
       "0                     0  \n",
       "1                     0  \n",
       "2                     0  \n",
       "3                     0  \n",
       "4                     0  "
      ]
     },
     "execution_count": 193,
     "metadata": {},
     "output_type": "execute_result"
    }
   ],
   "source": [
    "x_imp=dummytrain[[\"Rating\",\"Votes\",\"Reviews\",\"Min_Order_clean\",\"AvgCost_Clean\",\"Rating_Cat_Very Good\"]]\n",
    "x_imp.head()"
   ]
  },
  {
   "cell_type": "code",
   "execution_count": null,
   "metadata": {},
   "outputs": [],
   "source": []
  },
  {
   "cell_type": "code",
   "execution_count": 194,
   "metadata": {},
   "outputs": [],
   "source": [
    "y=dummytrain.Delivery_Time_coded\n",
    "xtrain,xtest,ytrain,ytest=train_test_split(x_imp,y,test_size=0.20,random_state=123)"
   ]
  },
  {
   "cell_type": "code",
   "execution_count": 220,
   "metadata": {},
   "outputs": [],
   "source": [
    "from sklearn.preprocessing import StandardScaler\n",
    "sc=StandardScaler()\n",
    "xtrain2 = sc.fit_transform(xtrain)\n",
    "xtest2 = sc.transform(xtest)"
   ]
  },
  {
   "cell_type": "code",
   "execution_count": 240,
   "metadata": {},
   "outputs": [
    {
     "data": {
      "text/html": [
       "<div>\n",
       "<style scoped>\n",
       "    .dataframe tbody tr th:only-of-type {\n",
       "        vertical-align: middle;\n",
       "    }\n",
       "\n",
       "    .dataframe tbody tr th {\n",
       "        vertical-align: top;\n",
       "    }\n",
       "\n",
       "    .dataframe thead th {\n",
       "        text-align: right;\n",
       "    }\n",
       "</style>\n",
       "<table border=\"1\" class=\"dataframe\">\n",
       "  <thead>\n",
       "    <tr style=\"text-align: right;\">\n",
       "      <th></th>\n",
       "      <th>KNN</th>\n",
       "      <th>DecisionTree</th>\n",
       "      <th>RandomForest</th>\n",
       "      <th>GradientBoosting</th>\n",
       "      <th>SVC</th>\n",
       "      <th>Gaussian naive</th>\n",
       "    </tr>\n",
       "  </thead>\n",
       "  <tbody>\n",
       "    <tr>\n",
       "      <th>Accuracy</th>\n",
       "      <td>0.695358</td>\n",
       "      <td>0.749887</td>\n",
       "      <td>0.792699</td>\n",
       "      <td>0.737269</td>\n",
       "      <td>0.718792</td>\n",
       "      <td>0.090131</td>\n",
       "    </tr>\n",
       "    <tr>\n",
       "      <th>Cohen-kappa</th>\n",
       "      <td>0.277100</td>\n",
       "      <td>0.485842</td>\n",
       "      <td>0.538329</td>\n",
       "      <td>0.391269</td>\n",
       "      <td>0.278543</td>\n",
       "      <td>0.023038</td>\n",
       "    </tr>\n",
       "    <tr>\n",
       "      <th>MCC</th>\n",
       "      <td>0.287915</td>\n",
       "      <td>0.485956</td>\n",
       "      <td>0.542997</td>\n",
       "      <td>0.400682</td>\n",
       "      <td>0.311362</td>\n",
       "      <td>0.035377</td>\n",
       "    </tr>\n",
       "  </tbody>\n",
       "</table>\n",
       "</div>"
      ],
      "text/plain": [
       "                  KNN  DecisionTree  RandomForest  GradientBoosting       SVC  \\\n",
       "Accuracy     0.695358      0.749887      0.792699          0.737269  0.718792   \n",
       "Cohen-kappa  0.277100      0.485842      0.538329          0.391269  0.278543   \n",
       "MCC          0.287915      0.485956      0.542997          0.400682  0.311362   \n",
       "\n",
       "             Gaussian naive  \n",
       "Accuracy           0.090131  \n",
       "Cohen-kappa        0.023038  \n",
       "MCC                0.035377  "
      ]
     },
     "execution_count": 240,
     "metadata": {},
     "output_type": "execute_result"
    }
   ],
   "source": [
    "from sklearn.neighbors import KNeighborsClassifier\n",
    "from sklearn.ensemble import RandomForestClassifier\n",
    "from sklearn.ensemble import GradientBoostingClassifier\n",
    "from sklearn.naive_bayes import GaussianNB\n",
    "from sklearn.tree import DecisionTreeClassifier\n",
    "from sklearn.metrics import accuracy_score,classification_report,confusion_matrix,cohen_kappa_score\n",
    "\n",
    "# KNN Model\n",
    "\n",
    "knn2=KNeighborsClassifier()\n",
    "pred_knn2=knn2.fit(xtrain2,ytrain).predict(xtest2)\n",
    "knn_accuracy=accuracy_score(ytest,pred_knn2)\n",
    "knn_kappa=cohen_kappa_score(ytest,pred_knn2)\n",
    "knn_mcc=matthews_corrcoef(ytest,pred_knn2)\n",
    "\n",
    "#     print(\"KNN\")\n",
    "#     print(\"The Accuracy is {:.2f}\".format(accuracy_score(ytest,pred_knn2)))\n",
    "#     print(\"TheKappa Score is {:.2f}\".format(cohen_kappa_score(ytest,pred_knn2)))\n",
    "#     print(\"The MCC is {:.2f}\".format(matthews_corrcoef(ytest,pred_knn2)))\n",
    "#     print()\n",
    "################################################################################################\n",
    "\n",
    "rf2 = RandomForestClassifier(criterion=\"entropy\")\n",
    "pred_rf2 = rf2.fit(xtrain2,ytrain).predict(xtest2)\n",
    "rf_accuracy=accuracy_score(ytest,pred_rf2)\n",
    "rf_kappa=cohen_kappa_score(ytest,pred_rf2)\n",
    "rf_mcc=matthews_corrcoef(ytest,pred_rf2)\n",
    "#     print(\"RandomForest\")\n",
    "#     print(\"The Accuracy is {:.2f}\".format(accuracy_score(ytest,pred_rf2)))\n",
    "#     print(\"TheKappa Score is {:.2f}\".format(cohen_kappa_score(ytest,pred_rf2)))\n",
    "#     print(\"The MCC is {:.2f}\".format(matthews_corrcoef(ytest,pred_rf2)))\n",
    "#     print()\n",
    "###############################################################################################\n",
    "# Boosting\n",
    "\n",
    "gbm2 = GradientBoostingClassifier()\n",
    "pred_gbm2 =gbm2.fit(xtrain2,ytrain).predict(xtest2)\n",
    "gbm_accuracy=accuracy_score(ytest,pred_gbm2)\n",
    "gbm_kappa=cohen_kappa_score(ytest,pred_gbm2)\n",
    "gbm_mcc=matthews_corrcoef(ytest,pred_gbm2)\n",
    "#     print(\"GradientBoosting\")\n",
    "#     print(\"The Accuracyis {:.2f}\".format(accuracy_score(ytest,pred_gbm2)))\n",
    "#     print(\"TheKappa Score is {:.2f}\".format(cohen_kappa_score(ytest,pred_gbm2)))\n",
    "#     print(\"The MCC is {:.2f}\".format(matthews_corrcoef(ytest,pred_gbm2)))\n",
    "#     print()\n",
    "##############################################################################################\n",
    "from sklearn.svm import SVC\n",
    "svc2 = SVC()\n",
    "pred_svc2 =svc2.fit(xtrain2,ytrain).predict(xtest2)\n",
    "# print(\"Accuracy on training set: {:.2f}\".format(svc.score(scaled_train, ytrain)))\n",
    "svc_accuracy=accuracy_score(ytest,pred_svc2)\n",
    "svc_kappa=cohen_kappa_score(ytest,pred_svc2)\n",
    "svc_mcc=matthews_corrcoef(ytest,pred_svc2)\n",
    "#     print(\"SVC\")\n",
    "#     print(\"Accuracy on test set: {:.2f}\".format(svc2.score(xtest2, ytest)))\n",
    "#     print(\"TheKappa Score is {:.2f}\".format(cohen_kappa_score(ytest,pred_svc2)))\n",
    "#     print(\"The MCC is {:.2f}\".format(matthews_corrcoef(ytest,pred_svc2)))\n",
    "#     print()\n",
    "##############################################################################################\n",
    "\n",
    "naiveClassifier2=GaussianNB()\n",
    "pred_naiv2 = naiveClassifier2.fit(xtrain2,ytrain).predict(xtest2)\n",
    "nb_accuracy=naiveClassifier2.score(xtest2, ytest)\n",
    "nb_kappa=cohen_kappa_score(ytest,pred_naiv2)\n",
    "nb_mcc=matthews_corrcoef(ytest,pred_naiv2)\n",
    "#     print(\"Gaussian naive\")\n",
    "# print(\"Accuracy on training set: {:.2f}\".format(naiveClassifier.score(xtrain2, ytrain)))\n",
    "#     print(\"Accuracy on test set: {:.2f}\".format(naiveClassifier2.score(xtest2, ytest)))\n",
    "#     print(\"TheKappa Score is {:.2f}\".format(cohen_kappa_score(ytest,pred_naiv2)))\n",
    "#     print(\"The MCC is {:.2f}\".format(matthews_corrcoef(ytest,pred_naiv2)))\n",
    "#     print()\n",
    "#####################################################################################################\n",
    "\n",
    "dtree2=DecisionTreeClassifier()\n",
    "pred_dtree2 = dtree.fit(xtrain2,ytrain).predict(xtest2)\n",
    "dt_accuracy=accuracy_score(ytest,pred_dtree2)\n",
    "dt_kappa=cohen_kappa_score(ytest,pred_dtree2)\n",
    "dt_mcc=matthews_corrcoef(ytest,pred_dtree2)\n",
    "#     print(\"DecisionTree\")\n",
    "#     print(\"Accuracy on test set: {:.2f}\".format(accuracy_score(ytest,pred_dtree2)))\n",
    "#     print(\"TheKappa Score is {:.2f}\".format(cohen_kappa_score(ytest,pred_dtree2)))\n",
    "#     print(\"The MCC is {:.2f}\".format(matthews_corrcoef(ytest,pred_dtree2)))\n",
    "\n",
    "test_result={\"KNN\":(knn_accuracy,knn_kappa,knn_mcc),\n",
    "       \"DecisionTree\":(dt_accuracy,dt_kappa,dt_mcc),\n",
    "      \"RandomForest\":(rf_accuracy,rf_kappa,rf_mcc),\n",
    "      \"GradientBoosting\":(gbm_accuracy,gbm_kappa,gbm_mcc),\n",
    "      \"SVC\":(svc_accuracy,svc_kappa,svc_mcc),\n",
    "      \"Gaussian naive\":(nb_accuracy,nb_kappa,nb_mcc),}\n",
    "\n",
    "table1=pd.DataFrame(test_result,index=[\"Accuracy\",\"Cohen-kappa\",\"MCC\"])\n",
    "table1"
   ]
  },
  {
   "cell_type": "code",
   "execution_count": 245,
   "metadata": {},
   "outputs": [
    {
     "name": "stdout",
     "output_type": "stream",
     "text": [
      "KNN\n",
      "RandomForest\n",
      "GradientBoosting\n",
      "SVC\n",
      "Gaussian naive\n",
      "DecisionTree\n",
      "Bagging\n",
      "Adaboost\n",
      "XGBOOST\n",
      "Voting Classifier\n",
      "The accuracy score is 0.8012618296529969\n",
      "The Kappa score is 0.5471818335781177\n",
      "The MCC is 0.5560372144291187\n",
      "\n"
     ]
    },
    {
     "data": {
      "text/html": [
       "<div>\n",
       "<style scoped>\n",
       "    .dataframe tbody tr th:only-of-type {\n",
       "        vertical-align: middle;\n",
       "    }\n",
       "\n",
       "    .dataframe tbody tr th {\n",
       "        vertical-align: top;\n",
       "    }\n",
       "\n",
       "    .dataframe thead th {\n",
       "        text-align: right;\n",
       "    }\n",
       "</style>\n",
       "<table border=\"1\" class=\"dataframe\">\n",
       "  <thead>\n",
       "    <tr style=\"text-align: right;\">\n",
       "      <th></th>\n",
       "      <th>KNN</th>\n",
       "      <th>RandomForest</th>\n",
       "      <th>DecisionTree</th>\n",
       "      <th>SVC</th>\n",
       "      <th>Gaussian naive</th>\n",
       "      <th>Bagging Classifier</th>\n",
       "      <th>GradientBoosting</th>\n",
       "      <th>AdaBoost Classifier</th>\n",
       "      <th>XGBOOST Classifier</th>\n",
       "      <th>Voting Classifier</th>\n",
       "    </tr>\n",
       "  </thead>\n",
       "  <tbody>\n",
       "    <tr>\n",
       "      <th>Accuracy</th>\n",
       "      <td>0.695358</td>\n",
       "      <td>0.787742</td>\n",
       "      <td>0.753042</td>\n",
       "      <td>0.718792</td>\n",
       "      <td>0.090131</td>\n",
       "      <td>0.796755</td>\n",
       "      <td>0.737269</td>\n",
       "      <td>0.643533</td>\n",
       "      <td>0.713835</td>\n",
       "      <td>0.801262</td>\n",
       "    </tr>\n",
       "    <tr>\n",
       "      <th>Cohen-kappa</th>\n",
       "      <td>0.277100</td>\n",
       "      <td>0.523970</td>\n",
       "      <td>0.491761</td>\n",
       "      <td>0.278543</td>\n",
       "      <td>0.023038</td>\n",
       "      <td>0.534055</td>\n",
       "      <td>0.391269</td>\n",
       "      <td>0.288718</td>\n",
       "      <td>0.342857</td>\n",
       "      <td>0.547182</td>\n",
       "    </tr>\n",
       "    <tr>\n",
       "      <th>MCC</th>\n",
       "      <td>0.287915</td>\n",
       "      <td>0.529682</td>\n",
       "      <td>0.491858</td>\n",
       "      <td>0.311362</td>\n",
       "      <td>0.035377</td>\n",
       "      <td>0.544031</td>\n",
       "      <td>0.400682</td>\n",
       "      <td>0.294294</td>\n",
       "      <td>0.350319</td>\n",
       "      <td>0.556037</td>\n",
       "    </tr>\n",
       "  </tbody>\n",
       "</table>\n",
       "</div>"
      ],
      "text/plain": [
       "                  KNN  RandomForest  DecisionTree       SVC  Gaussian naive  \\\n",
       "Accuracy     0.695358      0.787742      0.753042  0.718792        0.090131   \n",
       "Cohen-kappa  0.277100      0.523970      0.491761  0.278543        0.023038   \n",
       "MCC          0.287915      0.529682      0.491858  0.311362        0.035377   \n",
       "\n",
       "             Bagging Classifier  GradientBoosting  AdaBoost Classifier  \\\n",
       "Accuracy               0.796755          0.737269             0.643533   \n",
       "Cohen-kappa            0.534055          0.391269             0.288718   \n",
       "MCC                    0.544031          0.400682             0.294294   \n",
       "\n",
       "             XGBOOST Classifier  Voting Classifier  \n",
       "Accuracy               0.713835           0.801262  \n",
       "Cohen-kappa            0.342857           0.547182  \n",
       "MCC                    0.350319           0.556037  "
      ]
     },
     "execution_count": 245,
     "metadata": {},
     "output_type": "execute_result"
    }
   ],
   "source": [
    "from sklearn.neighbors import KNeighborsClassifier\n",
    "from sklearn.ensemble import RandomForestClassifier\n",
    "from sklearn.ensemble import GradientBoostingClassifier\n",
    "from sklearn.naive_bayes import GaussianNB\n",
    "from sklearn.tree import DecisionTreeClassifier\n",
    "from sklearn.metrics import accuracy_score,classification_report,confusion_matrix,cohen_kappa_score\n",
    "\n",
    "# KNN Model\n",
    "\n",
    "knn2=KNeighborsClassifier()\n",
    "pred_knn2=knn2.fit(xtrain2,ytrain).predict(xtest2)\n",
    "knn_accuracy=accuracy_score(ytest,pred_knn2)\n",
    "knn_kappa=cohen_kappa_score(ytest,pred_knn2)\n",
    "knn_mcc=matthews_corrcoef(ytest,pred_knn2)\n",
    "\n",
    "print(\"KNN\")\n",
    "# print(\"The Accuracy is {:.2f}\".format(accuracy_score(ytest,pred_knn2)))\n",
    "# print(\"TheKappa Score is {:.2f}\".format(cohen_kappa_score(ytest,pred_knn2)))\n",
    "# print(\"The MCC is {:.2f}\".format(matthews_corrcoef(ytest,pred_knn2)))\n",
    "# print()\n",
    "################################################################################################\n",
    "#RF\n",
    "\n",
    "rf2 = RandomForestClassifier(criterion=\"entropy\")\n",
    "pred_rf2 = rf2.fit(xtrain2,ytrain).predict(xtest2)\n",
    "rf_accuracy=accuracy_score(ytest,pred_rf2)\n",
    "rf_kappa=cohen_kappa_score(ytest,pred_rf2)\n",
    "rf_mcc=matthews_corrcoef(ytest,pred_rf2)\n",
    "print(\"RandomForest\")\n",
    "# print(\"The Accuracy is {:.2f}\".format(accuracy_score(ytest,pred_rf2)))\n",
    "# print(\"TheKappa Score is {:.2f}\".format(cohen_kappa_score(ytest,pred_rf2)))\n",
    "# print(\"The MCC is {:.2f}\".format(matthews_corrcoef(ytest,pred_rf2)))\n",
    "# print()\n",
    "###############################################################################################\n",
    "# Boosting\n",
    "\n",
    "gbm2 = GradientBoostingClassifier()\n",
    "pred_gbm2 =gbm2.fit(xtrain2,ytrain).predict(xtest2)\n",
    "gbm_accuracy=accuracy_score(ytest,pred_gbm2)\n",
    "gbm_kappa=cohen_kappa_score(ytest,pred_gbm2)\n",
    "gbm_mcc=matthews_corrcoef(ytest,pred_gbm2)\n",
    "print(\"GradientBoosting\")\n",
    "# print(\"The Accuracyis {:.2f}\".format(accuracy_score(ytest,pred_gbm2)))\n",
    "# print(\"TheKappa Score is {:.2f}\".format(cohen_kappa_score(ytest,pred_gbm2)))\n",
    "# print(\"The MCC is {:.2f}\".format(matthews_corrcoef(ytest,pred_gbm2)))\n",
    "# print()\n",
    "##############################################################################################\n",
    "from sklearn.svm import SVC\n",
    "svc2 = SVC()\n",
    "pred_svc2 =svc2.fit(xtrain2,ytrain).predict(xtest2)\n",
    "# print(\"Accuracy on training set: {:.2f}\".format(svc.score(scaled_train, ytrain)))\n",
    "svc_accuracy=accuracy_score(ytest,pred_svc2)\n",
    "svc_kappa=cohen_kappa_score(ytest,pred_svc2)\n",
    "svc_mcc=matthews_corrcoef(ytest,pred_svc2)\n",
    "print(\"SVC\")\n",
    "# print(\"Accuracy on test set: {:.2f}\".format(svc2.score(xtest2, ytest)))\n",
    "# print(\"TheKappa Score is {:.2f}\".format(cohen_kappa_score(ytest,pred_svc2)))\n",
    "# print(\"The MCC is {:.2f}\".format(matthews_corrcoef(ytest,pred_svc2)))\n",
    "# print()\n",
    "##############################################################################################\n",
    "\n",
    "naiveClassifier2=GaussianNB()\n",
    "pred_naiv2 = naiveClassifier2.fit(xtrain2,ytrain).predict(xtest2)\n",
    "nb_accuracy=naiveClassifier2.score(xtest2, ytest)\n",
    "nb_kappa=cohen_kappa_score(ytest,pred_naiv2)\n",
    "nb_mcc=matthews_corrcoef(ytest,pred_naiv2)\n",
    "print(\"Gaussian naive\")\n",
    "# print(\"Accuracy on training set: {:.2f}\".format(naiveClassifier.score(xtrain2, ytrain)))\n",
    "# print(\"Accuracy on test set: {:.2f}\".format(naiveClassifier2.score(xtest2, ytest)))\n",
    "# print(\"TheKappa Score is {:.2f}\".format(cohen_kappa_score(ytest,pred_naiv2)))\n",
    "# print(\"The MCC is {:.2f}\".format(matthews_corrcoef(ytest,pred_naiv2)))\n",
    "# print()\n",
    "#####################################################################################################\n",
    "\n",
    "dtree2=DecisionTreeClassifier()\n",
    "pred_dtree2 = dtree.fit(xtrain2,ytrain).predict(xtest2)\n",
    "dt_accuracy=accuracy_score(ytest,pred_dtree2)\n",
    "dt_kappa=cohen_kappa_score(ytest,pred_dtree2)\n",
    "dt_mcc=matthews_corrcoef(ytest,pred_dtree2)\n",
    "print(\"DecisionTree\")\n",
    "# print(\"Accuracy on test set: {:.2f}\".format(accuracy_score(ytest,pred_dtree2)))\n",
    "# print(\"TheKappa Score is {:.2f}\".format(cohen_kappa_score(ytest,pred_dtree2)))\n",
    "# print(\"The MCC is {:.2f}\".format(matthews_corrcoef(ytest,pred_dtree2)))\n",
    "#################################################################################################\n",
    "# print()\n",
    "print(\"Bagging\")\n",
    "from sklearn.ensemble import BaggingClassifier\n",
    "bagg=BaggingClassifier()\n",
    "pred_bagg=vc.fit(scaled_train,ytrain).predict(scaled_test)\n",
    "bagg_accuracy=accuracy_score(ytest,pred_bagg)\n",
    "bagg_kappa=cohen_kappa_score(ytest,pred_bagg)\n",
    "bagg_mcc=matthews_corrcoef(ytest,pred_bagg)\n",
    "# print(\"The accuracy score is\",accuracy_score(ytest,pred_bagg))\n",
    "# print(\"The Kappa score is\",cohen_kappa_score(ytest,pred_bagg))\n",
    "# print(\"The MCC is\",matthews_corrcoef(ytest,pred_bagg))\n",
    "###############################################################################################\n",
    "\n",
    "## Adaboost\n",
    "# print()\n",
    "print(\"Adaboost\")\n",
    "from sklearn.ensemble import AdaBoostClassifier\n",
    "ada=AdaBoostClassifier()\n",
    "pred_ada=ada.fit(scaled_train,ytrain).predict(scaled_test)\n",
    "ada_accuracy=accuracy_score(ytest,pred_ada)\n",
    "ada_kappa=cohen_kappa_score(ytest,pred_ada)\n",
    "ada_mcc=matthews_corrcoef(ytest,pred_ada)\n",
    "# print(\"The accuracy :\",accuracy_score(ytest,pred_ada))\n",
    "# print(\"The kappa score :\",cohen_kappa_score(ytest,pred_ada))\n",
    "# print(\"The mcc is :\",matthews_corrcoef(ytest,pred_ada))\n",
    "# print()\n",
    "######################################################################################\n",
    "# XGBoost\n",
    "# print()\n",
    "print(\"XGBOOST\")\n",
    "from xgboost.sklearn import XGBRFClassifier\n",
    "xgbc=XGBRFClassifier()\n",
    "pred_xgbc=xgbc.fit(scaled_train,ytrain).predict(scaled_test)\n",
    "xgbc_accuracy=accuracy_score(ytest,pred_xgbc)\n",
    "xgbc_kappa=cohen_kappa_score(ytest,pred_xgbc)\n",
    "xgbc_mcc=matthews_corrcoef(ytest,pred_xgbc)\n",
    "# print(\"The accuracy :\",accuracy_score(ytest,pred_xgbc))\n",
    "# print(\"The kappa score :\",cohen_kappa_score(ytest,pred_xgbc))\n",
    "# print(\"The mcc is :\",matthews_corrcoef(ytest,pred_xgbc))\n",
    "# print()\n",
    "##################################################################################\n",
    "# print()\n",
    "print(\"Voting Classifier\")\n",
    "from sklearn.ensemble import VotingClassifier\n",
    "vc=VotingClassifier(estimators=[(\"GBM\",gbm),(\"DTREE\",dtree),(\"Random Forest\",rf),(\"bagg\",bagg)])\n",
    "pred_vc=vc.fit(scaled_train,ytrain).predict(scaled_test)\n",
    "vc_accuracy=accuracy_score(ytest,pred_vc)\n",
    "vc_kappa=cohen_kappa_score(ytest,pred_vc)\n",
    "vc_mcc=matthews_corrcoef(ytest,pred_vc)\n",
    "# print(\"The accuracy score is\",accuracy_score(ytest,pred_vc))\n",
    "# print(\"The Kappa score is\",cohen_kappa_score(ytest,pred_vc))\n",
    "# print(\"The MCC is\",matthews_corrcoef(ytest,pred_vc))\n",
    "print()\n",
    "##################################################################################\n",
    "\n",
    "\n",
    "\n",
    "test_result={\"KNN\":(knn_accuracy,knn_kappa,knn_mcc),\n",
    "             \"RandomForest\":(rf_accuracy,rf_kappa,rf_mcc),\n",
    "             \"DecisionTree\":(dt_accuracy,dt_kappa,dt_mcc),\n",
    "             \"SVC\":(svc_accuracy,svc_kappa,svc_mcc),\n",
    "             \"Gaussian naive\":(nb_accuracy,nb_kappa,nb_mcc),\n",
    "             \"Bagging Classifier\":(bagg_accuracy,bagg_kappa,bagg_mcc),\n",
    "             \"GradientBoosting\":(gbm_accuracy,gbm_kappa,gbm_mcc),\n",
    "             \"AdaBoost Classifier\":(ada_accuracy,ada_kappa,ada_mcc),\n",
    "             \"XGBOOST Classifier\":(xgbc_accuracy,xgbc_kappa,xgbc_mcc),\n",
    "             \"Voting Classifier\":(vc_accuracy,vc_kappa,vc_mcc)}\n",
    "             \n",
    "pd.DataFrame(test_result,index=[\"Accuracy\",\"Cohen-kappa\",\"MCC\"]).T"
   ]
  },
  {
   "cell_type": "code",
   "execution_count": 247,
   "metadata": {},
   "outputs": [
    {
     "data": {
      "text/html": [
       "<div>\n",
       "<style scoped>\n",
       "    .dataframe tbody tr th:only-of-type {\n",
       "        vertical-align: middle;\n",
       "    }\n",
       "\n",
       "    .dataframe tbody tr th {\n",
       "        vertical-align: top;\n",
       "    }\n",
       "\n",
       "    .dataframe thead th {\n",
       "        text-align: right;\n",
       "    }\n",
       "</style>\n",
       "<table border=\"1\" class=\"dataframe\">\n",
       "  <thead>\n",
       "    <tr style=\"text-align: right;\">\n",
       "      <th></th>\n",
       "      <th>Accuracy</th>\n",
       "      <th>Cohen-kappa</th>\n",
       "      <th>MCC</th>\n",
       "    </tr>\n",
       "  </thead>\n",
       "  <tbody>\n",
       "    <tr>\n",
       "      <th>KNN</th>\n",
       "      <td>0.695358</td>\n",
       "      <td>0.277100</td>\n",
       "      <td>0.287915</td>\n",
       "    </tr>\n",
       "    <tr>\n",
       "      <th>RandomForest</th>\n",
       "      <td>0.787742</td>\n",
       "      <td>0.523970</td>\n",
       "      <td>0.529682</td>\n",
       "    </tr>\n",
       "    <tr>\n",
       "      <th>DecisionTree</th>\n",
       "      <td>0.753042</td>\n",
       "      <td>0.491761</td>\n",
       "      <td>0.491858</td>\n",
       "    </tr>\n",
       "    <tr>\n",
       "      <th>SVC</th>\n",
       "      <td>0.718792</td>\n",
       "      <td>0.278543</td>\n",
       "      <td>0.311362</td>\n",
       "    </tr>\n",
       "    <tr>\n",
       "      <th>Gaussian naive</th>\n",
       "      <td>0.090131</td>\n",
       "      <td>0.023038</td>\n",
       "      <td>0.035377</td>\n",
       "    </tr>\n",
       "    <tr>\n",
       "      <th>Bagging Classifier</th>\n",
       "      <td>0.796755</td>\n",
       "      <td>0.534055</td>\n",
       "      <td>0.544031</td>\n",
       "    </tr>\n",
       "    <tr>\n",
       "      <th>GradientBoosting</th>\n",
       "      <td>0.737269</td>\n",
       "      <td>0.391269</td>\n",
       "      <td>0.400682</td>\n",
       "    </tr>\n",
       "    <tr>\n",
       "      <th>AdaBoost Classifier</th>\n",
       "      <td>0.643533</td>\n",
       "      <td>0.288718</td>\n",
       "      <td>0.294294</td>\n",
       "    </tr>\n",
       "    <tr>\n",
       "      <th>XGBOOST Classifier</th>\n",
       "      <td>0.713835</td>\n",
       "      <td>0.342857</td>\n",
       "      <td>0.350319</td>\n",
       "    </tr>\n",
       "    <tr>\n",
       "      <th>Voting Classifier</th>\n",
       "      <td>0.801262</td>\n",
       "      <td>0.547182</td>\n",
       "      <td>0.556037</td>\n",
       "    </tr>\n",
       "  </tbody>\n",
       "</table>\n",
       "</div>"
      ],
      "text/plain": [
       "                     Accuracy  Cohen-kappa       MCC\n",
       "KNN                  0.695358     0.277100  0.287915\n",
       "RandomForest         0.787742     0.523970  0.529682\n",
       "DecisionTree         0.753042     0.491761  0.491858\n",
       "SVC                  0.718792     0.278543  0.311362\n",
       "Gaussian naive       0.090131     0.023038  0.035377\n",
       "Bagging Classifier   0.796755     0.534055  0.544031\n",
       "GradientBoosting     0.737269     0.391269  0.400682\n",
       "AdaBoost Classifier  0.643533     0.288718  0.294294\n",
       "XGBOOST Classifier   0.713835     0.342857  0.350319\n",
       "Voting Classifier    0.801262     0.547182  0.556037"
      ]
     },
     "execution_count": 247,
     "metadata": {},
     "output_type": "execute_result"
    }
   ],
   "source": [
    "pd.DataFrame(test_result,index=[\"Accuracy\",\"Cohen-kappa\",\"MCC\"]).T"
   ]
  },
  {
   "cell_type": "code",
   "execution_count": 263,
   "metadata": {},
   "outputs": [
    {
     "name": "stdout",
     "output_type": "stream",
     "text": [
      "The accuracy score is 0.7516899504281208\n",
      "The Kappa score is 0.37452699546908075\n",
      "The MCC is 0.4104470270794945\n"
     ]
    }
   ],
   "source": [
    "from sklearn.ensemble import VotingClassifier\n",
    "vc=VotingClassifier(estimators=[(\"KNN\",knn2),(\"DTREE\",dtree2),(\"Random Forest\",rf2),(\"SVC\",svc2)])\n",
    "pred_vc=vc.fit(scaled_train,ytrain).predict(scaled_test)\n",
    "print(\"The accuracy score is\",accuracy_score(ytest,pred_vc))\n",
    "print(\"The Kappa score is\",cohen_kappa_score(ytest,pred_vc))\n",
    "print(\"The MCC is\",matthews_corrcoef(ytest,pred_vc))"
   ]
  },
  {
   "cell_type": "markdown",
   "metadata": {},
   "source": [
    "# Feature Engineering"
   ]
  },
  {
   "cell_type": "code",
   "execution_count": 73,
   "metadata": {},
   "outputs": [
    {
     "data": {
      "text/plain": [
       "(13868, 14)"
      ]
     },
     "execution_count": 73,
     "metadata": {},
     "output_type": "execute_result"
    }
   ],
   "source": [
    "combined.shape"
   ]
  },
  {
   "cell_type": "code",
   "execution_count": 74,
   "metadata": {},
   "outputs": [
    {
     "data": {
      "text/html": [
       "<div>\n",
       "<style scoped>\n",
       "    .dataframe tbody tr th:only-of-type {\n",
       "        vertical-align: middle;\n",
       "    }\n",
       "\n",
       "    .dataframe tbody tr th {\n",
       "        vertical-align: top;\n",
       "    }\n",
       "\n",
       "    .dataframe thead th {\n",
       "        text-align: right;\n",
       "    }\n",
       "</style>\n",
       "<table border=\"1\" class=\"dataframe\">\n",
       "  <thead>\n",
       "    <tr style=\"text-align: right;\">\n",
       "      <th></th>\n",
       "      <th>Restaurant</th>\n",
       "      <th>Location</th>\n",
       "      <th>Cuisines</th>\n",
       "      <th>Average_Cost</th>\n",
       "      <th>Minimum_Order</th>\n",
       "      <th>Rating</th>\n",
       "      <th>Votes</th>\n",
       "      <th>Reviews</th>\n",
       "      <th>Delivery_Time</th>\n",
       "      <th>Min_Order_clean</th>\n",
       "      <th>AvgCost_Clean</th>\n",
       "      <th>Location_Clean</th>\n",
       "      <th>Cuisines_Clean</th>\n",
       "      <th>Rating_Cat</th>\n",
       "    </tr>\n",
       "  </thead>\n",
       "  <tbody>\n",
       "    <tr>\n",
       "      <th>0</th>\n",
       "      <td>ID_6321</td>\n",
       "      <td>FTI College, Law College Road, Pune</td>\n",
       "      <td>Fast Food, Rolls, Burger, Salad, Wraps</td>\n",
       "      <td>₹200</td>\n",
       "      <td>₹50</td>\n",
       "      <td>3.5</td>\n",
       "      <td>12.0</td>\n",
       "      <td>4.0</td>\n",
       "      <td>30 minutes</td>\n",
       "      <td>50</td>\n",
       "      <td>200</td>\n",
       "      <td>Pune</td>\n",
       "      <td>Fast Food</td>\n",
       "      <td>Good</td>\n",
       "    </tr>\n",
       "    <tr>\n",
       "      <th>1</th>\n",
       "      <td>ID_2882</td>\n",
       "      <td>Sector 3, Marathalli</td>\n",
       "      <td>Ice Cream, Desserts</td>\n",
       "      <td>₹100</td>\n",
       "      <td>₹50</td>\n",
       "      <td>3.5</td>\n",
       "      <td>11.0</td>\n",
       "      <td>4.0</td>\n",
       "      <td>30 minutes</td>\n",
       "      <td>50</td>\n",
       "      <td>100</td>\n",
       "      <td>Bangalore</td>\n",
       "      <td>Deserts</td>\n",
       "      <td>Good</td>\n",
       "    </tr>\n",
       "    <tr>\n",
       "      <th>2</th>\n",
       "      <td>ID_1595</td>\n",
       "      <td>Mumbai Central</td>\n",
       "      <td>Italian, Street Food, Fast Food</td>\n",
       "      <td>₹150</td>\n",
       "      <td>₹50</td>\n",
       "      <td>3.6</td>\n",
       "      <td>99.0</td>\n",
       "      <td>30.0</td>\n",
       "      <td>65 minutes</td>\n",
       "      <td>50</td>\n",
       "      <td>150</td>\n",
       "      <td>Mumbai</td>\n",
       "      <td>Mains</td>\n",
       "      <td>Good</td>\n",
       "    </tr>\n",
       "    <tr>\n",
       "      <th>3</th>\n",
       "      <td>ID_5929</td>\n",
       "      <td>Sector 1, Noida</td>\n",
       "      <td>Mughlai, North Indian, Chinese</td>\n",
       "      <td>₹250</td>\n",
       "      <td>₹99</td>\n",
       "      <td>3.7</td>\n",
       "      <td>176.0</td>\n",
       "      <td>95.0</td>\n",
       "      <td>30 minutes</td>\n",
       "      <td>99</td>\n",
       "      <td>250</td>\n",
       "      <td>Noida</td>\n",
       "      <td>Mains</td>\n",
       "      <td>Good</td>\n",
       "    </tr>\n",
       "    <tr>\n",
       "      <th>4</th>\n",
       "      <td>ID_6123</td>\n",
       "      <td>Rmz Centennial, I Gate, Whitefield</td>\n",
       "      <td>Cafe, Beverages</td>\n",
       "      <td>₹200</td>\n",
       "      <td>₹99</td>\n",
       "      <td>3.2</td>\n",
       "      <td>521.0</td>\n",
       "      <td>235.0</td>\n",
       "      <td>65 minutes</td>\n",
       "      <td>99</td>\n",
       "      <td>200</td>\n",
       "      <td>Bangalore</td>\n",
       "      <td>Fast Food</td>\n",
       "      <td>Average</td>\n",
       "    </tr>\n",
       "  </tbody>\n",
       "</table>\n",
       "</div>"
      ],
      "text/plain": [
       "  Restaurant                             Location  \\\n",
       "0    ID_6321  FTI College, Law College Road, Pune   \n",
       "1    ID_2882                 Sector 3, Marathalli   \n",
       "2    ID_1595                       Mumbai Central   \n",
       "3    ID_5929                      Sector 1, Noida   \n",
       "4    ID_6123   Rmz Centennial, I Gate, Whitefield   \n",
       "\n",
       "                                 Cuisines Average_Cost Minimum_Order  Rating  \\\n",
       "0  Fast Food, Rolls, Burger, Salad, Wraps         ₹200           ₹50     3.5   \n",
       "1                     Ice Cream, Desserts         ₹100           ₹50     3.5   \n",
       "2         Italian, Street Food, Fast Food         ₹150           ₹50     3.6   \n",
       "3          Mughlai, North Indian, Chinese         ₹250           ₹99     3.7   \n",
       "4                         Cafe, Beverages         ₹200           ₹99     3.2   \n",
       "\n",
       "   Votes  Reviews Delivery_Time  Min_Order_clean  AvgCost_Clean  \\\n",
       "0   12.0      4.0    30 minutes               50            200   \n",
       "1   11.0      4.0    30 minutes               50            100   \n",
       "2   99.0     30.0    65 minutes               50            150   \n",
       "3  176.0     95.0    30 minutes               99            250   \n",
       "4  521.0    235.0    65 minutes               99            200   \n",
       "\n",
       "  Location_Clean Cuisines_Clean Rating_Cat  \n",
       "0           Pune      Fast Food       Good  \n",
       "1      Bangalore        Deserts       Good  \n",
       "2         Mumbai          Mains       Good  \n",
       "3          Noida          Mains       Good  \n",
       "4      Bangalore      Fast Food    Average  "
      ]
     },
     "execution_count": 74,
     "metadata": {},
     "output_type": "execute_result"
    }
   ],
   "source": [
    "combined.head()"
   ]
  },
  {
   "cell_type": "code",
   "execution_count": 75,
   "metadata": {},
   "outputs": [
    {
     "data": {
      "text/plain": [
       "ID_5538    26\n",
       "ID_7184    25\n",
       "ID_2483    24\n",
       "ID_1209    23\n",
       "ID_4654    23\n",
       "ID_7295    23\n",
       "ID_5321    22\n",
       "ID_4625    21\n",
       "ID_1140    20\n",
       "ID_2301    20\n",
       "ID_7750    20\n",
       "ID_8511    19\n",
       "ID_5708    18\n",
       "ID_7564    17\n",
       "ID_3970    17\n",
       "ID_4906    17\n",
       "ID_188     17\n",
       "ID_720     16\n",
       "ID_7544    16\n",
       "ID_3969    16\n",
       "ID_694     16\n",
       "ID_2542    15\n",
       "ID_6229    14\n",
       "ID_2402    14\n",
       "ID_7260    14\n",
       "ID_5952    13\n",
       "ID_4652    12\n",
       "ID_7501    12\n",
       "ID_5885    12\n",
       "ID_686     12\n",
       "           ..\n",
       "ID_6521     1\n",
       "ID_6741     1\n",
       "ID_4484     1\n",
       "ID_2052     1\n",
       "ID_162      1\n",
       "ID_6777     1\n",
       "ID_3000     1\n",
       "ID_1086     1\n",
       "ID_6669     1\n",
       "ID_4001     1\n",
       "ID_6445     1\n",
       "ID_1955     1\n",
       "ID_4599     1\n",
       "ID_7521     1\n",
       "ID_8632     1\n",
       "ID_192      1\n",
       "ID_7926     1\n",
       "ID_7053     1\n",
       "ID_4368     1\n",
       "ID_8000     1\n",
       "ID_2094     1\n",
       "ID_6082     1\n",
       "ID_3877     1\n",
       "ID_6075     1\n",
       "ID_7090     1\n",
       "ID_740      1\n",
       "ID_7244     1\n",
       "ID_5574     1\n",
       "ID_5713     1\n",
       "ID_6680     1\n",
       "Name: Restaurant, Length: 8661, dtype: int64"
      ]
     },
     "execution_count": 75,
     "metadata": {},
     "output_type": "execute_result"
    }
   ],
   "source": [
    "combined.Restaurant.value_counts()"
   ]
  },
  {
   "cell_type": "code",
   "execution_count": 79,
   "metadata": {},
   "outputs": [],
   "source": [
    "combined[\"rest_count\"]=combined.groupby(\"Restaurant\")[\"Restaurant\"].transform('count')"
   ]
  },
  {
   "cell_type": "code",
   "execution_count": 82,
   "metadata": {},
   "outputs": [
    {
     "data": {
      "text/plain": [
       "count    13868.000000\n",
       "mean         2.883473\n",
       "std          3.707890\n",
       "min          1.000000\n",
       "25%          1.000000\n",
       "50%          2.000000\n",
       "75%          3.000000\n",
       "max         26.000000\n",
       "Name: rest_count, dtype: float64"
      ]
     },
     "execution_count": 82,
     "metadata": {},
     "output_type": "execute_result"
    }
   ],
   "source": [
    "combined[\"rest_count\"].describe()"
   ]
  },
  {
   "cell_type": "code",
   "execution_count": 84,
   "metadata": {},
   "outputs": [],
   "source": [
    "def restcat(x):\n",
    "    if(x>3):\n",
    "        return(\"chain\")\n",
    "    elif((x<=3) & (x>1)):\n",
    "        return(\"Multiple outlets\")\n",
    "    else:\n",
    "         return(\"single outlet\")"
   ]
  },
  {
   "cell_type": "code",
   "execution_count": 86,
   "metadata": {},
   "outputs": [],
   "source": [
    "combined[\"rest_category\"]=combined.rest_count.apply(restcat)"
   ]
  },
  {
   "cell_type": "code",
   "execution_count": 88,
   "metadata": {},
   "outputs": [
    {
     "data": {
      "text/plain": [
       "0       single outlet\n",
       "1               chain\n",
       "2    Multiple outlets\n",
       "3    Multiple outlets\n",
       "4       single outlet\n",
       "Name: rest_category, dtype: object"
      ]
     },
     "execution_count": 88,
     "metadata": {},
     "output_type": "execute_result"
    }
   ],
   "source": [
    "combined[\"rest_category\"].head()"
   ]
  },
  {
   "cell_type": "code",
   "execution_count": 89,
   "metadata": {},
   "outputs": [],
   "source": [
    "# split train test\n",
    "newtrain=combined.loc[:train.shape[0]-1]"
   ]
  },
  {
   "cell_type": "code",
   "execution_count": 90,
   "metadata": {},
   "outputs": [
    {
     "data": {
      "text/plain": [
       "(11094, 16)"
      ]
     },
     "execution_count": 90,
     "metadata": {},
     "output_type": "execute_result"
    }
   ],
   "source": [
    "newtrain.shape"
   ]
  },
  {
   "cell_type": "code",
   "execution_count": 91,
   "metadata": {},
   "outputs": [],
   "source": [
    "newtest=combined.loc[11094:train.shape[0]]"
   ]
  },
  {
   "cell_type": "code",
   "execution_count": 96,
   "metadata": {},
   "outputs": [
    {
     "data": {
      "text/plain": [
       "Restaurant         0\n",
       "Location           0\n",
       "Cuisines           0\n",
       "Average_Cost       0\n",
       "Minimum_Order      0\n",
       "Rating             0\n",
       "Votes              0\n",
       "Reviews            0\n",
       "Delivery_Time      1\n",
       "Min_Order_clean    0\n",
       "AvgCost_Clean      0\n",
       "Location_Clean     0\n",
       "Cuisines_Clean     0\n",
       "Rating_Cat         0\n",
       "rest_count         0\n",
       "rest_category      0\n",
       "dtype: int64"
      ]
     },
     "execution_count": 96,
     "metadata": {},
     "output_type": "execute_result"
    }
   ],
   "source": [
    "newtrain.isnull().sum()"
   ]
  },
  {
   "cell_type": "markdown",
   "metadata": {},
   "source": [
    "### Understanding the Bias and Variance\n",
    "1. the statistical models are high on Bias because these models are not able to capture the pattern well and hence they are underperforming models.\n",
    "2. IN order to remove effect of non lerning of ML algorithms , we need to do a lot of transformations so that the data is as per the ML algo which can help in understanding the pattern well.\n",
    "3. Having Said that the Linear and Logistic Regression are Underfitted models because they run with lots of assumptions about the data and hence are aka parametric test\n",
    "4. AI models such as Decision Trees, Random forest and Ensembles are the Non parametric test in nature as they dont assume anything about the data and they try to capture the pattern well in comparison to linear and Log Reg.\n",
    "5. Decision Tree as a model is just the reverse of the linear and log reg model because as the latter is biased in nature the former usually overfits the model and eventually it returns high accuracy score on Trainning set but is not able to perform on test set and hence it is called overfitting"
   ]
  },
  {
   "cell_type": "code",
   "execution_count": 234,
   "metadata": {},
   "outputs": [
    {
     "name": "stdout",
     "output_type": "stream",
     "text": [
      "SVC\n",
      "Accuracy on test set: 0.72\n",
      "TheKappa Score is 0.28\n",
      "The MCC is 0.31\n",
      "\n"
     ]
    }
   ],
   "source": [
    "from sklearn.svm import SVC\n",
    "svc2 = SVC()\n",
    "pred_svc2 =svc2.fit(xtrain2,ytrain).predict(xtest2)\n",
    "# print(\"Accuracy on training set: {:.2f}\".format(svc.score(scaled_train, ytrain)))\n",
    "svc_accuracy=accuracy_score(ytest,pred_svc2)\n",
    "svc_kappa=cohen_kappa_score(ytest,pred_svc2)\n",
    "svc_mcc=matthews_corrcoef(ytest,pred_svc2)\n",
    "print(\"SVC\")\n",
    "print(\"Accuracy on test set: {:.2f}\".format(svc2.score(xtest2, ytest)))\n",
    "print(\"TheKappa Score is {:.2f}\".format(cohen_kappa_score(ytest,pred_svc2)))\n",
    "print(\"The MCC is {:.2f}\".format(matthews_corrcoef(ytest,pred_svc2)))\n",
    "print()"
   ]
  },
  {
   "cell_type": "code",
   "execution_count": 236,
   "metadata": {},
   "outputs": [
    {
     "name": "stdout",
     "output_type": "stream",
     "text": [
      "Gaussian naive\n",
      "Accuracy on training set: 0.10\n",
      "Accuracy on test set: 0.09\n",
      "TheKappa Score is 0.02\n",
      "The MCC is 0.04\n",
      "\n"
     ]
    }
   ],
   "source": [
    "naiveClassifier2=GaussianNB()\n",
    "pred_naiv2 = naiveClassifier2.fit(xtrain2,ytrain).predict(xtest2)\n",
    "nb_accuracy=naiveClassifier2.score(xtest2, ytest)\n",
    "nb_kappa=cohen_kappa_score(ytest,pred_naiv2)\n",
    "nb_mcc=matthews_corrcoef(ytest,pred_naiv2)\n",
    "print(\"Gaussian naive\")\n",
    "print(\"Accuracy on training set: {:.2f}\".format(naiveClassifier.score(xtrain2, ytrain)))\n",
    "print(\"Accuracy on test set: {:.2f}\".format(naiveClassifier2.score(xtest2, ytest)))\n",
    "print(\"TheKappa Score is {:.2f}\".format(cohen_kappa_score(ytest,pred_naiv2)))\n",
    "print(\"The MCC is {:.2f}\".format(matthews_corrcoef(ytest,pred_naiv2)))\n",
    "print()"
   ]
  },
  {
   "cell_type": "code",
   "execution_count": 241,
   "metadata": {},
   "outputs": [],
   "source": [
    "table=pd.DataFrame(list(ytest),columns=[\"Actual\"])\n",
    "table[\"dtree\"]=pd.DataFrame(pred_dtree2,columns=[\"dtree\"])\n",
    "table[\"rf\"]=pd.DataFrame(pred_rf2,columns=[\"rf\"])\n",
    "table[\"knn\"]=pd.DataFrame(pred_knn2,columns=[\"knn\"])\n",
    "table[\"gbm\"]=pd.DataFrame(pred_gbm2,columns=[\"gbm\"])\n",
    "table[\"svc\"]=pd.DataFrame(pred_svc2,columns=[\"svc\"])\n",
    "table[\"vc\"]=pd.DataFrame(pred_vc,columns=[\"vc\"])\n",
    "table[\"bagg\"]=pd.DataFrame(pred_bagg,columns=[\"bagg\"])\n",
    "table[\"naiv\"]=pd.DataFrame(pred_naiv2,columns=[\"naiv2\"])\n",
    "table[\"ada\"]=pd.DataFrame(pred_ada,columns=[\"ada\"])\n",
    "table[\"xgbc\"]=pd.DataFrame(pred_xgbc,columns=[\"xgbc\"])"
   ]
  },
  {
   "cell_type": "code",
   "execution_count": 242,
   "metadata": {},
   "outputs": [
    {
     "data": {
      "text/html": [
       "<div>\n",
       "<style scoped>\n",
       "    .dataframe tbody tr th:only-of-type {\n",
       "        vertical-align: middle;\n",
       "    }\n",
       "\n",
       "    .dataframe tbody tr th {\n",
       "        vertical-align: top;\n",
       "    }\n",
       "\n",
       "    .dataframe thead th {\n",
       "        text-align: right;\n",
       "    }\n",
       "</style>\n",
       "<table border=\"1\" class=\"dataframe\">\n",
       "  <thead>\n",
       "    <tr style=\"text-align: right;\">\n",
       "      <th></th>\n",
       "      <th>Actual</th>\n",
       "      <th>dtree</th>\n",
       "      <th>rf</th>\n",
       "      <th>knn</th>\n",
       "      <th>gbm</th>\n",
       "      <th>svc</th>\n",
       "      <th>vc</th>\n",
       "      <th>bagg</th>\n",
       "      <th>naiv</th>\n",
       "      <th>ada</th>\n",
       "      <th>xgbc</th>\n",
       "    </tr>\n",
       "  </thead>\n",
       "  <tbody>\n",
       "    <tr>\n",
       "      <th>0</th>\n",
       "      <td>3</td>\n",
       "      <td>5</td>\n",
       "      <td>4</td>\n",
       "      <td>4</td>\n",
       "      <td>3</td>\n",
       "      <td>3</td>\n",
       "      <td>3</td>\n",
       "      <td>3</td>\n",
       "      <td>6</td>\n",
       "      <td>3</td>\n",
       "      <td>3</td>\n",
       "    </tr>\n",
       "    <tr>\n",
       "      <th>1</th>\n",
       "      <td>3</td>\n",
       "      <td>3</td>\n",
       "      <td>3</td>\n",
       "      <td>3</td>\n",
       "      <td>4</td>\n",
       "      <td>3</td>\n",
       "      <td>3</td>\n",
       "      <td>3</td>\n",
       "      <td>6</td>\n",
       "      <td>4</td>\n",
       "      <td>4</td>\n",
       "    </tr>\n",
       "    <tr>\n",
       "      <th>2</th>\n",
       "      <td>3</td>\n",
       "      <td>4</td>\n",
       "      <td>3</td>\n",
       "      <td>3</td>\n",
       "      <td>3</td>\n",
       "      <td>5</td>\n",
       "      <td>3</td>\n",
       "      <td>3</td>\n",
       "      <td>1</td>\n",
       "      <td>4</td>\n",
       "      <td>4</td>\n",
       "    </tr>\n",
       "    <tr>\n",
       "      <th>3</th>\n",
       "      <td>3</td>\n",
       "      <td>3</td>\n",
       "      <td>3</td>\n",
       "      <td>3</td>\n",
       "      <td>3</td>\n",
       "      <td>3</td>\n",
       "      <td>3</td>\n",
       "      <td>3</td>\n",
       "      <td>6</td>\n",
       "      <td>3</td>\n",
       "      <td>3</td>\n",
       "    </tr>\n",
       "    <tr>\n",
       "      <th>4</th>\n",
       "      <td>3</td>\n",
       "      <td>3</td>\n",
       "      <td>3</td>\n",
       "      <td>3</td>\n",
       "      <td>3</td>\n",
       "      <td>3</td>\n",
       "      <td>3</td>\n",
       "      <td>3</td>\n",
       "      <td>2</td>\n",
       "      <td>3</td>\n",
       "      <td>3</td>\n",
       "    </tr>\n",
       "    <tr>\n",
       "      <th>5</th>\n",
       "      <td>3</td>\n",
       "      <td>3</td>\n",
       "      <td>3</td>\n",
       "      <td>3</td>\n",
       "      <td>3</td>\n",
       "      <td>3</td>\n",
       "      <td>3</td>\n",
       "      <td>3</td>\n",
       "      <td>2</td>\n",
       "      <td>3</td>\n",
       "      <td>3</td>\n",
       "    </tr>\n",
       "    <tr>\n",
       "      <th>6</th>\n",
       "      <td>3</td>\n",
       "      <td>4</td>\n",
       "      <td>3</td>\n",
       "      <td>3</td>\n",
       "      <td>3</td>\n",
       "      <td>3</td>\n",
       "      <td>3</td>\n",
       "      <td>3</td>\n",
       "      <td>6</td>\n",
       "      <td>3</td>\n",
       "      <td>3</td>\n",
       "    </tr>\n",
       "    <tr>\n",
       "      <th>7</th>\n",
       "      <td>3</td>\n",
       "      <td>3</td>\n",
       "      <td>3</td>\n",
       "      <td>4</td>\n",
       "      <td>3</td>\n",
       "      <td>3</td>\n",
       "      <td>3</td>\n",
       "      <td>3</td>\n",
       "      <td>2</td>\n",
       "      <td>3</td>\n",
       "      <td>3</td>\n",
       "    </tr>\n",
       "    <tr>\n",
       "      <th>8</th>\n",
       "      <td>3</td>\n",
       "      <td>3</td>\n",
       "      <td>3</td>\n",
       "      <td>3</td>\n",
       "      <td>3</td>\n",
       "      <td>3</td>\n",
       "      <td>3</td>\n",
       "      <td>3</td>\n",
       "      <td>2</td>\n",
       "      <td>3</td>\n",
       "      <td>3</td>\n",
       "    </tr>\n",
       "    <tr>\n",
       "      <th>9</th>\n",
       "      <td>3</td>\n",
       "      <td>3</td>\n",
       "      <td>3</td>\n",
       "      <td>3</td>\n",
       "      <td>3</td>\n",
       "      <td>3</td>\n",
       "      <td>3</td>\n",
       "      <td>3</td>\n",
       "      <td>6</td>\n",
       "      <td>3</td>\n",
       "      <td>3</td>\n",
       "    </tr>\n",
       "    <tr>\n",
       "      <th>10</th>\n",
       "      <td>3</td>\n",
       "      <td>3</td>\n",
       "      <td>3</td>\n",
       "      <td>3</td>\n",
       "      <td>3</td>\n",
       "      <td>3</td>\n",
       "      <td>3</td>\n",
       "      <td>3</td>\n",
       "      <td>3</td>\n",
       "      <td>3</td>\n",
       "      <td>3</td>\n",
       "    </tr>\n",
       "    <tr>\n",
       "      <th>11</th>\n",
       "      <td>4</td>\n",
       "      <td>3</td>\n",
       "      <td>3</td>\n",
       "      <td>3</td>\n",
       "      <td>3</td>\n",
       "      <td>3</td>\n",
       "      <td>3</td>\n",
       "      <td>3</td>\n",
       "      <td>3</td>\n",
       "      <td>3</td>\n",
       "      <td>3</td>\n",
       "    </tr>\n",
       "    <tr>\n",
       "      <th>12</th>\n",
       "      <td>3</td>\n",
       "      <td>4</td>\n",
       "      <td>4</td>\n",
       "      <td>3</td>\n",
       "      <td>3</td>\n",
       "      <td>3</td>\n",
       "      <td>3</td>\n",
       "      <td>4</td>\n",
       "      <td>2</td>\n",
       "      <td>4</td>\n",
       "      <td>3</td>\n",
       "    </tr>\n",
       "    <tr>\n",
       "      <th>13</th>\n",
       "      <td>3</td>\n",
       "      <td>3</td>\n",
       "      <td>3</td>\n",
       "      <td>3</td>\n",
       "      <td>3</td>\n",
       "      <td>3</td>\n",
       "      <td>3</td>\n",
       "      <td>3</td>\n",
       "      <td>1</td>\n",
       "      <td>3</td>\n",
       "      <td>3</td>\n",
       "    </tr>\n",
       "    <tr>\n",
       "      <th>14</th>\n",
       "      <td>3</td>\n",
       "      <td>1</td>\n",
       "      <td>3</td>\n",
       "      <td>3</td>\n",
       "      <td>3</td>\n",
       "      <td>3</td>\n",
       "      <td>3</td>\n",
       "      <td>3</td>\n",
       "      <td>1</td>\n",
       "      <td>3</td>\n",
       "      <td>3</td>\n",
       "    </tr>\n",
       "    <tr>\n",
       "      <th>15</th>\n",
       "      <td>3</td>\n",
       "      <td>3</td>\n",
       "      <td>3</td>\n",
       "      <td>3</td>\n",
       "      <td>3</td>\n",
       "      <td>3</td>\n",
       "      <td>3</td>\n",
       "      <td>3</td>\n",
       "      <td>1</td>\n",
       "      <td>3</td>\n",
       "      <td>3</td>\n",
       "    </tr>\n",
       "    <tr>\n",
       "      <th>16</th>\n",
       "      <td>5</td>\n",
       "      <td>3</td>\n",
       "      <td>3</td>\n",
       "      <td>3</td>\n",
       "      <td>3</td>\n",
       "      <td>3</td>\n",
       "      <td>3</td>\n",
       "      <td>3</td>\n",
       "      <td>6</td>\n",
       "      <td>4</td>\n",
       "      <td>3</td>\n",
       "    </tr>\n",
       "    <tr>\n",
       "      <th>17</th>\n",
       "      <td>3</td>\n",
       "      <td>3</td>\n",
       "      <td>3</td>\n",
       "      <td>3</td>\n",
       "      <td>3</td>\n",
       "      <td>3</td>\n",
       "      <td>3</td>\n",
       "      <td>3</td>\n",
       "      <td>2</td>\n",
       "      <td>3</td>\n",
       "      <td>3</td>\n",
       "    </tr>\n",
       "    <tr>\n",
       "      <th>18</th>\n",
       "      <td>1</td>\n",
       "      <td>1</td>\n",
       "      <td>1</td>\n",
       "      <td>1</td>\n",
       "      <td>1</td>\n",
       "      <td>3</td>\n",
       "      <td>1</td>\n",
       "      <td>1</td>\n",
       "      <td>1</td>\n",
       "      <td>3</td>\n",
       "      <td>3</td>\n",
       "    </tr>\n",
       "    <tr>\n",
       "      <th>19</th>\n",
       "      <td>3</td>\n",
       "      <td>3</td>\n",
       "      <td>3</td>\n",
       "      <td>4</td>\n",
       "      <td>3</td>\n",
       "      <td>3</td>\n",
       "      <td>3</td>\n",
       "      <td>3</td>\n",
       "      <td>1</td>\n",
       "      <td>3</td>\n",
       "      <td>3</td>\n",
       "    </tr>\n",
       "    <tr>\n",
       "      <th>20</th>\n",
       "      <td>3</td>\n",
       "      <td>3</td>\n",
       "      <td>4</td>\n",
       "      <td>4</td>\n",
       "      <td>4</td>\n",
       "      <td>4</td>\n",
       "      <td>3</td>\n",
       "      <td>3</td>\n",
       "      <td>4</td>\n",
       "      <td>6</td>\n",
       "      <td>4</td>\n",
       "    </tr>\n",
       "    <tr>\n",
       "      <th>21</th>\n",
       "      <td>4</td>\n",
       "      <td>4</td>\n",
       "      <td>3</td>\n",
       "      <td>3</td>\n",
       "      <td>4</td>\n",
       "      <td>3</td>\n",
       "      <td>4</td>\n",
       "      <td>4</td>\n",
       "      <td>2</td>\n",
       "      <td>4</td>\n",
       "      <td>3</td>\n",
       "    </tr>\n",
       "    <tr>\n",
       "      <th>22</th>\n",
       "      <td>3</td>\n",
       "      <td>5</td>\n",
       "      <td>5</td>\n",
       "      <td>4</td>\n",
       "      <td>4</td>\n",
       "      <td>4</td>\n",
       "      <td>5</td>\n",
       "      <td>5</td>\n",
       "      <td>4</td>\n",
       "      <td>6</td>\n",
       "      <td>4</td>\n",
       "    </tr>\n",
       "    <tr>\n",
       "      <th>23</th>\n",
       "      <td>3</td>\n",
       "      <td>4</td>\n",
       "      <td>4</td>\n",
       "      <td>4</td>\n",
       "      <td>3</td>\n",
       "      <td>4</td>\n",
       "      <td>3</td>\n",
       "      <td>3</td>\n",
       "      <td>1</td>\n",
       "      <td>3</td>\n",
       "      <td>3</td>\n",
       "    </tr>\n",
       "    <tr>\n",
       "      <th>24</th>\n",
       "      <td>3</td>\n",
       "      <td>3</td>\n",
       "      <td>3</td>\n",
       "      <td>3</td>\n",
       "      <td>3</td>\n",
       "      <td>3</td>\n",
       "      <td>3</td>\n",
       "      <td>3</td>\n",
       "      <td>1</td>\n",
       "      <td>3</td>\n",
       "      <td>3</td>\n",
       "    </tr>\n",
       "    <tr>\n",
       "      <th>25</th>\n",
       "      <td>3</td>\n",
       "      <td>3</td>\n",
       "      <td>3</td>\n",
       "      <td>3</td>\n",
       "      <td>3</td>\n",
       "      <td>3</td>\n",
       "      <td>3</td>\n",
       "      <td>3</td>\n",
       "      <td>6</td>\n",
       "      <td>3</td>\n",
       "      <td>3</td>\n",
       "    </tr>\n",
       "    <tr>\n",
       "      <th>26</th>\n",
       "      <td>3</td>\n",
       "      <td>3</td>\n",
       "      <td>3</td>\n",
       "      <td>3</td>\n",
       "      <td>3</td>\n",
       "      <td>3</td>\n",
       "      <td>3</td>\n",
       "      <td>3</td>\n",
       "      <td>2</td>\n",
       "      <td>3</td>\n",
       "      <td>3</td>\n",
       "    </tr>\n",
       "    <tr>\n",
       "      <th>27</th>\n",
       "      <td>3</td>\n",
       "      <td>3</td>\n",
       "      <td>3</td>\n",
       "      <td>3</td>\n",
       "      <td>3</td>\n",
       "      <td>3</td>\n",
       "      <td>3</td>\n",
       "      <td>3</td>\n",
       "      <td>1</td>\n",
       "      <td>3</td>\n",
       "      <td>3</td>\n",
       "    </tr>\n",
       "    <tr>\n",
       "      <th>28</th>\n",
       "      <td>3</td>\n",
       "      <td>3</td>\n",
       "      <td>3</td>\n",
       "      <td>3</td>\n",
       "      <td>3</td>\n",
       "      <td>3</td>\n",
       "      <td>3</td>\n",
       "      <td>3</td>\n",
       "      <td>2</td>\n",
       "      <td>3</td>\n",
       "      <td>3</td>\n",
       "    </tr>\n",
       "    <tr>\n",
       "      <th>29</th>\n",
       "      <td>4</td>\n",
       "      <td>4</td>\n",
       "      <td>4</td>\n",
       "      <td>3</td>\n",
       "      <td>3</td>\n",
       "      <td>3</td>\n",
       "      <td>4</td>\n",
       "      <td>4</td>\n",
       "      <td>6</td>\n",
       "      <td>4</td>\n",
       "      <td>3</td>\n",
       "    </tr>\n",
       "    <tr>\n",
       "      <th>...</th>\n",
       "      <td>...</td>\n",
       "      <td>...</td>\n",
       "      <td>...</td>\n",
       "      <td>...</td>\n",
       "      <td>...</td>\n",
       "      <td>...</td>\n",
       "      <td>...</td>\n",
       "      <td>...</td>\n",
       "      <td>...</td>\n",
       "      <td>...</td>\n",
       "      <td>...</td>\n",
       "    </tr>\n",
       "    <tr>\n",
       "      <th>2189</th>\n",
       "      <td>3</td>\n",
       "      <td>4</td>\n",
       "      <td>4</td>\n",
       "      <td>3</td>\n",
       "      <td>4</td>\n",
       "      <td>3</td>\n",
       "      <td>4</td>\n",
       "      <td>4</td>\n",
       "      <td>2</td>\n",
       "      <td>3</td>\n",
       "      <td>3</td>\n",
       "    </tr>\n",
       "    <tr>\n",
       "      <th>2190</th>\n",
       "      <td>3</td>\n",
       "      <td>3</td>\n",
       "      <td>3</td>\n",
       "      <td>3</td>\n",
       "      <td>3</td>\n",
       "      <td>3</td>\n",
       "      <td>3</td>\n",
       "      <td>3</td>\n",
       "      <td>6</td>\n",
       "      <td>3</td>\n",
       "      <td>3</td>\n",
       "    </tr>\n",
       "    <tr>\n",
       "      <th>2191</th>\n",
       "      <td>4</td>\n",
       "      <td>3</td>\n",
       "      <td>3</td>\n",
       "      <td>3</td>\n",
       "      <td>3</td>\n",
       "      <td>3</td>\n",
       "      <td>3</td>\n",
       "      <td>3</td>\n",
       "      <td>6</td>\n",
       "      <td>6</td>\n",
       "      <td>4</td>\n",
       "    </tr>\n",
       "    <tr>\n",
       "      <th>2192</th>\n",
       "      <td>3</td>\n",
       "      <td>3</td>\n",
       "      <td>3</td>\n",
       "      <td>3</td>\n",
       "      <td>3</td>\n",
       "      <td>3</td>\n",
       "      <td>3</td>\n",
       "      <td>3</td>\n",
       "      <td>2</td>\n",
       "      <td>3</td>\n",
       "      <td>3</td>\n",
       "    </tr>\n",
       "    <tr>\n",
       "      <th>2193</th>\n",
       "      <td>3</td>\n",
       "      <td>3</td>\n",
       "      <td>3</td>\n",
       "      <td>3</td>\n",
       "      <td>3</td>\n",
       "      <td>3</td>\n",
       "      <td>3</td>\n",
       "      <td>3</td>\n",
       "      <td>2</td>\n",
       "      <td>3</td>\n",
       "      <td>3</td>\n",
       "    </tr>\n",
       "    <tr>\n",
       "      <th>2194</th>\n",
       "      <td>4</td>\n",
       "      <td>4</td>\n",
       "      <td>4</td>\n",
       "      <td>3</td>\n",
       "      <td>4</td>\n",
       "      <td>4</td>\n",
       "      <td>4</td>\n",
       "      <td>4</td>\n",
       "      <td>6</td>\n",
       "      <td>6</td>\n",
       "      <td>4</td>\n",
       "    </tr>\n",
       "    <tr>\n",
       "      <th>2195</th>\n",
       "      <td>3</td>\n",
       "      <td>3</td>\n",
       "      <td>3</td>\n",
       "      <td>3</td>\n",
       "      <td>3</td>\n",
       "      <td>3</td>\n",
       "      <td>3</td>\n",
       "      <td>3</td>\n",
       "      <td>2</td>\n",
       "      <td>3</td>\n",
       "      <td>3</td>\n",
       "    </tr>\n",
       "    <tr>\n",
       "      <th>2196</th>\n",
       "      <td>4</td>\n",
       "      <td>3</td>\n",
       "      <td>3</td>\n",
       "      <td>3</td>\n",
       "      <td>3</td>\n",
       "      <td>3</td>\n",
       "      <td>3</td>\n",
       "      <td>3</td>\n",
       "      <td>2</td>\n",
       "      <td>3</td>\n",
       "      <td>3</td>\n",
       "    </tr>\n",
       "    <tr>\n",
       "      <th>2197</th>\n",
       "      <td>3</td>\n",
       "      <td>3</td>\n",
       "      <td>3</td>\n",
       "      <td>3</td>\n",
       "      <td>3</td>\n",
       "      <td>3</td>\n",
       "      <td>3</td>\n",
       "      <td>3</td>\n",
       "      <td>2</td>\n",
       "      <td>6</td>\n",
       "      <td>3</td>\n",
       "    </tr>\n",
       "    <tr>\n",
       "      <th>2198</th>\n",
       "      <td>3</td>\n",
       "      <td>3</td>\n",
       "      <td>3</td>\n",
       "      <td>3</td>\n",
       "      <td>3</td>\n",
       "      <td>3</td>\n",
       "      <td>3</td>\n",
       "      <td>3</td>\n",
       "      <td>2</td>\n",
       "      <td>3</td>\n",
       "      <td>3</td>\n",
       "    </tr>\n",
       "    <tr>\n",
       "      <th>2199</th>\n",
       "      <td>5</td>\n",
       "      <td>5</td>\n",
       "      <td>5</td>\n",
       "      <td>3</td>\n",
       "      <td>3</td>\n",
       "      <td>3</td>\n",
       "      <td>5</td>\n",
       "      <td>5</td>\n",
       "      <td>6</td>\n",
       "      <td>4</td>\n",
       "      <td>3</td>\n",
       "    </tr>\n",
       "    <tr>\n",
       "      <th>2200</th>\n",
       "      <td>4</td>\n",
       "      <td>4</td>\n",
       "      <td>4</td>\n",
       "      <td>3</td>\n",
       "      <td>4</td>\n",
       "      <td>3</td>\n",
       "      <td>4</td>\n",
       "      <td>4</td>\n",
       "      <td>1</td>\n",
       "      <td>4</td>\n",
       "      <td>3</td>\n",
       "    </tr>\n",
       "    <tr>\n",
       "      <th>2201</th>\n",
       "      <td>3</td>\n",
       "      <td>3</td>\n",
       "      <td>5</td>\n",
       "      <td>5</td>\n",
       "      <td>4</td>\n",
       "      <td>3</td>\n",
       "      <td>3</td>\n",
       "      <td>3</td>\n",
       "      <td>2</td>\n",
       "      <td>4</td>\n",
       "      <td>4</td>\n",
       "    </tr>\n",
       "    <tr>\n",
       "      <th>2202</th>\n",
       "      <td>4</td>\n",
       "      <td>4</td>\n",
       "      <td>3</td>\n",
       "      <td>3</td>\n",
       "      <td>3</td>\n",
       "      <td>3</td>\n",
       "      <td>3</td>\n",
       "      <td>3</td>\n",
       "      <td>2</td>\n",
       "      <td>4</td>\n",
       "      <td>3</td>\n",
       "    </tr>\n",
       "    <tr>\n",
       "      <th>2203</th>\n",
       "      <td>3</td>\n",
       "      <td>3</td>\n",
       "      <td>3</td>\n",
       "      <td>3</td>\n",
       "      <td>3</td>\n",
       "      <td>3</td>\n",
       "      <td>3</td>\n",
       "      <td>3</td>\n",
       "      <td>6</td>\n",
       "      <td>4</td>\n",
       "      <td>3</td>\n",
       "    </tr>\n",
       "    <tr>\n",
       "      <th>2204</th>\n",
       "      <td>4</td>\n",
       "      <td>4</td>\n",
       "      <td>4</td>\n",
       "      <td>4</td>\n",
       "      <td>3</td>\n",
       "      <td>3</td>\n",
       "      <td>4</td>\n",
       "      <td>4</td>\n",
       "      <td>1</td>\n",
       "      <td>3</td>\n",
       "      <td>3</td>\n",
       "    </tr>\n",
       "    <tr>\n",
       "      <th>2205</th>\n",
       "      <td>4</td>\n",
       "      <td>3</td>\n",
       "      <td>3</td>\n",
       "      <td>3</td>\n",
       "      <td>3</td>\n",
       "      <td>3</td>\n",
       "      <td>3</td>\n",
       "      <td>3</td>\n",
       "      <td>2</td>\n",
       "      <td>3</td>\n",
       "      <td>3</td>\n",
       "    </tr>\n",
       "    <tr>\n",
       "      <th>2206</th>\n",
       "      <td>4</td>\n",
       "      <td>4</td>\n",
       "      <td>4</td>\n",
       "      <td>3</td>\n",
       "      <td>4</td>\n",
       "      <td>3</td>\n",
       "      <td>4</td>\n",
       "      <td>3</td>\n",
       "      <td>2</td>\n",
       "      <td>4</td>\n",
       "      <td>4</td>\n",
       "    </tr>\n",
       "    <tr>\n",
       "      <th>2207</th>\n",
       "      <td>3</td>\n",
       "      <td>3</td>\n",
       "      <td>3</td>\n",
       "      <td>3</td>\n",
       "      <td>3</td>\n",
       "      <td>3</td>\n",
       "      <td>3</td>\n",
       "      <td>3</td>\n",
       "      <td>2</td>\n",
       "      <td>3</td>\n",
       "      <td>3</td>\n",
       "    </tr>\n",
       "    <tr>\n",
       "      <th>2208</th>\n",
       "      <td>3</td>\n",
       "      <td>3</td>\n",
       "      <td>3</td>\n",
       "      <td>3</td>\n",
       "      <td>4</td>\n",
       "      <td>3</td>\n",
       "      <td>3</td>\n",
       "      <td>3</td>\n",
       "      <td>6</td>\n",
       "      <td>4</td>\n",
       "      <td>4</td>\n",
       "    </tr>\n",
       "    <tr>\n",
       "      <th>2209</th>\n",
       "      <td>5</td>\n",
       "      <td>3</td>\n",
       "      <td>4</td>\n",
       "      <td>3</td>\n",
       "      <td>4</td>\n",
       "      <td>4</td>\n",
       "      <td>4</td>\n",
       "      <td>3</td>\n",
       "      <td>6</td>\n",
       "      <td>4</td>\n",
       "      <td>4</td>\n",
       "    </tr>\n",
       "    <tr>\n",
       "      <th>2210</th>\n",
       "      <td>3</td>\n",
       "      <td>3</td>\n",
       "      <td>3</td>\n",
       "      <td>3</td>\n",
       "      <td>3</td>\n",
       "      <td>3</td>\n",
       "      <td>3</td>\n",
       "      <td>3</td>\n",
       "      <td>6</td>\n",
       "      <td>3</td>\n",
       "      <td>3</td>\n",
       "    </tr>\n",
       "    <tr>\n",
       "      <th>2211</th>\n",
       "      <td>4</td>\n",
       "      <td>4</td>\n",
       "      <td>4</td>\n",
       "      <td>3</td>\n",
       "      <td>3</td>\n",
       "      <td>3</td>\n",
       "      <td>4</td>\n",
       "      <td>4</td>\n",
       "      <td>1</td>\n",
       "      <td>3</td>\n",
       "      <td>3</td>\n",
       "    </tr>\n",
       "    <tr>\n",
       "      <th>2212</th>\n",
       "      <td>3</td>\n",
       "      <td>3</td>\n",
       "      <td>3</td>\n",
       "      <td>3</td>\n",
       "      <td>3</td>\n",
       "      <td>3</td>\n",
       "      <td>3</td>\n",
       "      <td>3</td>\n",
       "      <td>3</td>\n",
       "      <td>3</td>\n",
       "      <td>3</td>\n",
       "    </tr>\n",
       "    <tr>\n",
       "      <th>2213</th>\n",
       "      <td>3</td>\n",
       "      <td>3</td>\n",
       "      <td>3</td>\n",
       "      <td>3</td>\n",
       "      <td>3</td>\n",
       "      <td>3</td>\n",
       "      <td>3</td>\n",
       "      <td>3</td>\n",
       "      <td>6</td>\n",
       "      <td>3</td>\n",
       "      <td>3</td>\n",
       "    </tr>\n",
       "    <tr>\n",
       "      <th>2214</th>\n",
       "      <td>3</td>\n",
       "      <td>3</td>\n",
       "      <td>3</td>\n",
       "      <td>3</td>\n",
       "      <td>3</td>\n",
       "      <td>3</td>\n",
       "      <td>3</td>\n",
       "      <td>3</td>\n",
       "      <td>2</td>\n",
       "      <td>3</td>\n",
       "      <td>3</td>\n",
       "    </tr>\n",
       "    <tr>\n",
       "      <th>2215</th>\n",
       "      <td>3</td>\n",
       "      <td>3</td>\n",
       "      <td>3</td>\n",
       "      <td>3</td>\n",
       "      <td>3</td>\n",
       "      <td>3</td>\n",
       "      <td>3</td>\n",
       "      <td>3</td>\n",
       "      <td>1</td>\n",
       "      <td>4</td>\n",
       "      <td>3</td>\n",
       "    </tr>\n",
       "    <tr>\n",
       "      <th>2216</th>\n",
       "      <td>4</td>\n",
       "      <td>4</td>\n",
       "      <td>4</td>\n",
       "      <td>3</td>\n",
       "      <td>3</td>\n",
       "      <td>3</td>\n",
       "      <td>4</td>\n",
       "      <td>4</td>\n",
       "      <td>6</td>\n",
       "      <td>3</td>\n",
       "      <td>3</td>\n",
       "    </tr>\n",
       "    <tr>\n",
       "      <th>2217</th>\n",
       "      <td>3</td>\n",
       "      <td>3</td>\n",
       "      <td>3</td>\n",
       "      <td>3</td>\n",
       "      <td>3</td>\n",
       "      <td>3</td>\n",
       "      <td>3</td>\n",
       "      <td>3</td>\n",
       "      <td>1</td>\n",
       "      <td>3</td>\n",
       "      <td>3</td>\n",
       "    </tr>\n",
       "    <tr>\n",
       "      <th>2218</th>\n",
       "      <td>4</td>\n",
       "      <td>3</td>\n",
       "      <td>3</td>\n",
       "      <td>3</td>\n",
       "      <td>3</td>\n",
       "      <td>3</td>\n",
       "      <td>3</td>\n",
       "      <td>3</td>\n",
       "      <td>0</td>\n",
       "      <td>3</td>\n",
       "      <td>3</td>\n",
       "    </tr>\n",
       "  </tbody>\n",
       "</table>\n",
       "<p>2219 rows × 11 columns</p>\n",
       "</div>"
      ],
      "text/plain": [
       "      Actual  dtree  rf  knn  gbm  svc  vc  bagg  naiv  ada  xgbc\n",
       "0          3      5   4    4    3    3   3     3     6    3     3\n",
       "1          3      3   3    3    4    3   3     3     6    4     4\n",
       "2          3      4   3    3    3    5   3     3     1    4     4\n",
       "3          3      3   3    3    3    3   3     3     6    3     3\n",
       "4          3      3   3    3    3    3   3     3     2    3     3\n",
       "5          3      3   3    3    3    3   3     3     2    3     3\n",
       "6          3      4   3    3    3    3   3     3     6    3     3\n",
       "7          3      3   3    4    3    3   3     3     2    3     3\n",
       "8          3      3   3    3    3    3   3     3     2    3     3\n",
       "9          3      3   3    3    3    3   3     3     6    3     3\n",
       "10         3      3   3    3    3    3   3     3     3    3     3\n",
       "11         4      3   3    3    3    3   3     3     3    3     3\n",
       "12         3      4   4    3    3    3   3     4     2    4     3\n",
       "13         3      3   3    3    3    3   3     3     1    3     3\n",
       "14         3      1   3    3    3    3   3     3     1    3     3\n",
       "15         3      3   3    3    3    3   3     3     1    3     3\n",
       "16         5      3   3    3    3    3   3     3     6    4     3\n",
       "17         3      3   3    3    3    3   3     3     2    3     3\n",
       "18         1      1   1    1    1    3   1     1     1    3     3\n",
       "19         3      3   3    4    3    3   3     3     1    3     3\n",
       "20         3      3   4    4    4    4   3     3     4    6     4\n",
       "21         4      4   3    3    4    3   4     4     2    4     3\n",
       "22         3      5   5    4    4    4   5     5     4    6     4\n",
       "23         3      4   4    4    3    4   3     3     1    3     3\n",
       "24         3      3   3    3    3    3   3     3     1    3     3\n",
       "25         3      3   3    3    3    3   3     3     6    3     3\n",
       "26         3      3   3    3    3    3   3     3     2    3     3\n",
       "27         3      3   3    3    3    3   3     3     1    3     3\n",
       "28         3      3   3    3    3    3   3     3     2    3     3\n",
       "29         4      4   4    3    3    3   4     4     6    4     3\n",
       "...      ...    ...  ..  ...  ...  ...  ..   ...   ...  ...   ...\n",
       "2189       3      4   4    3    4    3   4     4     2    3     3\n",
       "2190       3      3   3    3    3    3   3     3     6    3     3\n",
       "2191       4      3   3    3    3    3   3     3     6    6     4\n",
       "2192       3      3   3    3    3    3   3     3     2    3     3\n",
       "2193       3      3   3    3    3    3   3     3     2    3     3\n",
       "2194       4      4   4    3    4    4   4     4     6    6     4\n",
       "2195       3      3   3    3    3    3   3     3     2    3     3\n",
       "2196       4      3   3    3    3    3   3     3     2    3     3\n",
       "2197       3      3   3    3    3    3   3     3     2    6     3\n",
       "2198       3      3   3    3    3    3   3     3     2    3     3\n",
       "2199       5      5   5    3    3    3   5     5     6    4     3\n",
       "2200       4      4   4    3    4    3   4     4     1    4     3\n",
       "2201       3      3   5    5    4    3   3     3     2    4     4\n",
       "2202       4      4   3    3    3    3   3     3     2    4     3\n",
       "2203       3      3   3    3    3    3   3     3     6    4     3\n",
       "2204       4      4   4    4    3    3   4     4     1    3     3\n",
       "2205       4      3   3    3    3    3   3     3     2    3     3\n",
       "2206       4      4   4    3    4    3   4     3     2    4     4\n",
       "2207       3      3   3    3    3    3   3     3     2    3     3\n",
       "2208       3      3   3    3    4    3   3     3     6    4     4\n",
       "2209       5      3   4    3    4    4   4     3     6    4     4\n",
       "2210       3      3   3    3    3    3   3     3     6    3     3\n",
       "2211       4      4   4    3    3    3   4     4     1    3     3\n",
       "2212       3      3   3    3    3    3   3     3     3    3     3\n",
       "2213       3      3   3    3    3    3   3     3     6    3     3\n",
       "2214       3      3   3    3    3    3   3     3     2    3     3\n",
       "2215       3      3   3    3    3    3   3     3     1    4     3\n",
       "2216       4      4   4    3    3    3   4     4     6    3     3\n",
       "2217       3      3   3    3    3    3   3     3     1    3     3\n",
       "2218       4      3   3    3    3    3   3     3     0    3     3\n",
       "\n",
       "[2219 rows x 11 columns]"
      ]
     },
     "execution_count": 242,
     "metadata": {},
     "output_type": "execute_result"
    }
   ],
   "source": [
    "table"
   ]
  }
 ],
 "metadata": {
  "kernelspec": {
   "display_name": "Python 3",
   "language": "python",
   "name": "python3"
  },
  "language_info": {
   "codemirror_mode": {
    "name": "ipython",
    "version": 3
   },
   "file_extension": ".py",
   "mimetype": "text/x-python",
   "name": "python",
   "nbconvert_exporter": "python",
   "pygments_lexer": "ipython3",
   "version": "3.7.3"
  }
 },
 "nbformat": 4,
 "nbformat_minor": 2
}
